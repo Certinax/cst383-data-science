{
 "cells": [
  {
   "cell_type": "markdown",
   "metadata": {},
   "source": [
    "# Predicting Titanic Survivors with Classification Trees"
   ]
  },
  {
   "cell_type": "markdown",
   "metadata": {},
   "source": [
    "#### Mathias Lund Ahrn"
   ]
  },
  {
   "cell_type": "markdown",
   "metadata": {},
   "source": [
    "_This week I want you to produce a report (written as a Jupyter notebook) on predicting whether a passenger would survive the Titanic using classification trees._\n",
    "\n",
    "_Below I give suggestions on the structure of your report, ideas on things you can include, and a little code. My comments are in italics – you should remove them from your report._\n",
    "\n",
    "_In your Jupyter notebook you should show all of your R code._\n",
    "\n",
    "_Have fun – pretend you are a consultant and were hired to do this as a small job._"
   ]
  },
  {
   "cell_type": "markdown",
   "metadata": {},
   "source": [
    "## Introduction\n",
    "_Include a few sentences here describing what you will do.  Include a short description of the data set._"
   ]
  },
  {
   "cell_type": "markdown",
   "metadata": {},
   "source": [
    "In 1912 on April 15th the world witnessed a fatal tragedy, the unsinkable ship Titanic hit a iceberg which led to complete wreckage of the ship. Of all the 2224 people that were onboard, only 710 survived.\n",
    "\n",
    "In this report we will be looking for any pattern(s) or group(s) of people/segments that either were more likely to survive or die.\n",
    "\n",
    "##### Meta\n",
    "- 1309 rows, each represents a person\n",
    "- 12 features\n",
    " - PassengerId\n",
    " - Survived\n",
    " - Pclass\n",
    " - Name\n",
    " - Sex\n",
    " - Age\n",
    " - SibSp\n",
    " - Parch\n",
    " - Ticket\n",
    " - Fare\n",
    " - Cabin\n",
    " - Embarked\n",
    "\n",
    "\n",
    "Feature | Desription | Notes\n",
    "------ | ------ | ------\n",
    "PassengerId || \n",
    "Survived |Survival| 0=no, 1=yes\n",
    "Pclass |Ticket class| 1=1st, 2=2nd, 3=3rd\n",
    "Name |Full name|\n",
    "Sex |Gender|\n",
    "Age ||\n",
    "SibSp ||\n",
    "Parch ||\n",
    "Ticket ||\n",
    "Fare ||\n",
    "Cabin ||\n",
    "Embarked || C = Cherbourg, Q = Queenstown, S = Southampton"
   ]
  },
  {
   "cell_type": "markdown",
   "metadata": {},
   "source": [
    "### What to explore\n",
    "\n",
    "- Ratio of survival based on Ticket Class. Is it higher chance for people with better economoy to survive? Could the reasoning be that higher classed tickets are at a higher level in the ship which leads to a longer timeframe to understand the situation and handle it accordingly?\n",
    "\n",
    "- Percentage survivors for each Ticket Class from each port of embarkation"
   ]
  },
  {
   "cell_type": "code",
   "execution_count": 1,
   "metadata": {},
   "outputs": [],
   "source": [
    "import numpy as np\n",
    "import pandas as pd\n",
    "import matplotlib.pyplot as plt\n",
    "import seaborn as sns        \n",
    "from sklearn.model_selection import train_test_split\n",
    "from sklearn.metrics import confusion_matrix"
   ]
  },
  {
   "cell_type": "markdown",
   "metadata": {},
   "source": [
    "## Reading and preprocessing the data"
   ]
  },
  {
   "cell_type": "markdown",
   "metadata": {},
   "source": [
    "_I'm including preprocessing code so you don't need to spend time on it.  There are interesting choices to be made in preprocessing this data.  One of the main concerns in the preprocessing to eliminate categorical columns that have many values.  If these columns were directly converted into numeric data using dummy variables there would be many columns added, and most of them would not be useful.  For example, the 'Cabin' column contains column numbers, and almost every value in the column is complete.  However, most cabin numbers start with one of a few capital letters, and it appears these letters may be significant._"
   ]
  },
  {
   "cell_type": "code",
   "execution_count": 2,
   "metadata": {},
   "outputs": [
    {
     "name": "stdout",
     "output_type": "stream",
     "text": [
      "(1309, 12)\n",
      "Index(['PassengerId', 'Survived', 'Pclass', 'Name', 'Sex', 'Age', 'SibSp',\n",
      "       'Parch', 'Ticket', 'Fare', 'Cabin', 'Embarked'],\n",
      "      dtype='object')\n",
      "0.00    283\n",
      "0.83      2\n",
      "0.75      2\n",
      "0.67      1\n",
      "0.92      1\n",
      "0.42      1\n",
      "Name: Age, dtype: int64\n",
      "<class 'pandas.core.frame.DataFrame'>\n",
      "Int64Index: 889 entries, 0 to 890\n",
      "Data columns (total 11 columns):\n",
      "Survived    889 non-null int64\n",
      "Pclass      889 non-null object\n",
      "Sex         889 non-null object\n",
      "Age         889 non-null float64\n",
      "SibSp       889 non-null int64\n",
      "Parch       889 non-null object\n",
      "Ticket      889 non-null object\n",
      "Fare        889 non-null object\n",
      "Cabin       889 non-null object\n",
      "Embarked    889 non-null object\n",
      "Title       889 non-null object\n",
      "dtypes: float64(1), int64(2), object(8)\n",
      "memory usage: 83.3+ KB\n"
     ]
    }
   ],
   "source": [
    "input_file = \"https://raw.githubusercontent.com/grbruns/cst383/master/titanic.csv\"\n",
    "df = pd.read_csv(input_file)\n",
    "\n",
    "print(df.shape)\n",
    "print(df.columns)\n",
    "print((df[df[\"Age\"] < 1])[\"Age\"].value_counts())\n",
    "# column PassengerId\n",
    "# a unique numeric passenger ID; not needed\n",
    "df.drop('PassengerId', axis=1, inplace=True)\n",
    "\n",
    "# column Cabin\n",
    "# use only first letter of Cabin\n",
    "df['Cabin'] = df['Cabin'].str.slice(stop=1)\n",
    "df['Cabin'].fillna('U', inplace=True)\n",
    "\n",
    "# column Ticket\n",
    "# use two categories: tickets containing letters and\n",
    "# tickets containing only digits\n",
    "df['Ticket'] = df['Ticket'].str.contains('[a-zA-Z]')\n",
    "\n",
    "# column Embarked\n",
    "# hardly any NA embarked values, so drop rows containing them\n",
    "df.dropna(subset=['Embarked'], inplace=True)\n",
    "\n",
    "# column Name\n",
    "# retain only the title of the name, if present\n",
    "def extract_title(s):\n",
    "    titles = ['Mr.', 'Mrs.', 'Miss.', 'Master.', 'Dr.']\n",
    "    for title in titles:\n",
    "        if title in s:\n",
    "            return title\n",
    "    return 'NoTitle'\n",
    "\n",
    "df['Title'] = df['Name'].apply(extract_title)\n",
    "df.drop('Name', axis=1, inplace=True)\n",
    "\n",
    "# column Age\n",
    "# fill with median value\n",
    "df['Age'].fillna(df['Age'].median(), inplace=True)\n",
    "\n",
    "# confirm that no NA values remain\n",
    "df.isna().mean()\n",
    "df.info()"
   ]
  },
  {
   "cell_type": "markdown",
   "metadata": {},
   "source": [
    "## Data exploration"
   ]
  },
  {
   "cell_type": "markdown",
   "metadata": {},
   "source": [
    "_For data exploration I want you to produce at least a few interesting or relevant plots.  Use your curiousity and think about the columns that may be related to whether someone survived the sinking.  Do not include lengthy text output in your report._"
   ]
  },
  {
   "cell_type": "markdown",
   "metadata": {},
   "source": [
    "#### How many people died/survived depending on the port they embarked from?"
   ]
  },
  {
   "cell_type": "code",
   "execution_count": 209,
   "metadata": {
    "scrolled": false
   },
   "outputs": [
    {
     "name": "stdout",
     "output_type": "stream",
     "text": [
      "<class 'list'>\n",
      "Southampton\n"
     ]
    },
    {
     "data": {
      "image/png": "[encoded data removed]",
      "text/plain": [
       "<Figure size 432x288 with 1 Axes>"
      ]
     },
     "metadata": {
      "needs_background": "light"
     },
     "output_type": "display_data"
    }
   ],
   "source": [
    "surv_plot = sns.countplot(data=df, x=\"Embarked\", hue=\"Survived\")\n",
    "#surv_plot.set_xticklabels([\"Southhampton\", \"Cherbourg\", \"Queensland\"])\n",
    "ports = [\"Southampton\", \"Cherbourg\", \"Queensland\"]\n",
    "org_labels = surv_plot.get_xticklabels()\n",
    "print(type(ports))\n",
    "#for i in range(len(ports)):\n",
    " #   if(p[i], j in range(len(ports) == org_labels[j].get_text()):\n",
    " #      print(\"Hei\")\n",
    "#print(org_labels[i].get_text())\n",
    "\n",
    "new_labels = [(p, l) for p in ports for l in org_labels if l.get_text() == p[0]]\n",
    "print(new_labels[0][0])\n",
    "\n",
    "#surv_plot.set_xticklabels(new_labels)\n",
    "\n",
    "#for label in surv_plot.get_xticklabels():\n",
    "   # if(label.get_text() == (ports[0][0])):\n",
    "    #    surv_plot.set_xticklabels(ports[0][0])\n",
    "\n",
    "#print(surv_plot.get_xticklabels()[0].get_text())\n",
    "plt.title(\"Number of survival by each port\")\n",
    "plt.xlabel(\"Port embarked from\")\n",
    "plt.ylabel(\"# of survivors/deaths\")\n",
    "plt.legend(title=\"Survived\", labels=[\"Died\", \"Survived\"])\n",
    "plt.show()\n"
   ]
  },
  {
   "cell_type": "markdown",
   "metadata": {},
   "source": []
  },
  {
   "cell_type": "markdown",
   "metadata": {},
   "source": [
    "#### What is the ratio of survival depending on the port they embarked from?"
   ]
  },
  {
   "cell_type": "code",
   "execution_count": 102,
   "metadata": {
    "scrolled": false
   },
   "outputs": [
    {
     "data": {
      "image/png": "[encoded data removed]",
      "text/plain": [
       "<Figure size 432x288 with 1 Axes>"
      ]
     },
     "metadata": {
      "needs_background": "light"
     },
     "output_type": "display_data"
    }
   ],
   "source": [
    "def calcSurvival(x):\n",
    "    return x.groupby(\"Survived\").size()/x[\"Embarked\"].shape[0]\n",
    "\n",
    "\n",
    "embar_surv = pd.DataFrame(df.groupby(\"Embarked\").apply(calcSurvival))\n",
    "embar_surv.rename({0:'Died', 1:'Survived'}, axis='columns', inplace=True)\n",
    "ports = [\"Cherbourg\", \"Queenstown\", \"Southampton\"]\n",
    "ax = embar_surv.plot.bar(stacked=True);\n",
    "ax.set_xticklabels([port for port in ports], rotation=-45)\n",
    "ax.set_title(\"Ratio of survival by each port\")\n",
    "ax.set_xlabel(\"Port embarked from\")\n",
    "ax.set_ylabel(\"Ratio of survival\")\n",
    "ax.axhline(y=0.5, xmin=0, xmax=1, color='black', linestyle='--', lw=2)\n",
    "plt.show()"
   ]
  },
  {
   "cell_type": "code",
   "execution_count": null,
   "metadata": {},
   "outputs": [],
   "source": []
  },
  {
   "cell_type": "markdown",
   "metadata": {},
   "source": [
    "## Building a classification tree"
   ]
  },
  {
   "cell_type": "markdown",
   "metadata": {},
   "source": [
    "_In this section you should get your data ready for use with Scikit-Learn by converting categorical variables to numeric variables.  Next you should convert your data to NumPy and then split the data into training and test sets.  Build a classification tree, and produce a plot of the fitted tree._\n",
    "\n",
    "_Do not modify the seed below, which is included for repeatability._"
   ]
  },
  {
   "cell_type": "code",
   "execution_count": 5,
   "metadata": {},
   "outputs": [],
   "source": [
    "np.random.seed(123)"
   ]
  },
  {
   "cell_type": "markdown",
   "metadata": {},
   "source": [
    "## Making predictions and assessing your model"
   ]
  },
  {
   "cell_type": "markdown",
   "metadata": {},
   "source": [
    "_In this section you should produce predictions from the test data. Next you will assess your results.  Minimally you will report your accuracy (success rate), and present a confusion matrix.  Don't forget to compare your accuracy to a baseline accuracy._\n",
    "\n",
    "_Make your own choices about what other diagnostic plots to report._\n",
    "\n",
    "_Note that DecisionTreeClassifier can be used to predict either class labels or probabilities. You can try getting probabilities, and then using some of the diagnostic plots we used with logistic regression. However, I’ve found that some of the plots used with logistic regression, such as ROC plots, don’t work well with rpart._\n",
    "\n",
    "_I would like you to produce a learning curve to try to see if high bias or high variance is a problem. You should use this information in deciding what to do next. (See the System Design lab for code helpful in creating a learning curve.)_"
   ]
  },
  {
   "cell_type": "markdown",
   "metadata": {},
   "source": [
    "## Model 2"
   ]
  },
  {
   "cell_type": "markdown",
   "metadata": {},
   "source": [
    "_Based on what you learned above, you will probably want to build one or more additional models. You should assess additional models similarly to how you assessed your first one._\n",
    "\n",
    "_Some other things you can try include: improving your model by setting the hyperparameters of the decision tree, using grid search with cross validation, and looking at feature importance._"
   ]
  },
  {
   "cell_type": "markdown",
   "metadata": {},
   "source": [
    "## Conclusions"
   ]
  },
  {
   "cell_type": "markdown",
   "metadata": {},
   "source": [
    "_Say a little here about your results.  For example, which predictors were most useful?  How good were your predictions compared to the baseline?_"
   ]
  },
  {
   "cell_type": "code",
   "execution_count": null,
   "metadata": {},
   "outputs": [],
   "source": []
  }
 ],
 "metadata": {
  "kernelspec": {
   "display_name": "Python 3",
   "language": "python",
   "name": "python3"
  },
  "language_info": {
   "codemirror_mode": {
    "name": "ipython",
    "version": 3
   },
   "file_extension": ".py",
   "mimetype": "text/x-python",
   "name": "python",
   "nbconvert_exporter": "python",
   "pygments_lexer": "ipython3",
   "version": "3.7.3"
  }
 },
 "nbformat": 4,
 "nbformat_minor": 2
}
