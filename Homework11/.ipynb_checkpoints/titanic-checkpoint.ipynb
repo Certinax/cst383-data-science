{
 "cells": [
  {
   "cell_type": "markdown",
   "metadata": {},
   "source": [
    "# Predicting Titanic Survivors with Classification Trees"
   ]
  },
  {
   "cell_type": "markdown",
   "metadata": {},
   "source": [
    "#### Mathias Lund Ahrn"
   ]
  },
  {
   "cell_type": "code",
   "execution_count": 29,
   "metadata": {},
   "outputs": [
    {
     "data": {
      "text/html": [
       "<script>\n",
       "code_show=true; \n",
       "function code_toggle() {\n",
       " if (code_show){\n",
       " $('div.input').hide();\n",
       " } else {\n",
       " $('div.input').show();\n",
       " }\n",
       " code_show = !code_show\n",
       "} \n",
       "$( document ).ready(code_toggle);\n",
       "</script>\n",
       "<form action=\"javascript:code_toggle()\"><input type=\"submit\" value=\"Click here to display/hide the code.\"></form>"
      ],
      "text/plain": [
       "<IPython.core.display.HTML object>"
      ]
     },
     "execution_count": 29,
     "metadata": {},
     "output_type": "execute_result"
    }
   ],
   "source": [
    "# code in this cell from: \n",
    "# https://stackoverflow.com/questions/27934885/how-to-hide-code-from-cells-in-ipython-notebook-visualized-with-nbviewer\n",
    "from IPython.display import HTML\n",
    "\n",
    "HTML('''<script>\n",
    "code_show=true; \n",
    "function code_toggle() {\n",
    " if (code_show){\n",
    " $('div.input').hide();\n",
    " } else {\n",
    " $('div.input').show();\n",
    " }\n",
    " code_show = !code_show\n",
    "} \n",
    "$( document ).ready(code_toggle);\n",
    "</script>\n",
    "<form action=\"javascript:code_toggle()\"><input type=\"submit\" value=\"Click here to display/hide the code.\"></form>''')"
   ]
  },
  {
   "cell_type": "markdown",
   "metadata": {},
   "source": [
    "## Introduction"
   ]
  },
  {
   "cell_type": "markdown",
   "metadata": {},
   "source": [
    "In 1912 on April 15th the world witnessed a fatal tragedy, the unsinkable ship Titanic hit a iceberg which led to complete wreckage of the ship. Of all the 2224 people that were onboard, only 710 survived.\n",
    "\n",
    "In this report we will be looking for any pattern(s) or group(s) of people/segments that either were more likely to survive or die.\n",
    "\n",
    "##### Meta\n",
    "- 1309 rows, each represents a person\n",
    "- 12 features\n",
    " - PassengerId\n",
    " - Survived\n",
    " - Pclass\n",
    " - Name\n",
    " - Sex\n",
    " - Age\n",
    " - SibSp\n",
    " - Parch\n",
    " - Ticket\n",
    " - Fare\n",
    " - Cabin\n",
    " - Embarked\n",
    "\n",
    "\n",
    "Feature | Desription | Notes\n",
    "------ | ------ | ------\n",
    "PassengerId || \n",
    "Survived |Survival| 0=no, 1=yes\n",
    "Pclass |Ticket class| 1=1st, 2=2nd, 3=3rd\n",
    "Name |Full name|\n",
    "Sex |Gender|\n",
    "Age ||\n",
    "SibSp ||\n",
    "Parch ||\n",
    "Ticket ||\n",
    "Fare ||\n",
    "Cabin ||\n",
    "Embarked || C = Cherbourg, Q = Queenstown, S = Southampton"
   ]
  },
  {
   "cell_type": "markdown",
   "metadata": {},
   "source": [
    "### What to explore\n",
    "\n",
    "- Survival based on ticket class, gender and what port a passenger embarked from. \n",
    "    - Is it higher chance for people with better economoy to survive? \n",
    "    - Could the reasoning be that higher classed tickets are at a higher level in the ship which leads to a longer timeframe to understand the situation and handle it accordingly?"
   ]
  },
  {
   "cell_type": "code",
   "execution_count": 2,
   "metadata": {},
   "outputs": [],
   "source": [
    "import numpy as np\n",
    "import pandas as pd\n",
    "import matplotlib.pyplot as plt\n",
    "from matplotlib import rcParams\n",
    "import seaborn as sns        \n",
    "from sklearn.model_selection import train_test_split, cross_val_score\n",
    "from sklearn.metrics import confusion_matrix\n",
    "from sklearn.tree import DecisionTreeClassifier\n",
    "sns.set()\n",
    "rcParams['figure.figsize'] = 8,6\n",
    "sns.set_context('talk')"
   ]
  },
  {
   "cell_type": "markdown",
   "metadata": {},
   "source": [
    "## Reading and preprocessing the data"
   ]
  },
  {
   "cell_type": "markdown",
   "metadata": {},
   "source": [
    "In order to work with this dataset, preprocessing of the data needs to be done. For this project Dr. Glenn Bruns has handled this with following steps:\n",
    "- Dropping `passengerId` column, not needed\n",
    "- Updating the `Cabin` column to only have the single first letter\n",
    "- Updating `Ticket` column to only contain two categories, tickets with only digits and with only letters\n",
    "- Removing a few rows of data where `Embarked` is not available (NA)\n",
    "- Removing the `Name` column and instead creating a `Title` column which contain the title from name, if none - `Title` = `\"NoTile\"`\n",
    "- Fill all NA values in `Age` with the median value"
   ]
  },
  {
   "cell_type": "code",
   "execution_count": 3,
   "metadata": {},
   "outputs": [
    {
     "name": "stdout",
     "output_type": "stream",
     "text": [
      "<class 'pandas.core.frame.DataFrame'>\n",
      "Int64Index: 889 entries, 0 to 890\n",
      "Data columns (total 11 columns):\n",
      "Survived    889 non-null int64\n",
      "Pclass      889 non-null object\n",
      "Sex         889 non-null object\n",
      "Age         889 non-null float64\n",
      "SibSp       889 non-null int64\n",
      "Parch       889 non-null object\n",
      "Ticket      889 non-null object\n",
      "Fare        889 non-null object\n",
      "Cabin       889 non-null object\n",
      "Embarked    889 non-null object\n",
      "Title       889 non-null object\n",
      "dtypes: float64(1), int64(2), object(8)\n",
      "memory usage: 83.3+ KB\n"
     ]
    }
   ],
   "source": [
    "input_file = \"https://raw.githubusercontent.com/grbruns/cst383/master/titanic.csv\"\n",
    "df = pd.read_csv(input_file)\n",
    "\n",
    "# column PassengerId\n",
    "# a unique numeric passenger ID; not needed\n",
    "df.drop('PassengerId', axis=1, inplace=True)\n",
    "\n",
    "# column Cabin\n",
    "# use only first letter of Cabin\n",
    "df['Cabin'] = df['Cabin'].str.slice(stop=1)\n",
    "df['Cabin'].fillna('U', inplace=True)\n",
    "\n",
    "# column Ticket\n",
    "# use two categories: tickets containing letters and\n",
    "# tickets containing only digits\n",
    "df['Ticket'] = df['Ticket'].str.contains('[a-zA-Z]')\n",
    "\n",
    "# column Embarked\n",
    "# hardly any NA embarked values, so drop rows containing them\n",
    "df.dropna(subset=['Embarked'], inplace=True)\n",
    "\n",
    "# column Name\n",
    "# retain only the title of the name, if present\n",
    "def extract_title(s):\n",
    "    titles = ['Mr.', 'Mrs.', 'Miss.', 'Master.', 'Dr.']\n",
    "    for title in titles:\n",
    "        if title in s:\n",
    "            return title\n",
    "    return 'NoTitle'\n",
    "\n",
    "df['Title'] = df['Name'].apply(extract_title)\n",
    "df.drop('Name', axis=1, inplace=True)\n",
    "\n",
    "# column Age\n",
    "# fill with median value\n",
    "df['Age'].fillna(df['Age'].median(), inplace=True)\n",
    "\n",
    "# confirm that no NA values remain\n",
    "df.isna().mean()\n",
    "df.info()"
   ]
  },
  {
   "cell_type": "markdown",
   "metadata": {},
   "source": [
    "The preprocessing is done and the result is shown above."
   ]
  },
  {
   "cell_type": "markdown",
   "metadata": {},
   "source": [
    "## Data exploration"
   ]
  },
  {
   "cell_type": "markdown",
   "metadata": {},
   "source": [
    "#### How many people died/survived depending on the port they embarked from?"
   ]
  },
  {
   "cell_type": "code",
   "execution_count": 4,
   "metadata": {
    "scrolled": false
   },
   "outputs": [
    {
     "data": {
      "image/png": "[encoded data removed]",
      "text/plain": [
       "<Figure size 432x288 with 1 Axes>"
      ]
     },
     "metadata": {
      "needs_background": "light"
     },
     "output_type": "display_data"
    }
   ],
   "source": [
    "surv_plot = sns.countplot(data=df, x=\"Embarked\", hue=\"Survived\")\n",
    "surv_plot.set_xticklabels([\"Southhampton\", \"Cherbourg\", \"Queensland\"], rotation=-45)\n",
    "ports = [\"Southampton\", \"Cherbourg\", \"Queensland\"]\n",
    "\n",
    "plt.title(\"Number of survival by each port\")\n",
    "plt.xlabel(\"Port embarked from\")\n",
    "plt.ylabel(\"# of survivors/deaths\")\n",
    "plt.legend(title=\"Survived\", labels=[\"Died\", \"Survived\"])\n",
    "plt.show()\n"
   ]
  },
  {
   "cell_type": "code",
   "execution_count": 5,
   "metadata": {},
   "outputs": [
    {
     "name": "stdout",
     "output_type": "stream",
     "text": [
      "S    644\n",
      "C    168\n",
      "Q     77\n",
      "Name: Embarked, dtype: int64\n"
     ]
    }
   ],
   "source": [
    "print(df[\"Embarked\"].value_counts());"
   ]
  },
  {
   "cell_type": "markdown",
   "metadata": {},
   "source": [
    "By looking at this plot we can see that most people embarked from Southampton followed Cherbourg and Queensland.\n",
    "\n",
    "Number of people embarked from following port:\n",
    "- Southampton: 644\n",
    "- Cherbourg: 168\n",
    "- Queensland: 77\n",
    "\n",
    "The plot shows that roughly 1/3 people of the people embarked from Southampton survived. For the group of people that embarked from port Cherbourg, more than a half survived and more than the half of those who boarded Titanic in Queensland died."
   ]
  },
  {
   "cell_type": "markdown",
   "metadata": {},
   "source": [
    "#### What is the ratio of survival depending on the port they embarked from?"
   ]
  },
  {
   "cell_type": "code",
   "execution_count": 6,
   "metadata": {
    "scrolled": false
   },
   "outputs": [
    {
     "data": {
      "image/png": "[encoded data removed]",
      "text/plain": [
       "<Figure size 432x288 with 1 Axes>"
      ]
     },
     "metadata": {
      "needs_background": "light"
     },
     "output_type": "display_data"
    }
   ],
   "source": [
    "def calcSurvival(x):\n",
    "    return x.groupby(\"Survived\").size()/x[\"Embarked\"].shape[0]\n",
    "\n",
    "\n",
    "embar_surv = pd.DataFrame(df.groupby(\"Embarked\").apply(calcSurvival))\n",
    "embar_surv.rename({0:'Died', 1:'Survived'}, axis='columns', inplace=True)\n",
    "ports = [\"Cherbourg\", \"Queensland\", \"Southampton\"]\n",
    "ax = embar_surv.plot.bar(stacked=True);\n",
    "ax.set_xticklabels([port for port in ports], rotation=-45)\n",
    "ax.set_title(\"Ratio of survival by each port\")\n",
    "ax.set_xlabel(\"Port embarked from\")\n",
    "ax.set_ylabel(\"Ratio of survival\")\n",
    "ax.axhline(y=0.5, xmin=0, xmax=1, color='black', linestyle='--', lw=2)\n",
    "plt.show()"
   ]
  },
  {
   "cell_type": "markdown",
   "metadata": {},
   "source": [
    "From this bar plot, we can more easily see the ratio between death and survival of the groups of people which boarded from each port. Only the group who borded in Cherbourg had more survivor than the others."
   ]
  },
  {
   "cell_type": "markdown",
   "metadata": {},
   "source": [
    "### Survival based on ticketclass"
   ]
  },
  {
   "cell_type": "code",
   "execution_count": 7,
   "metadata": {},
   "outputs": [
    {
     "data": {
      "image/png": "[encoded data removed]",
      "text/plain": [
       "<Figure size 432x288 with 1 Axes>"
      ]
     },
     "metadata": {
      "needs_background": "light"
     },
     "output_type": "display_data"
    }
   ],
   "source": [
    "ax = sns.countplot(data=df, x=\"Pclass\", hue=\"Survived\")\n",
    "plt.title(\"Number of survivor/death by ticket class\")\n",
    "plt.xlabel(\"Ticket class\")\n",
    "plt.ylabel(\"# of passenger\")\n",
    "plt.show()"
   ]
  },
  {
   "cell_type": "code",
   "execution_count": 8,
   "metadata": {
    "scrolled": true
   },
   "outputs": [
    {
     "data": {
      "image/png": "[encoded data removed]",
      "text/plain": [
       "<Figure size 432x288 with 1 Axes>"
      ]
     },
     "metadata": {
      "needs_background": "light"
     },
     "output_type": "display_data"
    }
   ],
   "source": [
    "def percClass(x):\n",
    "    return x.groupby(\"Survived\").size()/x[\"Pclass\"].shape[0]\n",
    "\n",
    "\n",
    "class_surv = pd.DataFrame(df.groupby(\"Pclass\").apply(percClass))\n",
    "ax = class_surv.plot.bar(stacked=True);\n",
    "ax.set_title(\"Ratio of survival by each port\")\n",
    "ax.set_xlabel(\"Ticket class\")\n",
    "ax.set_ylabel(\"Ratio of survival\")\n",
    "ax.axhline(y=0.5, xmin=0, xmax=1, color='black', linestyle='--', lw=2)\n",
    "plt.show()"
   ]
  },
  {
   "cell_type": "markdown",
   "metadata": {},
   "source": [
    "From the plots showing the numbers and ratio of survival based on ticketclass, we can see by a clear margin that people with first class tickets had a way better outcome of this tragedy than any of the other two."
   ]
  },
  {
   "cell_type": "markdown",
   "metadata": {},
   "source": [
    "## Building a classification tree"
   ]
  },
  {
   "cell_type": "code",
   "execution_count": 9,
   "metadata": {},
   "outputs": [],
   "source": [
    "np.random.seed(123)"
   ]
  },
  {
   "cell_type": "markdown",
   "metadata": {},
   "source": [
    "First model, using predictors: `Embarked`, `Pclass`, `Sex`.\n",
    "- Creating dummy variables for all these columns since they are categorical and non-numeric data.\n",
    "- Make a DecisionTressClassifier Model with `max_depth = 5` and fit it"
   ]
  },
  {
   "cell_type": "code",
   "execution_count": 10,
   "metadata": {},
   "outputs": [],
   "source": [
    "predictors = [\"Embarked\", \"Pclass\", \"Sex\"]\n",
    "df1 = pd.get_dummies(df[predictors], columns=[\"Embarked\", 'Sex', \"Pclass\"], drop_first=True)\n",
    "X = df1.values\n",
    "y = df[\"Survived\"].values\n",
    "X_train, X_test, y_train, y_test = train_test_split(X, y, test_size=0.3, random_state=0)\n",
    "clf = DecisionTreeClassifier(max_depth=5, random_state=0);\n",
    "clf.fit(X_train, y_train);"
   ]
  },
  {
   "cell_type": "markdown",
   "metadata": {},
   "source": [
    "### Decision Tree"
   ]
  },
  {
   "cell_type": "markdown",
   "metadata": {},
   "source": [
    "Creating decision tree of the model above."
   ]
  },
  {
   "cell_type": "code",
   "execution_count": 11,
   "metadata": {},
   "outputs": [
    {
     "data": {
      "image/svg+xml": [
       "<?xml version=\"1.0\" encoding=\"UTF-8\" standalone=\"no\"?>\n",
       "<!DOCTYPE svg PUBLIC \"-//W3C//DTD SVG 1.1//EN\"\n",
       " \"http://www.w3.org/Graphics/SVG/1.1/DTD/svg11.dtd\">\n",
       "<!-- Generated by graphviz version 2.40.1 (20161225.0304)\n",
       " -->\n",
       "<!-- Title: Tree Pages: 1 -->\n",
       "<svg width=\"1835pt\" height=\"671pt\"\n",
       " viewBox=\"0.00 0.00 1835.00 671.00\" xmlns=\"http://www.w3.org/2000/svg\" xmlns:xlink=\"http://www.w3.org/1999/xlink\">\n",
       "<g id=\"graph0\" class=\"graph\" transform=\"scale(1 1) rotate(0) translate(4 667)\">\n",
       "<title>Tree</title>\n",
       "<polygon fill=\"#ffffff\" stroke=\"transparent\" points=\"-4,4 -4,-667 1831,-667 1831,4 -4,4\"/>\n",
       "<!-- 0 -->\n",
       "<g id=\"node1\" class=\"node\">\n",
       "<title>0</title>\n",
       "<path fill=\"#f4cbad\" stroke=\"#000000\" d=\"M1084,-663C1084,-663 972,-663 972,-663 966,-663 960,-657 960,-651 960,-651 960,-592 960,-592 960,-586 966,-580 972,-580 972,-580 1084,-580 1084,-580 1090,-580 1096,-586 1096,-592 1096,-592 1096,-651 1096,-651 1096,-657 1090,-663 1084,-663\"/>\n",
       "<text text-anchor=\"start\" x=\"979\" y=\"-647.8\" font-family=\"Helvetica,sans-Serif\" font-size=\"14.00\" fill=\"#000000\">Sex_male ≤ 0.5</text>\n",
       "<text text-anchor=\"start\" x=\"995.5\" y=\"-632.8\" font-family=\"Helvetica,sans-Serif\" font-size=\"14.00\" fill=\"#000000\">gini = 0.47</text>\n",
       "<text text-anchor=\"start\" x=\"970\" y=\"-617.8\" font-family=\"Helvetica,sans-Serif\" font-size=\"14.00\" fill=\"#000000\">samples = 100.0%</text>\n",
       "<text text-anchor=\"start\" x=\"968\" y=\"-602.8\" font-family=\"Helvetica,sans-Serif\" font-size=\"14.00\" fill=\"#000000\">value = [0.63, 0.37]</text>\n",
       "<text text-anchor=\"start\" x=\"989.5\" y=\"-587.8\" font-family=\"Helvetica,sans-Serif\" font-size=\"14.00\" fill=\"#000000\">class = Died</text>\n",
       "</g>\n",
       "<!-- 1 -->\n",
       "<g id=\"node2\" class=\"node\">\n",
       "<title>1</title>\n",
       "<path fill=\"#7fc0ee\" stroke=\"#000000\" d=\"M827,-544C827,-544 715,-544 715,-544 709,-544 703,-538 703,-532 703,-532 703,-473 703,-473 703,-467 709,-461 715,-461 715,-461 827,-461 827,-461 833,-461 839,-467 839,-473 839,-473 839,-532 839,-532 839,-538 833,-544 827,-544\"/>\n",
       "<text text-anchor=\"start\" x=\"725\" y=\"-528.8\" font-family=\"Helvetica,sans-Serif\" font-size=\"14.00\" fill=\"#000000\">Pclass_3 ≤ 0.5</text>\n",
       "<text text-anchor=\"start\" x=\"738.5\" y=\"-513.8\" font-family=\"Helvetica,sans-Serif\" font-size=\"14.00\" fill=\"#000000\">gini = 0.39</text>\n",
       "<text text-anchor=\"start\" x=\"717\" y=\"-498.8\" font-family=\"Helvetica,sans-Serif\" font-size=\"14.00\" fill=\"#000000\">samples = 34.4%</text>\n",
       "<text text-anchor=\"start\" x=\"711\" y=\"-483.8\" font-family=\"Helvetica,sans-Serif\" font-size=\"14.00\" fill=\"#000000\">value = [0.26, 0.74]</text>\n",
       "<text text-anchor=\"start\" x=\"719.5\" y=\"-468.8\" font-family=\"Helvetica,sans-Serif\" font-size=\"14.00\" fill=\"#000000\">class = Survived</text>\n",
       "</g>\n",
       "<!-- 0&#45;&gt;1 -->\n",
       "<g id=\"edge1\" class=\"edge\">\n",
       "<title>0&#45;&gt;1</title>\n",
       "<path fill=\"none\" stroke=\"#000000\" d=\"M959.8034,-589.9226C925.5401,-574.0575 883.879,-554.7669 848.4174,-538.347\"/>\n",
       "<polygon fill=\"#000000\" stroke=\"#000000\" points=\"849.614,-535.0441 839.0689,-534.0183 846.6727,-541.3962 849.614,-535.0441\"/>\n",
       "<text text-anchor=\"middle\" x=\"847.6826\" y=\"-553.7875\" font-family=\"Helvetica,sans-Serif\" font-size=\"14.00\" fill=\"#000000\">True</text>\n",
       "</g>\n",
       "<!-- 16 -->\n",
       "<g id=\"node17\" class=\"node\">\n",
       "<title>16</title>\n",
       "<path fill=\"#eb9c63\" stroke=\"#000000\" d=\"M1292,-544C1292,-544 1180,-544 1180,-544 1174,-544 1168,-538 1168,-532 1168,-532 1168,-473 1168,-473 1168,-467 1174,-461 1180,-461 1180,-461 1292,-461 1292,-461 1298,-461 1304,-467 1304,-473 1304,-473 1304,-532 1304,-532 1304,-538 1298,-544 1292,-544\"/>\n",
       "<text text-anchor=\"start\" x=\"1190\" y=\"-528.8\" font-family=\"Helvetica,sans-Serif\" font-size=\"14.00\" fill=\"#000000\">Pclass_3 ≤ 0.5</text>\n",
       "<text text-anchor=\"start\" x=\"1203.5\" y=\"-513.8\" font-family=\"Helvetica,sans-Serif\" font-size=\"14.00\" fill=\"#000000\">gini = 0.29</text>\n",
       "<text text-anchor=\"start\" x=\"1182\" y=\"-498.8\" font-family=\"Helvetica,sans-Serif\" font-size=\"14.00\" fill=\"#000000\">samples = 65.6%</text>\n",
       "<text text-anchor=\"start\" x=\"1176\" y=\"-483.8\" font-family=\"Helvetica,sans-Serif\" font-size=\"14.00\" fill=\"#000000\">value = [0.82, 0.18]</text>\n",
       "<text text-anchor=\"start\" x=\"1197.5\" y=\"-468.8\" font-family=\"Helvetica,sans-Serif\" font-size=\"14.00\" fill=\"#000000\">class = Died</text>\n",
       "</g>\n",
       "<!-- 0&#45;&gt;16 -->\n",
       "<g id=\"edge16\" class=\"edge\">\n",
       "<title>0&#45;&gt;16</title>\n",
       "<path fill=\"none\" stroke=\"#000000\" d=\"M1096.107,-582.5349C1116.2189,-571.0286 1138.372,-558.3545 1159.0022,-546.5516\"/>\n",
       "<polygon fill=\"#000000\" stroke=\"#000000\" points=\"1160.7982,-549.5565 1167.74,-541.5526 1157.3221,-543.4806 1160.7982,-549.5565\"/>\n",
       "<text text-anchor=\"middle\" x=\"1161.1746\" y=\"-561.9751\" font-family=\"Helvetica,sans-Serif\" font-size=\"14.00\" fill=\"#000000\">False</text>\n",
       "</g>\n",
       "<!-- 2 -->\n",
       "<g id=\"node3\" class=\"node\">\n",
       "<title>2</title>\n",
       "<path fill=\"#45a3e7\" stroke=\"#000000\" d=\"M596,-425C596,-425 484,-425 484,-425 478,-425 472,-419 472,-413 472,-413 472,-354 472,-354 472,-348 478,-342 484,-342 484,-342 596,-342 596,-342 602,-342 608,-348 608,-354 608,-354 608,-413 608,-413 608,-419 602,-425 596,-425\"/>\n",
       "<text text-anchor=\"start\" x=\"494\" y=\"-409.8\" font-family=\"Helvetica,sans-Serif\" font-size=\"14.00\" fill=\"#000000\">Pclass_2 ≤ 0.5</text>\n",
       "<text text-anchor=\"start\" x=\"507.5\" y=\"-394.8\" font-family=\"Helvetica,sans-Serif\" font-size=\"14.00\" fill=\"#000000\">gini = 0.11</text>\n",
       "<text text-anchor=\"start\" x=\"486\" y=\"-379.8\" font-family=\"Helvetica,sans-Serif\" font-size=\"14.00\" fill=\"#000000\">samples = 19.0%</text>\n",
       "<text text-anchor=\"start\" x=\"480\" y=\"-364.8\" font-family=\"Helvetica,sans-Serif\" font-size=\"14.00\" fill=\"#000000\">value = [0.06, 0.94]</text>\n",
       "<text text-anchor=\"start\" x=\"488.5\" y=\"-349.8\" font-family=\"Helvetica,sans-Serif\" font-size=\"14.00\" fill=\"#000000\">class = Survived</text>\n",
       "</g>\n",
       "<!-- 1&#45;&gt;2 -->\n",
       "<g id=\"edge2\" class=\"edge\">\n",
       "<title>1&#45;&gt;2</title>\n",
       "<path fill=\"none\" stroke=\"#000000\" d=\"M702.9418,-467.4397C676.1585,-453.6423 645.2558,-437.7227 617.61,-423.4809\"/>\n",
       "<polygon fill=\"#000000\" stroke=\"#000000\" points=\"618.8626,-420.1891 608.37,-418.7209 615.6569,-426.412 618.8626,-420.1891\"/>\n",
       "</g>\n",
       "<!-- 11 -->\n",
       "<g id=\"node12\" class=\"node\">\n",
       "<title>11</title>\n",
       "<path fill=\"#fefaf7\" stroke=\"#000000\" d=\"M827,-425C827,-425 715,-425 715,-425 709,-425 703,-419 703,-413 703,-413 703,-354 703,-354 703,-348 709,-342 715,-342 715,-342 827,-342 827,-342 833,-342 839,-348 839,-354 839,-354 839,-413 839,-413 839,-419 833,-425 827,-425\"/>\n",
       "<text text-anchor=\"start\" x=\"713\" y=\"-409.8\" font-family=\"Helvetica,sans-Serif\" font-size=\"14.00\" fill=\"#000000\">Embarked_S ≤ 0.5</text>\n",
       "<text text-anchor=\"start\" x=\"742\" y=\"-394.8\" font-family=\"Helvetica,sans-Serif\" font-size=\"14.00\" fill=\"#000000\">gini = 0.5</text>\n",
       "<text text-anchor=\"start\" x=\"717\" y=\"-379.8\" font-family=\"Helvetica,sans-Serif\" font-size=\"14.00\" fill=\"#000000\">samples = 15.4%</text>\n",
       "<text text-anchor=\"start\" x=\"711\" y=\"-364.8\" font-family=\"Helvetica,sans-Serif\" font-size=\"14.00\" fill=\"#000000\">value = [0.51, 0.49]</text>\n",
       "<text text-anchor=\"start\" x=\"732.5\" y=\"-349.8\" font-family=\"Helvetica,sans-Serif\" font-size=\"14.00\" fill=\"#000000\">class = Died</text>\n",
       "</g>\n",
       "<!-- 1&#45;&gt;11 -->\n",
       "<g id=\"edge11\" class=\"edge\">\n",
       "<title>1&#45;&gt;11</title>\n",
       "<path fill=\"none\" stroke=\"#000000\" d=\"M771,-460.8796C771,-452.6838 771,-443.9891 771,-435.5013\"/>\n",
       "<polygon fill=\"#000000\" stroke=\"#000000\" points=\"774.5001,-435.298 771,-425.2981 767.5001,-435.2981 774.5001,-435.298\"/>\n",
       "</g>\n",
       "<!-- 3 -->\n",
       "<g id=\"node4\" class=\"node\">\n",
       "<title>3</title>\n",
       "<path fill=\"#40a0e6\" stroke=\"#000000\" d=\"M347,-306C347,-306 235,-306 235,-306 229,-306 223,-300 223,-294 223,-294 223,-235 223,-235 223,-229 229,-223 235,-223 235,-223 347,-223 347,-223 353,-223 359,-229 359,-235 359,-235 359,-294 359,-294 359,-300 353,-306 347,-306\"/>\n",
       "<text text-anchor=\"start\" x=\"232\" y=\"-290.8\" font-family=\"Helvetica,sans-Serif\" font-size=\"14.00\" fill=\"#000000\">Embarked_Q ≤ 0.5</text>\n",
       "<text text-anchor=\"start\" x=\"258.5\" y=\"-275.8\" font-family=\"Helvetica,sans-Serif\" font-size=\"14.00\" fill=\"#000000\">gini = 0.06</text>\n",
       "<text text-anchor=\"start\" x=\"241\" y=\"-260.8\" font-family=\"Helvetica,sans-Serif\" font-size=\"14.00\" fill=\"#000000\">samples = 9.6%</text>\n",
       "<text text-anchor=\"start\" x=\"231\" y=\"-245.8\" font-family=\"Helvetica,sans-Serif\" font-size=\"14.00\" fill=\"#000000\">value = [0.03, 0.97]</text>\n",
       "<text text-anchor=\"start\" x=\"239.5\" y=\"-230.8\" font-family=\"Helvetica,sans-Serif\" font-size=\"14.00\" fill=\"#000000\">class = Survived</text>\n",
       "</g>\n",
       "<!-- 2&#45;&gt;3 -->\n",
       "<g id=\"edge3\" class=\"edge\">\n",
       "<title>2&#45;&gt;3</title>\n",
       "<path fill=\"none\" stroke=\"#000000\" d=\"M471.9597,-350.9827C439.9764,-335.6975 401.6863,-317.3983 368.5807,-301.5767\"/>\n",
       "<polygon fill=\"#000000\" stroke=\"#000000\" points=\"369.9221,-298.3387 359.3903,-297.1845 366.9037,-304.6545 369.9221,-298.3387\"/>\n",
       "</g>\n",
       "<!-- 8 -->\n",
       "<g id=\"node9\" class=\"node\">\n",
       "<title>8</title>\n",
       "<path fill=\"#4ca6e7\" stroke=\"#000000\" d=\"M596,-306C596,-306 484,-306 484,-306 478,-306 472,-300 472,-294 472,-294 472,-235 472,-235 472,-229 478,-223 484,-223 484,-223 596,-223 596,-223 602,-223 608,-229 608,-235 608,-235 608,-294 608,-294 608,-300 602,-306 596,-306\"/>\n",
       "<text text-anchor=\"start\" x=\"482\" y=\"-290.8\" font-family=\"Helvetica,sans-Serif\" font-size=\"14.00\" fill=\"#000000\">Embarked_S ≤ 0.5</text>\n",
       "<text text-anchor=\"start\" x=\"507.5\" y=\"-275.8\" font-family=\"Helvetica,sans-Serif\" font-size=\"14.00\" fill=\"#000000\">gini = 0.16</text>\n",
       "<text text-anchor=\"start\" x=\"490\" y=\"-260.8\" font-family=\"Helvetica,sans-Serif\" font-size=\"14.00\" fill=\"#000000\">samples = 9.3%</text>\n",
       "<text text-anchor=\"start\" x=\"480\" y=\"-245.8\" font-family=\"Helvetica,sans-Serif\" font-size=\"14.00\" fill=\"#000000\">value = [0.09, 0.91]</text>\n",
       "<text text-anchor=\"start\" x=\"488.5\" y=\"-230.8\" font-family=\"Helvetica,sans-Serif\" font-size=\"14.00\" fill=\"#000000\">class = Survived</text>\n",
       "</g>\n",
       "<!-- 2&#45;&gt;8 -->\n",
       "<g id=\"edge8\" class=\"edge\">\n",
       "<title>2&#45;&gt;8</title>\n",
       "<path fill=\"none\" stroke=\"#000000\" d=\"M540,-341.8796C540,-333.6838 540,-324.9891 540,-316.5013\"/>\n",
       "<polygon fill=\"#000000\" stroke=\"#000000\" points=\"543.5001,-316.298 540,-306.2981 536.5001,-316.2981 543.5001,-316.298\"/>\n",
       "</g>\n",
       "<!-- 4 -->\n",
       "<g id=\"node5\" class=\"node\">\n",
       "<title>4</title>\n",
       "<path fill=\"#40a0e6\" stroke=\"#000000\" d=\"M201,-187C201,-187 89,-187 89,-187 83,-187 77,-181 77,-175 77,-175 77,-116 77,-116 77,-110 83,-104 89,-104 89,-104 201,-104 201,-104 207,-104 213,-110 213,-116 213,-116 213,-175 213,-175 213,-181 207,-187 201,-187\"/>\n",
       "<text text-anchor=\"start\" x=\"87\" y=\"-171.8\" font-family=\"Helvetica,sans-Serif\" font-size=\"14.00\" fill=\"#000000\">Embarked_S ≤ 0.5</text>\n",
       "<text text-anchor=\"start\" x=\"112.5\" y=\"-156.8\" font-family=\"Helvetica,sans-Serif\" font-size=\"14.00\" fill=\"#000000\">gini = 0.07</text>\n",
       "<text text-anchor=\"start\" x=\"95\" y=\"-141.8\" font-family=\"Helvetica,sans-Serif\" font-size=\"14.00\" fill=\"#000000\">samples = 9.5%</text>\n",
       "<text text-anchor=\"start\" x=\"85\" y=\"-126.8\" font-family=\"Helvetica,sans-Serif\" font-size=\"14.00\" fill=\"#000000\">value = [0.03, 0.97]</text>\n",
       "<text text-anchor=\"start\" x=\"93.5\" y=\"-111.8\" font-family=\"Helvetica,sans-Serif\" font-size=\"14.00\" fill=\"#000000\">class = Survived</text>\n",
       "</g>\n",
       "<!-- 3&#45;&gt;4 -->\n",
       "<g id=\"edge4\" class=\"edge\">\n",
       "<title>3&#45;&gt;4</title>\n",
       "<path fill=\"none\" stroke=\"#000000\" d=\"M239.9363,-222.8796C228.4445,-213.513 216.1532,-203.4948 204.355,-193.8784\"/>\n",
       "<polygon fill=\"#000000\" stroke=\"#000000\" points=\"206.2444,-190.903 196.2817,-187.2981 201.8218,-196.329 206.2444,-190.903\"/>\n",
       "</g>\n",
       "<!-- 7 -->\n",
       "<g id=\"node8\" class=\"node\">\n",
       "<title>7</title>\n",
       "<path fill=\"#399de5\" stroke=\"#000000\" d=\"M339,-179.5C339,-179.5 243,-179.5 243,-179.5 237,-179.5 231,-173.5 231,-167.5 231,-167.5 231,-123.5 231,-123.5 231,-117.5 237,-111.5 243,-111.5 243,-111.5 339,-111.5 339,-111.5 345,-111.5 351,-117.5 351,-123.5 351,-123.5 351,-167.5 351,-167.5 351,-173.5 345,-179.5 339,-179.5\"/>\n",
       "<text text-anchor=\"start\" x=\"262\" y=\"-164.3\" font-family=\"Helvetica,sans-Serif\" font-size=\"14.00\" fill=\"#000000\">gini = 0.0</text>\n",
       "<text text-anchor=\"start\" x=\"241\" y=\"-149.3\" font-family=\"Helvetica,sans-Serif\" font-size=\"14.00\" fill=\"#000000\">samples = 0.2%</text>\n",
       "<text text-anchor=\"start\" x=\"239\" y=\"-134.3\" font-family=\"Helvetica,sans-Serif\" font-size=\"14.00\" fill=\"#000000\">value = [0.0, 1.0]</text>\n",
       "<text text-anchor=\"start\" x=\"239.5\" y=\"-119.3\" font-family=\"Helvetica,sans-Serif\" font-size=\"14.00\" fill=\"#000000\">class = Survived</text>\n",
       "</g>\n",
       "<!-- 3&#45;&gt;7 -->\n",
       "<g id=\"edge7\" class=\"edge\">\n",
       "<title>3&#45;&gt;7</title>\n",
       "<path fill=\"none\" stroke=\"#000000\" d=\"M291,-222.8796C291,-212.2134 291,-200.7021 291,-189.9015\"/>\n",
       "<polygon fill=\"#000000\" stroke=\"#000000\" points=\"294.5001,-189.8149 291,-179.8149 287.5001,-189.815 294.5001,-189.8149\"/>\n",
       "</g>\n",
       "<!-- 5 -->\n",
       "<g id=\"node6\" class=\"node\">\n",
       "<title>5</title>\n",
       "<path fill=\"#41a1e6\" stroke=\"#000000\" d=\"M124,-68C124,-68 12,-68 12,-68 6,-68 0,-62 0,-56 0,-56 0,-12 0,-12 0,-6 6,0 12,0 12,0 124,0 124,0 130,0 136,-6 136,-12 136,-12 136,-56 136,-56 136,-62 130,-68 124,-68\"/>\n",
       "<text text-anchor=\"start\" x=\"35.5\" y=\"-52.8\" font-family=\"Helvetica,sans-Serif\" font-size=\"14.00\" fill=\"#000000\">gini = 0.07</text>\n",
       "<text text-anchor=\"start\" x=\"18\" y=\"-37.8\" font-family=\"Helvetica,sans-Serif\" font-size=\"14.00\" fill=\"#000000\">samples = 4.3%</text>\n",
       "<text text-anchor=\"start\" x=\"8\" y=\"-22.8\" font-family=\"Helvetica,sans-Serif\" font-size=\"14.00\" fill=\"#000000\">value = [0.04, 0.96]</text>\n",
       "<text text-anchor=\"start\" x=\"16.5\" y=\"-7.8\" font-family=\"Helvetica,sans-Serif\" font-size=\"14.00\" fill=\"#000000\">class = Survived</text>\n",
       "</g>\n",
       "<!-- 4&#45;&gt;5 -->\n",
       "<g id=\"edge5\" class=\"edge\">\n",
       "<title>4&#45;&gt;5</title>\n",
       "<path fill=\"none\" stroke=\"#000000\" d=\"M116.328,-103.9815C110.1715,-95.0666 103.6557,-85.6313 97.4695,-76.6734\"/>\n",
       "<polygon fill=\"#000000\" stroke=\"#000000\" points=\"100.2245,-74.5034 91.6619,-68.2637 94.4645,-78.4811 100.2245,-74.5034\"/>\n",
       "</g>\n",
       "<!-- 6 -->\n",
       "<g id=\"node7\" class=\"node\">\n",
       "<title>6</title>\n",
       "<path fill=\"#3fa0e6\" stroke=\"#000000\" d=\"M278,-68C278,-68 166,-68 166,-68 160,-68 154,-62 154,-56 154,-56 154,-12 154,-12 154,-6 160,0 166,0 166,0 278,0 278,0 284,0 290,-6 290,-12 290,-12 290,-56 290,-56 290,-62 284,-68 278,-68\"/>\n",
       "<text text-anchor=\"start\" x=\"189.5\" y=\"-52.8\" font-family=\"Helvetica,sans-Serif\" font-size=\"14.00\" fill=\"#000000\">gini = 0.06</text>\n",
       "<text text-anchor=\"start\" x=\"172\" y=\"-37.8\" font-family=\"Helvetica,sans-Serif\" font-size=\"14.00\" fill=\"#000000\">samples = 5.1%</text>\n",
       "<text text-anchor=\"start\" x=\"162\" y=\"-22.8\" font-family=\"Helvetica,sans-Serif\" font-size=\"14.00\" fill=\"#000000\">value = [0.03, 0.97]</text>\n",
       "<text text-anchor=\"start\" x=\"170.5\" y=\"-7.8\" font-family=\"Helvetica,sans-Serif\" font-size=\"14.00\" fill=\"#000000\">class = Survived</text>\n",
       "</g>\n",
       "<!-- 4&#45;&gt;6 -->\n",
       "<g id=\"edge6\" class=\"edge\">\n",
       "<title>4&#45;&gt;6</title>\n",
       "<path fill=\"none\" stroke=\"#000000\" d=\"M173.672,-103.9815C179.8285,-95.0666 186.3443,-85.6313 192.5305,-76.6734\"/>\n",
       "<polygon fill=\"#000000\" stroke=\"#000000\" points=\"195.5355,-78.4811 198.3381,-68.2637 189.7755,-74.5034 195.5355,-78.4811\"/>\n",
       "</g>\n",
       "<!-- 9 -->\n",
       "<g id=\"node10\" class=\"node\">\n",
       "<title>9</title>\n",
       "<path fill=\"#399de5\" stroke=\"#000000\" d=\"M477,-179.5C477,-179.5 381,-179.5 381,-179.5 375,-179.5 369,-173.5 369,-167.5 369,-167.5 369,-123.5 369,-123.5 369,-117.5 375,-111.5 381,-111.5 381,-111.5 477,-111.5 477,-111.5 483,-111.5 489,-117.5 489,-123.5 489,-123.5 489,-167.5 489,-167.5 489,-173.5 483,-179.5 477,-179.5\"/>\n",
       "<text text-anchor=\"start\" x=\"400\" y=\"-164.3\" font-family=\"Helvetica,sans-Serif\" font-size=\"14.00\" fill=\"#000000\">gini = 0.0</text>\n",
       "<text text-anchor=\"start\" x=\"379\" y=\"-149.3\" font-family=\"Helvetica,sans-Serif\" font-size=\"14.00\" fill=\"#000000\">samples = 1.4%</text>\n",
       "<text text-anchor=\"start\" x=\"377\" y=\"-134.3\" font-family=\"Helvetica,sans-Serif\" font-size=\"14.00\" fill=\"#000000\">value = [0.0, 1.0]</text>\n",
       "<text text-anchor=\"start\" x=\"377.5\" y=\"-119.3\" font-family=\"Helvetica,sans-Serif\" font-size=\"14.00\" fill=\"#000000\">class = Survived</text>\n",
       "</g>\n",
       "<!-- 8&#45;&gt;9 -->\n",
       "<g id=\"edge9\" class=\"edge\">\n",
       "<title>8&#45;&gt;9</title>\n",
       "<path fill=\"none\" stroke=\"#000000\" d=\"M501.1776,-222.8796C490.4079,-211.3337 478.7146,-198.7976 467.9383,-187.2446\"/>\n",
       "<polygon fill=\"#000000\" stroke=\"#000000\" points=\"470.3885,-184.7402 461.008,-179.8149 465.2697,-189.5149 470.3885,-184.7402\"/>\n",
       "</g>\n",
       "<!-- 10 -->\n",
       "<g id=\"node11\" class=\"node\">\n",
       "<title>10</title>\n",
       "<path fill=\"#50a8e8\" stroke=\"#000000\" d=\"M615,-179.5C615,-179.5 519,-179.5 519,-179.5 513,-179.5 507,-173.5 507,-167.5 507,-167.5 507,-123.5 507,-123.5 507,-117.5 513,-111.5 519,-111.5 519,-111.5 615,-111.5 615,-111.5 621,-111.5 627,-117.5 627,-123.5 627,-123.5 627,-167.5 627,-167.5 627,-173.5 621,-179.5 615,-179.5\"/>\n",
       "<text text-anchor=\"start\" x=\"534.5\" y=\"-164.3\" font-family=\"Helvetica,sans-Serif\" font-size=\"14.00\" fill=\"#000000\">gini = 0.18</text>\n",
       "<text text-anchor=\"start\" x=\"517\" y=\"-149.3\" font-family=\"Helvetica,sans-Serif\" font-size=\"14.00\" fill=\"#000000\">samples = 7.9%</text>\n",
       "<text text-anchor=\"start\" x=\"515\" y=\"-134.3\" font-family=\"Helvetica,sans-Serif\" font-size=\"14.00\" fill=\"#000000\">value = [0.1, 0.9]</text>\n",
       "<text text-anchor=\"start\" x=\"515.5\" y=\"-119.3\" font-family=\"Helvetica,sans-Serif\" font-size=\"14.00\" fill=\"#000000\">class = Survived</text>\n",
       "</g>\n",
       "<!-- 8&#45;&gt;10 -->\n",
       "<g id=\"edge10\" class=\"edge\">\n",
       "<title>8&#45;&gt;10</title>\n",
       "<path fill=\"none\" stroke=\"#000000\" d=\"M549.4433,-222.8796C551.8883,-212.1034 554.529,-200.4647 557.0014,-189.5677\"/>\n",
       "<polygon fill=\"#000000\" stroke=\"#000000\" points=\"560.4148,-190.3415 559.2143,-179.8149 553.5883,-188.7926 560.4148,-190.3415\"/>\n",
       "</g>\n",
       "<!-- 12 -->\n",
       "<g id=\"node13\" class=\"node\">\n",
       "<title>12</title>\n",
       "<path fill=\"#7bbeee\" stroke=\"#000000\" d=\"M788,-306C788,-306 676,-306 676,-306 670,-306 664,-300 664,-294 664,-294 664,-235 664,-235 664,-229 670,-223 676,-223 676,-223 788,-223 788,-223 794,-223 800,-229 800,-235 800,-235 800,-294 800,-294 800,-300 794,-306 788,-306\"/>\n",
       "<text text-anchor=\"start\" x=\"673\" y=\"-290.8\" font-family=\"Helvetica,sans-Serif\" font-size=\"14.00\" fill=\"#000000\">Embarked_Q ≤ 0.5</text>\n",
       "<text text-anchor=\"start\" x=\"699.5\" y=\"-275.8\" font-family=\"Helvetica,sans-Serif\" font-size=\"14.00\" fill=\"#000000\">gini = 0.38</text>\n",
       "<text text-anchor=\"start\" x=\"682\" y=\"-260.8\" font-family=\"Helvetica,sans-Serif\" font-size=\"14.00\" fill=\"#000000\">samples = 5.8%</text>\n",
       "<text text-anchor=\"start\" x=\"672\" y=\"-245.8\" font-family=\"Helvetica,sans-Serif\" font-size=\"14.00\" fill=\"#000000\">value = [0.25, 0.75]</text>\n",
       "<text text-anchor=\"start\" x=\"680.5\" y=\"-230.8\" font-family=\"Helvetica,sans-Serif\" font-size=\"14.00\" fill=\"#000000\">class = Survived</text>\n",
       "</g>\n",
       "<!-- 11&#45;&gt;12 -->\n",
       "<g id=\"edge12\" class=\"edge\">\n",
       "<title>11&#45;&gt;12</title>\n",
       "<path fill=\"none\" stroke=\"#000000\" d=\"M757.3597,-341.8796C754.6147,-333.5037 751.6988,-324.6067 748.8591,-315.942\"/>\n",
       "<polygon fill=\"#000000\" stroke=\"#000000\" points=\"752.1389,-314.7107 745.6985,-306.2981 745.487,-316.8908 752.1389,-314.7107\"/>\n",
       "</g>\n",
       "<!-- 15 -->\n",
       "<g id=\"node16\" class=\"node\">\n",
       "<title>15</title>\n",
       "<path fill=\"#f2c09c\" stroke=\"#000000\" d=\"M942,-298.5C942,-298.5 830,-298.5 830,-298.5 824,-298.5 818,-292.5 818,-286.5 818,-286.5 818,-242.5 818,-242.5 818,-236.5 824,-230.5 830,-230.5 830,-230.5 942,-230.5 942,-230.5 948,-230.5 954,-236.5 954,-242.5 954,-242.5 954,-286.5 954,-286.5 954,-292.5 948,-298.5 942,-298.5\"/>\n",
       "<text text-anchor=\"start\" x=\"853.5\" y=\"-283.3\" font-family=\"Helvetica,sans-Serif\" font-size=\"14.00\" fill=\"#000000\">gini = 0.44</text>\n",
       "<text text-anchor=\"start\" x=\"836\" y=\"-268.3\" font-family=\"Helvetica,sans-Serif\" font-size=\"14.00\" fill=\"#000000\">samples = 9.6%</text>\n",
       "<text text-anchor=\"start\" x=\"826\" y=\"-253.3\" font-family=\"Helvetica,sans-Serif\" font-size=\"14.00\" fill=\"#000000\">value = [0.67, 0.33]</text>\n",
       "<text text-anchor=\"start\" x=\"847.5\" y=\"-238.3\" font-family=\"Helvetica,sans-Serif\" font-size=\"14.00\" fill=\"#000000\">class = Died</text>\n",
       "</g>\n",
       "<!-- 11&#45;&gt;15 -->\n",
       "<g id=\"edge15\" class=\"edge\">\n",
       "<title>11&#45;&gt;15</title>\n",
       "<path fill=\"none\" stroke=\"#000000\" d=\"M811.2214,-341.8796C822.3792,-330.3337 834.4939,-317.7976 845.6586,-306.2446\"/>\n",
       "<polygon fill=\"#000000\" stroke=\"#000000\" points=\"848.4061,-308.4381 852.8385,-298.8149 843.3725,-303.5736 848.4061,-308.4381\"/>\n",
       "</g>\n",
       "<!-- 13 -->\n",
       "<g id=\"node14\" class=\"node\">\n",
       "<title>13</title>\n",
       "<path fill=\"#bddef6\" stroke=\"#000000\" d=\"M753,-179.5C753,-179.5 657,-179.5 657,-179.5 651,-179.5 645,-173.5 645,-167.5 645,-167.5 645,-123.5 645,-123.5 645,-117.5 651,-111.5 657,-111.5 657,-111.5 753,-111.5 753,-111.5 759,-111.5 765,-117.5 765,-123.5 765,-123.5 765,-167.5 765,-167.5 765,-173.5 759,-179.5 753,-179.5\"/>\n",
       "<text text-anchor=\"start\" x=\"672.5\" y=\"-164.3\" font-family=\"Helvetica,sans-Serif\" font-size=\"14.00\" fill=\"#000000\">gini = 0.48</text>\n",
       "<text text-anchor=\"start\" x=\"655\" y=\"-149.3\" font-family=\"Helvetica,sans-Serif\" font-size=\"14.00\" fill=\"#000000\">samples = 2.4%</text>\n",
       "<text text-anchor=\"start\" x=\"653\" y=\"-134.3\" font-family=\"Helvetica,sans-Serif\" font-size=\"14.00\" fill=\"#000000\">value = [0.4, 0.6]</text>\n",
       "<text text-anchor=\"start\" x=\"653.5\" y=\"-119.3\" font-family=\"Helvetica,sans-Serif\" font-size=\"14.00\" fill=\"#000000\">class = Survived</text>\n",
       "</g>\n",
       "<!-- 12&#45;&gt;13 -->\n",
       "<g id=\"edge13\" class=\"edge\">\n",
       "<title>12&#45;&gt;13</title>\n",
       "<path fill=\"none\" stroke=\"#000000\" d=\"M722.5567,-222.8796C720.1117,-212.1034 717.471,-200.4647 714.9986,-189.5677\"/>\n",
       "<polygon fill=\"#000000\" stroke=\"#000000\" points=\"718.4117,-188.7926 712.7857,-179.8149 711.5852,-190.3415 718.4117,-188.7926\"/>\n",
       "</g>\n",
       "<!-- 14 -->\n",
       "<g id=\"node15\" class=\"node\">\n",
       "<title>14</title>\n",
       "<path fill=\"#5aade9\" stroke=\"#000000\" d=\"M907,-179.5C907,-179.5 795,-179.5 795,-179.5 789,-179.5 783,-173.5 783,-167.5 783,-167.5 783,-123.5 783,-123.5 783,-117.5 789,-111.5 795,-111.5 795,-111.5 907,-111.5 907,-111.5 913,-111.5 919,-117.5 919,-123.5 919,-123.5 919,-167.5 919,-167.5 919,-173.5 913,-179.5 907,-179.5\"/>\n",
       "<text text-anchor=\"start\" x=\"818.5\" y=\"-164.3\" font-family=\"Helvetica,sans-Serif\" font-size=\"14.00\" fill=\"#000000\">gini = 0.24</text>\n",
       "<text text-anchor=\"start\" x=\"801\" y=\"-149.3\" font-family=\"Helvetica,sans-Serif\" font-size=\"14.00\" fill=\"#000000\">samples = 3.4%</text>\n",
       "<text text-anchor=\"start\" x=\"791\" y=\"-134.3\" font-family=\"Helvetica,sans-Serif\" font-size=\"14.00\" fill=\"#000000\">value = [0.14, 0.86]</text>\n",
       "<text text-anchor=\"start\" x=\"799.5\" y=\"-119.3\" font-family=\"Helvetica,sans-Serif\" font-size=\"14.00\" fill=\"#000000\">class = Survived</text>\n",
       "</g>\n",
       "<!-- 12&#45;&gt;14 -->\n",
       "<g id=\"edge14\" class=\"edge\">\n",
       "<title>12&#45;&gt;14</title>\n",
       "<path fill=\"none\" stroke=\"#000000\" d=\"M773.6204,-222.8796C785.2763,-211.2237 797.9413,-198.5587 809.5852,-186.9148\"/>\n",
       "<polygon fill=\"#000000\" stroke=\"#000000\" points=\"812.0889,-189.3609 816.6851,-179.8149 807.1391,-184.4111 812.0889,-189.3609\"/>\n",
       "</g>\n",
       "<!-- 17 -->\n",
       "<g id=\"node18\" class=\"node\">\n",
       "<title>17</title>\n",
       "<path fill=\"#eda978\" stroke=\"#000000\" d=\"M1292,-425C1292,-425 1180,-425 1180,-425 1174,-425 1168,-419 1168,-413 1168,-413 1168,-354 1168,-354 1168,-348 1174,-342 1180,-342 1180,-342 1292,-342 1292,-342 1298,-342 1304,-348 1304,-354 1304,-354 1304,-413 1304,-413 1304,-419 1298,-425 1292,-425\"/>\n",
       "<text text-anchor=\"start\" x=\"1190\" y=\"-409.8\" font-family=\"Helvetica,sans-Serif\" font-size=\"14.00\" fill=\"#000000\">Pclass_2 ≤ 0.5</text>\n",
       "<text text-anchor=\"start\" x=\"1203.5\" y=\"-394.8\" font-family=\"Helvetica,sans-Serif\" font-size=\"14.00\" fill=\"#000000\">gini = 0.37</text>\n",
       "<text text-anchor=\"start\" x=\"1182\" y=\"-379.8\" font-family=\"Helvetica,sans-Serif\" font-size=\"14.00\" fill=\"#000000\">samples = 25.9%</text>\n",
       "<text text-anchor=\"start\" x=\"1176\" y=\"-364.8\" font-family=\"Helvetica,sans-Serif\" font-size=\"14.00\" fill=\"#000000\">value = [0.76, 0.24]</text>\n",
       "<text text-anchor=\"start\" x=\"1197.5\" y=\"-349.8\" font-family=\"Helvetica,sans-Serif\" font-size=\"14.00\" fill=\"#000000\">class = Died</text>\n",
       "</g>\n",
       "<!-- 16&#45;&gt;17 -->\n",
       "<g id=\"edge17\" class=\"edge\">\n",
       "<title>16&#45;&gt;17</title>\n",
       "<path fill=\"none\" stroke=\"#000000\" d=\"M1236,-460.8796C1236,-452.6838 1236,-443.9891 1236,-435.5013\"/>\n",
       "<polygon fill=\"#000000\" stroke=\"#000000\" points=\"1239.5001,-435.298 1236,-425.2981 1232.5001,-435.2981 1239.5001,-435.298\"/>\n",
       "</g>\n",
       "<!-- 28 -->\n",
       "<g id=\"node29\" class=\"node\">\n",
       "<title>28</title>\n",
       "<path fill=\"#e99458\" stroke=\"#000000\" d=\"M1661,-425C1661,-425 1549,-425 1549,-425 1543,-425 1537,-419 1537,-413 1537,-413 1537,-354 1537,-354 1537,-348 1543,-342 1549,-342 1549,-342 1661,-342 1661,-342 1667,-342 1673,-348 1673,-354 1673,-354 1673,-413 1673,-413 1673,-419 1667,-425 1661,-425\"/>\n",
       "<text text-anchor=\"start\" x=\"1547\" y=\"-409.8\" font-family=\"Helvetica,sans-Serif\" font-size=\"14.00\" fill=\"#000000\">Embarked_S ≤ 0.5</text>\n",
       "<text text-anchor=\"start\" x=\"1572.5\" y=\"-394.8\" font-family=\"Helvetica,sans-Serif\" font-size=\"14.00\" fill=\"#000000\">gini = 0.23</text>\n",
       "<text text-anchor=\"start\" x=\"1551\" y=\"-379.8\" font-family=\"Helvetica,sans-Serif\" font-size=\"14.00\" fill=\"#000000\">samples = 39.7%</text>\n",
       "<text text-anchor=\"start\" x=\"1545\" y=\"-364.8\" font-family=\"Helvetica,sans-Serif\" font-size=\"14.00\" fill=\"#000000\">value = [0.87, 0.13]</text>\n",
       "<text text-anchor=\"start\" x=\"1566.5\" y=\"-349.8\" font-family=\"Helvetica,sans-Serif\" font-size=\"14.00\" fill=\"#000000\">class = Died</text>\n",
       "</g>\n",
       "<!-- 16&#45;&gt;28 -->\n",
       "<g id=\"edge28\" class=\"edge\">\n",
       "<title>16&#45;&gt;28</title>\n",
       "<path fill=\"none\" stroke=\"#000000\" d=\"M1304.1103,-480.5349C1367.3267,-460.148 1461.3555,-429.8244 1527.4353,-408.5141\"/>\n",
       "<polygon fill=\"#000000\" stroke=\"#000000\" points=\"1528.532,-411.838 1536.975,-405.4376 1526.3834,-405.1759 1528.532,-411.838\"/>\n",
       "</g>\n",
       "<!-- 18 -->\n",
       "<g id=\"node19\" class=\"node\">\n",
       "<title>18</title>\n",
       "<path fill=\"#f3c7a7\" stroke=\"#000000\" d=\"M1215,-306C1215,-306 1103,-306 1103,-306 1097,-306 1091,-300 1091,-294 1091,-294 1091,-235 1091,-235 1091,-229 1097,-223 1103,-223 1103,-223 1215,-223 1215,-223 1221,-223 1227,-229 1227,-235 1227,-235 1227,-294 1227,-294 1227,-300 1221,-306 1215,-306\"/>\n",
       "<text text-anchor=\"start\" x=\"1101\" y=\"-290.8\" font-family=\"Helvetica,sans-Serif\" font-size=\"14.00\" fill=\"#000000\">Embarked_S ≤ 0.5</text>\n",
       "<text text-anchor=\"start\" x=\"1126.5\" y=\"-275.8\" font-family=\"Helvetica,sans-Serif\" font-size=\"14.00\" fill=\"#000000\">gini = 0.46</text>\n",
       "<text text-anchor=\"start\" x=\"1105\" y=\"-260.8\" font-family=\"Helvetica,sans-Serif\" font-size=\"14.00\" fill=\"#000000\">samples = 13.5%</text>\n",
       "<text text-anchor=\"start\" x=\"1099\" y=\"-245.8\" font-family=\"Helvetica,sans-Serif\" font-size=\"14.00\" fill=\"#000000\">value = [0.64, 0.36]</text>\n",
       "<text text-anchor=\"start\" x=\"1120.5\" y=\"-230.8\" font-family=\"Helvetica,sans-Serif\" font-size=\"14.00\" fill=\"#000000\">class = Died</text>\n",
       "</g>\n",
       "<!-- 17&#45;&gt;18 -->\n",
       "<g id=\"edge18\" class=\"edge\">\n",
       "<title>17&#45;&gt;18</title>\n",
       "<path fill=\"none\" stroke=\"#000000\" d=\"M1209.0691,-341.8796C1203.4163,-333.1434 1197.3967,-323.8404 1191.5634,-314.8253\"/>\n",
       "<polygon fill=\"#000000\" stroke=\"#000000\" points=\"1194.4169,-312.7924 1186.0458,-306.2981 1188.5399,-316.5952 1194.4169,-312.7924\"/>\n",
       "</g>\n",
       "<!-- 23 -->\n",
       "<g id=\"node24\" class=\"node\">\n",
       "<title>23</title>\n",
       "<path fill=\"#e89253\" stroke=\"#000000\" d=\"M1369,-306C1369,-306 1257,-306 1257,-306 1251,-306 1245,-300 1245,-294 1245,-294 1245,-235 1245,-235 1245,-229 1251,-223 1257,-223 1257,-223 1369,-223 1369,-223 1375,-223 1381,-229 1381,-235 1381,-235 1381,-294 1381,-294 1381,-300 1375,-306 1369,-306\"/>\n",
       "<text text-anchor=\"start\" x=\"1254\" y=\"-290.8\" font-family=\"Helvetica,sans-Serif\" font-size=\"14.00\" fill=\"#000000\">Embarked_Q ≤ 0.5</text>\n",
       "<text text-anchor=\"start\" x=\"1280.5\" y=\"-275.8\" font-family=\"Helvetica,sans-Serif\" font-size=\"14.00\" fill=\"#000000\">gini = 0.21</text>\n",
       "<text text-anchor=\"start\" x=\"1259\" y=\"-260.8\" font-family=\"Helvetica,sans-Serif\" font-size=\"14.00\" fill=\"#000000\">samples = 12.4%</text>\n",
       "<text text-anchor=\"start\" x=\"1253\" y=\"-245.8\" font-family=\"Helvetica,sans-Serif\" font-size=\"14.00\" fill=\"#000000\">value = [0.88, 0.12]</text>\n",
       "<text text-anchor=\"start\" x=\"1274.5\" y=\"-230.8\" font-family=\"Helvetica,sans-Serif\" font-size=\"14.00\" fill=\"#000000\">class = Died</text>\n",
       "</g>\n",
       "<!-- 17&#45;&gt;23 -->\n",
       "<g id=\"edge23\" class=\"edge\">\n",
       "<title>17&#45;&gt;23</title>\n",
       "<path fill=\"none\" stroke=\"#000000\" d=\"M1262.9309,-341.8796C1268.5837,-333.1434 1274.6033,-323.8404 1280.4366,-314.8253\"/>\n",
       "<polygon fill=\"#000000\" stroke=\"#000000\" points=\"1283.4601,-316.5952 1285.9542,-306.2981 1277.5831,-312.7924 1283.4601,-316.5952\"/>\n",
       "</g>\n",
       "<!-- 19 -->\n",
       "<g id=\"node20\" class=\"node\">\n",
       "<title>19</title>\n",
       "<path fill=\"#f7dac5\" stroke=\"#000000\" d=\"M1061,-187C1061,-187 949,-187 949,-187 943,-187 937,-181 937,-175 937,-175 937,-116 937,-116 937,-110 943,-104 949,-104 949,-104 1061,-104 1061,-104 1067,-104 1073,-110 1073,-116 1073,-116 1073,-175 1073,-175 1073,-181 1067,-187 1061,-187\"/>\n",
       "<text text-anchor=\"start\" x=\"946\" y=\"-171.8\" font-family=\"Helvetica,sans-Serif\" font-size=\"14.00\" fill=\"#000000\">Embarked_Q ≤ 0.5</text>\n",
       "<text text-anchor=\"start\" x=\"972.5\" y=\"-156.8\" font-family=\"Helvetica,sans-Serif\" font-size=\"14.00\" fill=\"#000000\">gini = 0.49</text>\n",
       "<text text-anchor=\"start\" x=\"955\" y=\"-141.8\" font-family=\"Helvetica,sans-Serif\" font-size=\"14.00\" fill=\"#000000\">samples = 4.7%</text>\n",
       "<text text-anchor=\"start\" x=\"945\" y=\"-126.8\" font-family=\"Helvetica,sans-Serif\" font-size=\"14.00\" fill=\"#000000\">value = [0.59, 0.41]</text>\n",
       "<text text-anchor=\"start\" x=\"966.5\" y=\"-111.8\" font-family=\"Helvetica,sans-Serif\" font-size=\"14.00\" fill=\"#000000\">class = Died</text>\n",
       "</g>\n",
       "<!-- 18&#45;&gt;19 -->\n",
       "<g id=\"edge19\" class=\"edge\">\n",
       "<title>18&#45;&gt;19</title>\n",
       "<path fill=\"none\" stroke=\"#000000\" d=\"M1105.1383,-222.8796C1092.8291,-213.368 1079.6503,-203.1843 1067.0296,-193.432\"/>\n",
       "<polygon fill=\"#000000\" stroke=\"#000000\" points=\"1068.8843,-190.4419 1058.8313,-187.0969 1064.6041,-195.9809 1068.8843,-190.4419\"/>\n",
       "</g>\n",
       "<!-- 22 -->\n",
       "<g id=\"node23\" class=\"node\">\n",
       "<title>22</title>\n",
       "<path fill=\"#f2be99\" stroke=\"#000000\" d=\"M1215,-179.5C1215,-179.5 1103,-179.5 1103,-179.5 1097,-179.5 1091,-173.5 1091,-167.5 1091,-167.5 1091,-123.5 1091,-123.5 1091,-117.5 1097,-111.5 1103,-111.5 1103,-111.5 1215,-111.5 1215,-111.5 1221,-111.5 1227,-117.5 1227,-123.5 1227,-123.5 1227,-167.5 1227,-167.5 1227,-173.5 1221,-179.5 1215,-179.5\"/>\n",
       "<text text-anchor=\"start\" x=\"1126.5\" y=\"-164.3\" font-family=\"Helvetica,sans-Serif\" font-size=\"14.00\" fill=\"#000000\">gini = 0.44</text>\n",
       "<text text-anchor=\"start\" x=\"1109\" y=\"-149.3\" font-family=\"Helvetica,sans-Serif\" font-size=\"14.00\" fill=\"#000000\">samples = 8.8%</text>\n",
       "<text text-anchor=\"start\" x=\"1099\" y=\"-134.3\" font-family=\"Helvetica,sans-Serif\" font-size=\"14.00\" fill=\"#000000\">value = [0.67, 0.33]</text>\n",
       "<text text-anchor=\"start\" x=\"1120.5\" y=\"-119.3\" font-family=\"Helvetica,sans-Serif\" font-size=\"14.00\" fill=\"#000000\">class = Died</text>\n",
       "</g>\n",
       "<!-- 18&#45;&gt;22 -->\n",
       "<g id=\"edge22\" class=\"edge\">\n",
       "<title>18&#45;&gt;22</title>\n",
       "<path fill=\"none\" stroke=\"#000000\" d=\"M1159,-222.8796C1159,-212.2134 1159,-200.7021 1159,-189.9015\"/>\n",
       "<polygon fill=\"#000000\" stroke=\"#000000\" points=\"1162.5001,-189.8149 1159,-179.8149 1155.5001,-189.815 1162.5001,-189.8149\"/>\n",
       "</g>\n",
       "<!-- 20 -->\n",
       "<g id=\"node21\" class=\"node\">\n",
       "<title>20</title>\n",
       "<path fill=\"#f8e0ce\" stroke=\"#000000\" d=\"M990,-68C990,-68 878,-68 878,-68 872,-68 866,-62 866,-56 866,-56 866,-12 866,-12 866,-6 872,0 878,0 878,0 990,0 990,0 996,0 1002,-6 1002,-12 1002,-12 1002,-56 1002,-56 1002,-62 996,-68 990,-68\"/>\n",
       "<text text-anchor=\"start\" x=\"901.5\" y=\"-52.8\" font-family=\"Helvetica,sans-Serif\" font-size=\"14.00\" fill=\"#000000\">gini = 0.49</text>\n",
       "<text text-anchor=\"start\" x=\"884\" y=\"-37.8\" font-family=\"Helvetica,sans-Serif\" font-size=\"14.00\" fill=\"#000000\">samples = 4.5%</text>\n",
       "<text text-anchor=\"start\" x=\"874\" y=\"-22.8\" font-family=\"Helvetica,sans-Serif\" font-size=\"14.00\" fill=\"#000000\">value = [0.57, 0.43]</text>\n",
       "<text text-anchor=\"start\" x=\"895.5\" y=\"-7.8\" font-family=\"Helvetica,sans-Serif\" font-size=\"14.00\" fill=\"#000000\">class = Died</text>\n",
       "</g>\n",
       "<!-- 19&#45;&gt;20 -->\n",
       "<g id=\"edge20\" class=\"edge\">\n",
       "<title>19&#45;&gt;20</title>\n",
       "<path fill=\"none\" stroke=\"#000000\" d=\"M978.5622,-103.9815C972.944,-95.1585 967.0012,-85.8258 961.3497,-76.9506\"/>\n",
       "<polygon fill=\"#000000\" stroke=\"#000000\" points=\"964.1416,-74.8188 955.8181,-68.2637 958.2371,-78.5787 964.1416,-74.8188\"/>\n",
       "</g>\n",
       "<!-- 21 -->\n",
       "<g id=\"node22\" class=\"node\">\n",
       "<title>21</title>\n",
       "<path fill=\"#e58139\" stroke=\"#000000\" d=\"M1128,-68C1128,-68 1032,-68 1032,-68 1026,-68 1020,-62 1020,-56 1020,-56 1020,-12 1020,-12 1020,-6 1026,0 1032,0 1032,0 1128,0 1128,0 1134,0 1140,-6 1140,-12 1140,-12 1140,-56 1140,-56 1140,-62 1134,-68 1128,-68\"/>\n",
       "<text text-anchor=\"start\" x=\"1051\" y=\"-52.8\" font-family=\"Helvetica,sans-Serif\" font-size=\"14.00\" fill=\"#000000\">gini = 0.0</text>\n",
       "<text text-anchor=\"start\" x=\"1030\" y=\"-37.8\" font-family=\"Helvetica,sans-Serif\" font-size=\"14.00\" fill=\"#000000\">samples = 0.2%</text>\n",
       "<text text-anchor=\"start\" x=\"1028\" y=\"-22.8\" font-family=\"Helvetica,sans-Serif\" font-size=\"14.00\" fill=\"#000000\">value = [1.0, 0.0]</text>\n",
       "<text text-anchor=\"start\" x=\"1041.5\" y=\"-7.8\" font-family=\"Helvetica,sans-Serif\" font-size=\"14.00\" fill=\"#000000\">class = Died</text>\n",
       "</g>\n",
       "<!-- 19&#45;&gt;21 -->\n",
       "<g id=\"edge21\" class=\"edge\">\n",
       "<title>19&#45;&gt;21</title>\n",
       "<path fill=\"none\" stroke=\"#000000\" d=\"M1032.9272,-103.9815C1038.9238,-95.0666 1045.2704,-85.6313 1051.2959,-76.6734\"/>\n",
       "<polygon fill=\"#000000\" stroke=\"#000000\" points=\"1054.2755,-78.5147 1056.9527,-68.2637 1048.4672,-74.6078 1054.2755,-78.5147\"/>\n",
       "</g>\n",
       "<!-- 24 -->\n",
       "<g id=\"node25\" class=\"node\">\n",
       "<title>24</title>\n",
       "<path fill=\"#e89254\" stroke=\"#000000\" d=\"M1369,-187C1369,-187 1257,-187 1257,-187 1251,-187 1245,-181 1245,-175 1245,-175 1245,-116 1245,-116 1245,-110 1251,-104 1257,-104 1257,-104 1369,-104 1369,-104 1375,-104 1381,-110 1381,-116 1381,-116 1381,-175 1381,-175 1381,-181 1375,-187 1369,-187\"/>\n",
       "<text text-anchor=\"start\" x=\"1255\" y=\"-171.8\" font-family=\"Helvetica,sans-Serif\" font-size=\"14.00\" fill=\"#000000\">Embarked_S ≤ 0.5</text>\n",
       "<text text-anchor=\"start\" x=\"1280.5\" y=\"-156.8\" font-family=\"Helvetica,sans-Serif\" font-size=\"14.00\" fill=\"#000000\">gini = 0.21</text>\n",
       "<text text-anchor=\"start\" x=\"1259\" y=\"-141.8\" font-family=\"Helvetica,sans-Serif\" font-size=\"14.00\" fill=\"#000000\">samples = 12.2%</text>\n",
       "<text text-anchor=\"start\" x=\"1253\" y=\"-126.8\" font-family=\"Helvetica,sans-Serif\" font-size=\"14.00\" fill=\"#000000\">value = [0.88, 0.12]</text>\n",
       "<text text-anchor=\"start\" x=\"1274.5\" y=\"-111.8\" font-family=\"Helvetica,sans-Serif\" font-size=\"14.00\" fill=\"#000000\">class = Died</text>\n",
       "</g>\n",
       "<!-- 23&#45;&gt;24 -->\n",
       "<g id=\"edge24\" class=\"edge\">\n",
       "<title>23&#45;&gt;24</title>\n",
       "<path fill=\"none\" stroke=\"#000000\" d=\"M1313,-222.8796C1313,-214.6838 1313,-205.9891 1313,-197.5013\"/>\n",
       "<polygon fill=\"#000000\" stroke=\"#000000\" points=\"1316.5001,-197.298 1313,-187.2981 1309.5001,-197.2981 1316.5001,-197.298\"/>\n",
       "</g>\n",
       "<!-- 27 -->\n",
       "<g id=\"node28\" class=\"node\">\n",
       "<title>27</title>\n",
       "<path fill=\"#e58139\" stroke=\"#000000\" d=\"M1507,-179.5C1507,-179.5 1411,-179.5 1411,-179.5 1405,-179.5 1399,-173.5 1399,-167.5 1399,-167.5 1399,-123.5 1399,-123.5 1399,-117.5 1405,-111.5 1411,-111.5 1411,-111.5 1507,-111.5 1507,-111.5 1513,-111.5 1519,-117.5 1519,-123.5 1519,-123.5 1519,-167.5 1519,-167.5 1519,-173.5 1513,-179.5 1507,-179.5\"/>\n",
       "<text text-anchor=\"start\" x=\"1430\" y=\"-164.3\" font-family=\"Helvetica,sans-Serif\" font-size=\"14.00\" fill=\"#000000\">gini = 0.0</text>\n",
       "<text text-anchor=\"start\" x=\"1409\" y=\"-149.3\" font-family=\"Helvetica,sans-Serif\" font-size=\"14.00\" fill=\"#000000\">samples = 0.2%</text>\n",
       "<text text-anchor=\"start\" x=\"1407\" y=\"-134.3\" font-family=\"Helvetica,sans-Serif\" font-size=\"14.00\" fill=\"#000000\">value = [1.0, 0.0]</text>\n",
       "<text text-anchor=\"start\" x=\"1420.5\" y=\"-119.3\" font-family=\"Helvetica,sans-Serif\" font-size=\"14.00\" fill=\"#000000\">class = Died</text>\n",
       "</g>\n",
       "<!-- 23&#45;&gt;27 -->\n",
       "<g id=\"edge27\" class=\"edge\">\n",
       "<title>23&#45;&gt;27</title>\n",
       "<path fill=\"none\" stroke=\"#000000\" d=\"M1364.0637,-222.8796C1378.634,-211.0038 1394.4896,-198.0804 1408.9958,-186.2568\"/>\n",
       "<polygon fill=\"#000000\" stroke=\"#000000\" points=\"1411.3592,-188.8459 1416.8993,-179.8149 1406.9366,-183.4199 1411.3592,-188.8459\"/>\n",
       "</g>\n",
       "<!-- 25 -->\n",
       "<g id=\"node26\" class=\"node\">\n",
       "<title>25</title>\n",
       "<path fill=\"#e89152\" stroke=\"#000000\" d=\"M1286,-68C1286,-68 1174,-68 1174,-68 1168,-68 1162,-62 1162,-56 1162,-56 1162,-12 1162,-12 1162,-6 1168,0 1174,0 1174,0 1286,0 1286,0 1292,0 1298,-6 1298,-12 1298,-12 1298,-56 1298,-56 1298,-62 1292,-68 1286,-68\"/>\n",
       "<text text-anchor=\"start\" x=\"1201\" y=\"-52.8\" font-family=\"Helvetica,sans-Serif\" font-size=\"14.00\" fill=\"#000000\">gini = 0.2</text>\n",
       "<text text-anchor=\"start\" x=\"1180\" y=\"-37.8\" font-family=\"Helvetica,sans-Serif\" font-size=\"14.00\" fill=\"#000000\">samples = 1.4%</text>\n",
       "<text text-anchor=\"start\" x=\"1170\" y=\"-22.8\" font-family=\"Helvetica,sans-Serif\" font-size=\"14.00\" fill=\"#000000\">value = [0.89, 0.11]</text>\n",
       "<text text-anchor=\"start\" x=\"1191.5\" y=\"-7.8\" font-family=\"Helvetica,sans-Serif\" font-size=\"14.00\" fill=\"#000000\">class = Died</text>\n",
       "</g>\n",
       "<!-- 24&#45;&gt;25 -->\n",
       "<g id=\"edge25\" class=\"edge\">\n",
       "<title>24&#45;&gt;25</title>\n",
       "<path fill=\"none\" stroke=\"#000000\" d=\"M1282.0939,-103.9815C1275.3892,-94.9747 1268.2892,-85.4367 1261.5597,-76.3965\"/>\n",
       "<polygon fill=\"#000000\" stroke=\"#000000\" points=\"1264.2845,-74.1953 1255.5057,-68.2637 1258.6694,-78.3752 1264.2845,-74.1953\"/>\n",
       "</g>\n",
       "<!-- 26 -->\n",
       "<g id=\"node27\" class=\"node\">\n",
       "<title>26</title>\n",
       "<path fill=\"#e99254\" stroke=\"#000000\" d=\"M1440,-68C1440,-68 1328,-68 1328,-68 1322,-68 1316,-62 1316,-56 1316,-56 1316,-12 1316,-12 1316,-6 1322,0 1328,0 1328,0 1440,0 1440,0 1446,0 1452,-6 1452,-12 1452,-12 1452,-56 1452,-56 1452,-62 1446,-68 1440,-68\"/>\n",
       "<text text-anchor=\"start\" x=\"1351.5\" y=\"-52.8\" font-family=\"Helvetica,sans-Serif\" font-size=\"14.00\" fill=\"#000000\">gini = 0.21</text>\n",
       "<text text-anchor=\"start\" x=\"1330\" y=\"-37.8\" font-family=\"Helvetica,sans-Serif\" font-size=\"14.00\" fill=\"#000000\">samples = 10.8%</text>\n",
       "<text text-anchor=\"start\" x=\"1324\" y=\"-22.8\" font-family=\"Helvetica,sans-Serif\" font-size=\"14.00\" fill=\"#000000\">value = [0.88, 0.12]</text>\n",
       "<text text-anchor=\"start\" x=\"1345.5\" y=\"-7.8\" font-family=\"Helvetica,sans-Serif\" font-size=\"14.00\" fill=\"#000000\">class = Died</text>\n",
       "</g>\n",
       "<!-- 24&#45;&gt;26 -->\n",
       "<g id=\"edge26\" class=\"edge\">\n",
       "<title>24&#45;&gt;26</title>\n",
       "<path fill=\"none\" stroke=\"#000000\" d=\"M1339.4378,-103.9815C1345.056,-95.1585 1350.9988,-85.8258 1356.6503,-76.9506\"/>\n",
       "<polygon fill=\"#000000\" stroke=\"#000000\" points=\"1359.7629,-78.5787 1362.1819,-68.2637 1353.8584,-74.8188 1359.7629,-78.5787\"/>\n",
       "</g>\n",
       "<!-- 29 -->\n",
       "<g id=\"node30\" class=\"node\">\n",
       "<title>29</title>\n",
       "<path fill=\"#eb9f69\" stroke=\"#000000\" d=\"M1661,-306C1661,-306 1549,-306 1549,-306 1543,-306 1537,-300 1537,-294 1537,-294 1537,-235 1537,-235 1537,-229 1543,-223 1549,-223 1549,-223 1661,-223 1661,-223 1667,-223 1673,-229 1673,-235 1673,-235 1673,-294 1673,-294 1673,-300 1667,-306 1661,-306\"/>\n",
       "<text text-anchor=\"start\" x=\"1546\" y=\"-290.8\" font-family=\"Helvetica,sans-Serif\" font-size=\"14.00\" fill=\"#000000\">Embarked_Q ≤ 0.5</text>\n",
       "<text text-anchor=\"start\" x=\"1572.5\" y=\"-275.8\" font-family=\"Helvetica,sans-Serif\" font-size=\"14.00\" fill=\"#000000\">gini = 0.31</text>\n",
       "<text text-anchor=\"start\" x=\"1551\" y=\"-260.8\" font-family=\"Helvetica,sans-Serif\" font-size=\"14.00\" fill=\"#000000\">samples = 10.0%</text>\n",
       "<text text-anchor=\"start\" x=\"1545\" y=\"-245.8\" font-family=\"Helvetica,sans-Serif\" font-size=\"14.00\" fill=\"#000000\">value = [0.81, 0.19]</text>\n",
       "<text text-anchor=\"start\" x=\"1566.5\" y=\"-230.8\" font-family=\"Helvetica,sans-Serif\" font-size=\"14.00\" fill=\"#000000\">class = Died</text>\n",
       "</g>\n",
       "<!-- 28&#45;&gt;29 -->\n",
       "<g id=\"edge29\" class=\"edge\">\n",
       "<title>28&#45;&gt;29</title>\n",
       "<path fill=\"none\" stroke=\"#000000\" d=\"M1605,-341.8796C1605,-333.6838 1605,-324.9891 1605,-316.5013\"/>\n",
       "<polygon fill=\"#000000\" stroke=\"#000000\" points=\"1608.5001,-316.298 1605,-306.2981 1601.5001,-316.2981 1608.5001,-316.298\"/>\n",
       "</g>\n",
       "<!-- 32 -->\n",
       "<g id=\"node33\" class=\"node\">\n",
       "<title>32</title>\n",
       "<path fill=\"#e89152\" stroke=\"#000000\" d=\"M1815,-298.5C1815,-298.5 1703,-298.5 1703,-298.5 1697,-298.5 1691,-292.5 1691,-286.5 1691,-286.5 1691,-242.5 1691,-242.5 1691,-236.5 1697,-230.5 1703,-230.5 1703,-230.5 1815,-230.5 1815,-230.5 1821,-230.5 1827,-236.5 1827,-242.5 1827,-242.5 1827,-286.5 1827,-286.5 1827,-292.5 1821,-298.5 1815,-298.5\"/>\n",
       "<text text-anchor=\"start\" x=\"1730\" y=\"-283.3\" font-family=\"Helvetica,sans-Serif\" font-size=\"14.00\" fill=\"#000000\">gini = 0.2</text>\n",
       "<text text-anchor=\"start\" x=\"1705\" y=\"-268.3\" font-family=\"Helvetica,sans-Serif\" font-size=\"14.00\" fill=\"#000000\">samples = 29.7%</text>\n",
       "<text text-anchor=\"start\" x=\"1699\" y=\"-253.3\" font-family=\"Helvetica,sans-Serif\" font-size=\"14.00\" fill=\"#000000\">value = [0.89, 0.11]</text>\n",
       "<text text-anchor=\"start\" x=\"1720.5\" y=\"-238.3\" font-family=\"Helvetica,sans-Serif\" font-size=\"14.00\" fill=\"#000000\">class = Died</text>\n",
       "</g>\n",
       "<!-- 28&#45;&gt;32 -->\n",
       "<g id=\"edge32\" class=\"edge\">\n",
       "<title>28&#45;&gt;32</title>\n",
       "<path fill=\"none\" stroke=\"#000000\" d=\"M1658.8617,-341.8796C1674.2304,-330.0038 1690.9547,-317.0804 1706.2559,-305.2568\"/>\n",
       "<polygon fill=\"#000000\" stroke=\"#000000\" points=\"1708.8196,-307.699 1714.5924,-298.8149 1704.5395,-302.1599 1708.8196,-307.699\"/>\n",
       "</g>\n",
       "<!-- 30 -->\n",
       "<g id=\"node31\" class=\"node\">\n",
       "<title>30</title>\n",
       "<path fill=\"#efb083\" stroke=\"#000000\" d=\"M1661,-179.5C1661,-179.5 1549,-179.5 1549,-179.5 1543,-179.5 1537,-173.5 1537,-167.5 1537,-167.5 1537,-123.5 1537,-123.5 1537,-117.5 1543,-111.5 1549,-111.5 1549,-111.5 1661,-111.5 1661,-111.5 1667,-111.5 1673,-117.5 1673,-123.5 1673,-123.5 1673,-167.5 1673,-167.5 1673,-173.5 1667,-179.5 1661,-179.5\"/>\n",
       "<text text-anchor=\"start\" x=\"1576\" y=\"-164.3\" font-family=\"Helvetica,sans-Serif\" font-size=\"14.00\" fill=\"#000000\">gini = 0.4</text>\n",
       "<text text-anchor=\"start\" x=\"1555\" y=\"-149.3\" font-family=\"Helvetica,sans-Serif\" font-size=\"14.00\" fill=\"#000000\">samples = 5.3%</text>\n",
       "<text text-anchor=\"start\" x=\"1545\" y=\"-134.3\" font-family=\"Helvetica,sans-Serif\" font-size=\"14.00\" fill=\"#000000\">value = [0.73, 0.27]</text>\n",
       "<text text-anchor=\"start\" x=\"1566.5\" y=\"-119.3\" font-family=\"Helvetica,sans-Serif\" font-size=\"14.00\" fill=\"#000000\">class = Died</text>\n",
       "</g>\n",
       "<!-- 29&#45;&gt;30 -->\n",
       "<g id=\"edge30\" class=\"edge\">\n",
       "<title>29&#45;&gt;30</title>\n",
       "<path fill=\"none\" stroke=\"#000000\" d=\"M1605,-222.8796C1605,-212.2134 1605,-200.7021 1605,-189.9015\"/>\n",
       "<polygon fill=\"#000000\" stroke=\"#000000\" points=\"1608.5001,-189.8149 1605,-179.8149 1601.5001,-189.815 1608.5001,-189.8149\"/>\n",
       "</g>\n",
       "<!-- 31 -->\n",
       "<g id=\"node32\" class=\"node\">\n",
       "<title>31</title>\n",
       "<path fill=\"#e89050\" stroke=\"#000000\" d=\"M1799,-179.5C1799,-179.5 1703,-179.5 1703,-179.5 1697,-179.5 1691,-173.5 1691,-167.5 1691,-167.5 1691,-123.5 1691,-123.5 1691,-117.5 1697,-111.5 1703,-111.5 1703,-111.5 1799,-111.5 1799,-111.5 1805,-111.5 1811,-117.5 1811,-123.5 1811,-123.5 1811,-167.5 1811,-167.5 1811,-173.5 1805,-179.5 1799,-179.5\"/>\n",
       "<text text-anchor=\"start\" x=\"1718.5\" y=\"-164.3\" font-family=\"Helvetica,sans-Serif\" font-size=\"14.00\" fill=\"#000000\">gini = 0.19</text>\n",
       "<text text-anchor=\"start\" x=\"1701\" y=\"-149.3\" font-family=\"Helvetica,sans-Serif\" font-size=\"14.00\" fill=\"#000000\">samples = 4.7%</text>\n",
       "<text text-anchor=\"start\" x=\"1699\" y=\"-134.3\" font-family=\"Helvetica,sans-Serif\" font-size=\"14.00\" fill=\"#000000\">value = [0.9, 0.1]</text>\n",
       "<text text-anchor=\"start\" x=\"1712.5\" y=\"-119.3\" font-family=\"Helvetica,sans-Serif\" font-size=\"14.00\" fill=\"#000000\">class = Died</text>\n",
       "</g>\n",
       "<!-- 29&#45;&gt;31 -->\n",
       "<g id=\"edge31\" class=\"edge\">\n",
       "<title>29&#45;&gt;31</title>\n",
       "<path fill=\"none\" stroke=\"#000000\" d=\"M1656.0637,-222.8796C1670.634,-211.0038 1686.4896,-198.0804 1700.9958,-186.2568\"/>\n",
       "<polygon fill=\"#000000\" stroke=\"#000000\" points=\"1703.3592,-188.8459 1708.8993,-179.8149 1698.9366,-183.4199 1703.3592,-188.8459\"/>\n",
       "</g>\n",
       "</g>\n",
       "</svg>\n"
      ],
      "text/plain": [
       "<graphviz.files.Source at 0x1a2059e940>"
      ]
     },
     "execution_count": 11,
     "metadata": {},
     "output_type": "execute_result"
    }
   ],
   "source": [
    "from sklearn.tree import export_graphviz\n",
    "import graphviz\n",
    "target_names = ['Died', 'Survived']\n",
    "dot_data = export_graphviz(clf, precision=2,\n",
    "feature_names=df1.columns,\n",
    "proportion=True,\n",
    "class_names=target_names,\n",
    "filled=True, rounded=True,\n",
    "special_characters=True)\n",
    "# plot it\n",
    "graph = graphviz.Source(dot_data)\n",
    "graph"
   ]
  },
  {
   "cell_type": "markdown",
   "metadata": {},
   "source": [
    "## Making predictions and assessing your model"
   ]
  },
  {
   "cell_type": "code",
   "execution_count": 12,
   "metadata": {},
   "outputs": [],
   "source": [
    "def base_acc(y_train):\n",
    "    return 1-y_train.mean()\n",
    "\n",
    "\n",
    "def print_conf_mtx(y_true, y_pred, classes=None):\n",
    "    \"\"\" Print a confusion matrix (two classes only). \"\"\"\n",
    "    if not classes:\n",
    "        classes = ['neg', 'pos']\n",
    "    # formatting\n",
    "    max_class_len = max([len(s) for s in classes])\n",
    "    m = max(max_class_len, len('predicted')//2 + 1)\n",
    "    n = max(len('actual')+1, max_class_len)\n",
    "    left   \t= '{:<10s}'.replace('10',str(n))\n",
    "    right  \t= '{:>10s}'.replace('10',str(m))\n",
    "    big_center = '{:^20s}'.replace('20',str(m*2))\n",
    "    cm = confusion_matrix(y_test, y_pred)\n",
    "    print((left+big_center).format('', 'predicted'))\n",
    "    print((left+right+right).format('actual', classes[0], classes[1]))\n",
    "    print((left+right+right).format(classes[0], str(cm[0,0]), str(cm[0,1])))\n",
    "    print((left+right+right).format(classes[1], str(cm[1,0]), str(cm[1,1])))\n",
    "    \n",
    "# Function that calculates precision and recall and returns a panda series with its corresponding\n",
    "# name and value\n",
    "def precisionAndRecall(true, predicted):\n",
    "    cm = confusion_matrix(true, predicted)\n",
    "    precision = cm[1,1]/(cm[0,1]+cm[1,1])\n",
    "    recall = cm[1,1]/(cm[1,0]+cm[1,1])\n",
    "    result = pd.Series({\"precision\":precision, \"recall\":recall})\n",
    "    return result\n",
    "\n",
    "\n",
    "def print_learningCurve(clf, X_train, X_test, y_train, y_test):\n",
    "    \n",
    "    te_errs = []\n",
    "    tr_errs = []\n",
    "    tr_sizes = np.linspace(100, X_train.shape[0], 10).astype(int)\n",
    "    \n",
    "    for tr_size in tr_sizes:\n",
    "        X_train1 = X_train[:tr_size,:]\n",
    "        y_train1 = y_train[:tr_size]\n",
    "  \n",
    "        # train model on a subset of the training data\n",
    "        clf.fit(X_train1, y_train1)\n",
    "\n",
    "        # error on subset of training data\n",
    "        tr_predicted = clf.predict(X_train1)\n",
    "        err = (tr_predicted != y_train1).mean()\n",
    "        tr_errs.append(err)\n",
    "\n",
    "        # error on all test data\n",
    "        te_predicted = clf.predict(X_test)\n",
    "        err = (te_predicted != y_test).mean()\n",
    "        te_errs.append(err)\n",
    "        \n",
    "\n",
    "    #\n",
    "    # plot the learning curve here\n",
    "    #\n",
    "    plt.title(\"Errors by training set size\")\n",
    "    plt.xlabel(\"Training set size\")\n",
    "    plt.ylabel(\"Classification error\")\n",
    "    plt.plot(tr_sizes, te_errs)\n",
    "    plt.plot(tr_sizes, tr_errs)\n",
    "\n",
    "\n",
    "def getBestFeaturesCV(X_train, y_train):\n",
    "    remaining = list(range(X_train.shape[1]))\n",
    "    selected = []\n",
    "    n = X_train.shape[1]\n",
    "    while len(selected) < n:\n",
    "        # find the single features that works best in conjunction\n",
    "        # with the already selected features\n",
    "        accuracy_max = -1e7\n",
    "        for i in remaining:\n",
    "            selected.append(i)\n",
    "            scores = cross_val_score(DecisionTreeClassifier(), X_train[:,selected], y_train, scoring='accuracy', cv=5)\n",
    "            accuracy = scores.mean()\n",
    "            selected.pop()\n",
    "            if(accuracy > accuracy_max):\n",
    "                accuracy_max = accuracy\n",
    "                i_max = i\n",
    "        remaining.remove(i_max)\n",
    "        selected.append(i_max)\n",
    "        print('num features: {}; accuracy: {:.2f}; what features: {}'.format(len(selected), accuracy_max, selected))\n",
    "    return selected"
   ]
  },
  {
   "cell_type": "markdown",
   "metadata": {},
   "source": [
    "#### Accuracy"
   ]
  },
  {
   "cell_type": "code",
   "execution_count": 13,
   "metadata": {},
   "outputs": [
    {
     "name": "stdout",
     "output_type": "stream",
     "text": [
      "Baseline accuracy: 0.63\n",
      "Accuracy after training: 0.78\n"
     ]
    }
   ],
   "source": [
    "print(\"Baseline accuracy: {:.2f}\".format(base_acc(y_train)))\n",
    "predictions = clf.predict(X_test)\n",
    "\n",
    "print(\"Accuracy after training: {:.2f}\".format(clf.score(X_test, y_test)))"
   ]
  },
  {
   "cell_type": "markdown",
   "metadata": {},
   "source": [
    "Based on these results there is great increase, 14 percent points in accuracy, when predictions are made with port (Embarked), what ticket class (Pclass) and what gender (Sex)."
   ]
  },
  {
   "cell_type": "code",
   "execution_count": 14,
   "metadata": {},
   "outputs": [
    {
     "name": "stdout",
     "output_type": "stream",
     "text": [
      "           predicted    \n",
      "actual      DiedSurvived\n",
      "Died         147      10\n",
      "Survived      50      60\n"
     ]
    }
   ],
   "source": [
    "print_conf_mtx(y_test, predictions, [\"Died\", \"Survived\"])"
   ]
  },
  {
   "cell_type": "markdown",
   "metadata": {},
   "source": [
    "From the confusion matrix above, we can calculate the precision and recall."
   ]
  },
  {
   "cell_type": "code",
   "execution_count": 15,
   "metadata": {},
   "outputs": [
    {
     "name": "stdout",
     "output_type": "stream",
     "text": [
      "Precision: 0.86 Recall: 0.55\n"
     ]
    }
   ],
   "source": [
    "print(\"Precision: {:.2f} Recall: {:.2f}\"\n",
    "      .format(precisionAndRecall(y_test, predictions)[0], precisionAndRecall(y_test, predictions)[1]))"
   ]
  },
  {
   "cell_type": "markdown",
   "metadata": {},
   "source": [
    "It is a pretty high precision with these features and a average recall rate. Which tells us that *quality* of the predictions are pretty good, but not so good on *quantity*. In other words there is high chance to predict if a person survived."
   ]
  },
  {
   "cell_type": "markdown",
   "metadata": {},
   "source": [
    "#### Learning Curve"
   ]
  },
  {
   "cell_type": "code",
   "execution_count": 16,
   "metadata": {},
   "outputs": [
    {
     "data": {
      "image/png": "[encoded data removed]",
      "text/plain": [
       "<Figure size 432x288 with 1 Axes>"
      ]
     },
     "metadata": {
      "needs_background": "light"
     },
     "output_type": "display_data"
    }
   ],
   "source": [
    "print_learningCurve(clf, X_train, X_test, y_train, y_test)"
   ]
  },
  {
   "cell_type": "markdown",
   "metadata": {},
   "source": [
    "This learning curve shows a high variance situation which can be handled by getting more data or using fewer features.\n",
    "\n",
    "It also shows on the training learning curve for the test data, that it takes almost 350 rows of data before it actually gets better. For the training data we can see that the algorithm flattens out at aornd 400-600 rows of data. Could be interesting to see what would happen if we had the double amount of data."
   ]
  },
  {
   "cell_type": "markdown",
   "metadata": {},
   "source": [
    "## Model 2"
   ]
  },
  {
   "cell_type": "markdown",
   "metadata": {},
   "source": [
    "For this model we will look into feature selection based on forward feature selection algorithm. In order to handle the dataset with scikit-learn, all non-numeric and categorical data has to be converted into numeric and non-categorical data.\n",
    "\n",
    "---"
   ]
  },
  {
   "cell_type": "markdown",
   "metadata": {},
   "source": [
    "The target column, `Survived` is dropped. Also decided to drop `Cabin` and `Ticket`, because it's unclear what this data actually is."
   ]
  },
  {
   "cell_type": "code",
   "execution_count": 17,
   "metadata": {},
   "outputs": [],
   "source": [
    "df2 = df.drop(columns=[\"Survived\", \"Cabin\", \"Ticket\"])\n",
    "\n",
    "df2[\"Parch\"] = df2[\"Parch\"].astype(int)\n",
    "df2[\"Fare\"] = df2[\"Fare\"].astype(float)\n",
    "\n",
    "df2 = pd.get_dummies(df2, columns=[\"Embarked\", 'Sex', \"Pclass\", \"Title\"], drop_first=True)"
   ]
  },
  {
   "cell_type": "markdown",
   "metadata": {},
   "source": [
    "Now the dataset is prepared for scikit-learn. There are now 14 columns in the dataset."
   ]
  },
  {
   "cell_type": "code",
   "execution_count": 18,
   "metadata": {},
   "outputs": [
    {
     "name": "stdout",
     "output_type": "stream",
     "text": [
      "<class 'pandas.core.frame.DataFrame'>\n",
      "Int64Index: 889 entries, 0 to 890\n",
      "Data columns (total 14 columns):\n",
      "Age              889 non-null float64\n",
      "SibSp            889 non-null int64\n",
      "Parch            889 non-null int64\n",
      "Fare             889 non-null float64\n",
      "Embarked_Q       889 non-null uint8\n",
      "Embarked_S       889 non-null uint8\n",
      "Sex_male         889 non-null uint8\n",
      "Pclass_2         889 non-null uint8\n",
      "Pclass_3         889 non-null uint8\n",
      "Title_Master.    889 non-null uint8\n",
      "Title_Miss.      889 non-null uint8\n",
      "Title_Mr.        889 non-null uint8\n",
      "Title_Mrs.       889 non-null uint8\n",
      "Title_NoTitle    889 non-null uint8\n",
      "dtypes: float64(2), int64(2), uint8(10)\n",
      "memory usage: 83.4 KB\n"
     ]
    }
   ],
   "source": [
    "df2.info()"
   ]
  },
  {
   "cell_type": "code",
   "execution_count": 19,
   "metadata": {},
   "outputs": [],
   "source": [
    "X = df2.values\n",
    "y = df[\"Survived\"].values\n",
    "X_train, X_test, y_train, y_test = train_test_split(X, y, test_size=0.3, random_state=0)\n",
    "\n",
    "clf2 = DecisionTreeClassifier();\n",
    "clf2.fit(X_train, y_train);"
   ]
  },
  {
   "cell_type": "markdown",
   "metadata": {},
   "source": [
    "Selecting *best* features based on forward feature selection."
   ]
  },
  {
   "cell_type": "code",
   "execution_count": 20,
   "metadata": {},
   "outputs": [
    {
     "name": "stdout",
     "output_type": "stream",
     "text": [
      "num features: 1; accuracy: 0.79; what features: [11]\n",
      "num features: 2; accuracy: 0.82; what features: [11, 1]\n",
      "num features: 3; accuracy: 0.82; what features: [11, 1, 2]\n",
      "num features: 4; accuracy: 0.83; what features: [11, 1, 2, 6]\n",
      "num features: 5; accuracy: 0.83; what features: [11, 1, 2, 6, 9]\n",
      "num features: 6; accuracy: 0.83; what features: [11, 1, 2, 6, 9, 4]\n",
      "num features: 7; accuracy: 0.83; what features: [11, 1, 2, 6, 9, 4, 7]\n",
      "num features: 8; accuracy: 0.83; what features: [11, 1, 2, 6, 9, 4, 7, 10]\n",
      "num features: 9; accuracy: 0.83; what features: [11, 1, 2, 6, 9, 4, 7, 10, 12]\n",
      "num features: 10; accuracy: 0.82; what features: [11, 1, 2, 6, 9, 4, 7, 10, 12, 13]\n",
      "num features: 11; accuracy: 0.82; what features: [11, 1, 2, 6, 9, 4, 7, 10, 12, 13, 8]\n",
      "num features: 12; accuracy: 0.82; what features: [11, 1, 2, 6, 9, 4, 7, 10, 12, 13, 8, 3]\n",
      "num features: 13; accuracy: 0.82; what features: [11, 1, 2, 6, 9, 4, 7, 10, 12, 13, 8, 3, 5]\n",
      "num features: 14; accuracy: 0.81; what features: [11, 1, 2, 6, 9, 4, 7, 10, 12, 13, 8, 3, 5, 0]\n"
     ]
    }
   ],
   "source": [
    "features = df2.columns[getBestFeaturesCV(X_train, y_train)]"
   ]
  },
  {
   "cell_type": "markdown",
   "metadata": {},
   "source": [
    "Based on the forward feature selection, the highest accuracy is at 0.84 with the following 7 features:"
   ]
  },
  {
   "cell_type": "code",
   "execution_count": 21,
   "metadata": {},
   "outputs": [
    {
     "name": "stdout",
     "output_type": "stream",
     "text": [
      "Title_Mr.\n",
      "SibSp\n",
      "Parch\n",
      "Sex_male\n",
      "Title_Master.\n"
     ]
    }
   ],
   "source": [
    "bestFeatures = features[:5]\n",
    "for feature in bestFeatures:\n",
    "    print(feature)"
   ]
  },
  {
   "cell_type": "markdown",
   "metadata": {},
   "source": [
    "### Using forward feature selection features to build a model"
   ]
  },
  {
   "cell_type": "markdown",
   "metadata": {},
   "source": [
    "Creating the model based on the *optimal* features."
   ]
  },
  {
   "cell_type": "code",
   "execution_count": 22,
   "metadata": {},
   "outputs": [],
   "source": [
    "X = df2[bestFeatures].values\n",
    "y = df[\"Survived\"].values\n",
    "\n",
    "X_train, X_test, y_train, y_test = train_test_split(X, y, test_size=0.3, random_state=0)\n",
    "\n",
    "clf3 = DecisionTreeClassifier(max_depth=5, random_state=0);\n",
    "clf3.fit(X_train, y_train);"
   ]
  },
  {
   "cell_type": "markdown",
   "metadata": {},
   "source": [
    "### Decision Tree"
   ]
  },
  {
   "cell_type": "markdown",
   "metadata": {},
   "source": [
    "Creating a decision tree."
   ]
  },
  {
   "cell_type": "code",
   "execution_count": 23,
   "metadata": {},
   "outputs": [
    {
     "data": {
      "image/svg+xml": [
       "<?xml version=\"1.0\" encoding=\"UTF-8\" standalone=\"no\"?>\n",
       "<!DOCTYPE svg PUBLIC \"-//W3C//DTD SVG 1.1//EN\"\n",
       " \"http://www.w3.org/Graphics/SVG/1.1/DTD/svg11.dtd\">\n",
       "<!-- Generated by graphviz version 2.40.1 (20161225.0304)\n",
       " -->\n",
       "<!-- Title: Tree Pages: 1 -->\n",
       "<svg width=\"1773pt\" height=\"671pt\"\n",
       " viewBox=\"0.00 0.00 1773.00 671.00\" xmlns=\"http://www.w3.org/2000/svg\" xmlns:xlink=\"http://www.w3.org/1999/xlink\">\n",
       "<g id=\"graph0\" class=\"graph\" transform=\"scale(1 1) rotate(0) translate(4 667)\">\n",
       "<title>Tree</title>\n",
       "<polygon fill=\"#ffffff\" stroke=\"transparent\" points=\"-4,4 -4,-667 1769,-667 1769,4 -4,4\"/>\n",
       "<!-- 0 -->\n",
       "<g id=\"node1\" class=\"node\">\n",
       "<title>0</title>\n",
       "<path fill=\"#f4cbad\" stroke=\"#000000\" d=\"M906,-663C906,-663 794,-663 794,-663 788,-663 782,-657 782,-651 782,-651 782,-592 782,-592 782,-586 788,-580 794,-580 794,-580 906,-580 906,-580 912,-580 918,-586 918,-592 918,-592 918,-651 918,-651 918,-657 912,-663 906,-663\"/>\n",
       "<text text-anchor=\"start\" x=\"791\" y=\"-647.8\" font-family=\"Helvetica,sans-Serif\" font-size=\"14.00\" fill=\"#000000\">Embarked_Q ≤ 0.5</text>\n",
       "<text text-anchor=\"start\" x=\"817.5\" y=\"-632.8\" font-family=\"Helvetica,sans-Serif\" font-size=\"14.00\" fill=\"#000000\">gini = 0.47</text>\n",
       "<text text-anchor=\"start\" x=\"792\" y=\"-617.8\" font-family=\"Helvetica,sans-Serif\" font-size=\"14.00\" fill=\"#000000\">samples = 100.0%</text>\n",
       "<text text-anchor=\"start\" x=\"790\" y=\"-602.8\" font-family=\"Helvetica,sans-Serif\" font-size=\"14.00\" fill=\"#000000\">value = [0.63, 0.37]</text>\n",
       "<text text-anchor=\"start\" x=\"811.5\" y=\"-587.8\" font-family=\"Helvetica,sans-Serif\" font-size=\"14.00\" fill=\"#000000\">class = Died</text>\n",
       "</g>\n",
       "<!-- 1 -->\n",
       "<g id=\"node2\" class=\"node\">\n",
       "<title>1</title>\n",
       "<path fill=\"#8dc7f0\" stroke=\"#000000\" d=\"M678,-544C678,-544 570,-544 570,-544 564,-544 558,-538 558,-532 558,-532 558,-473 558,-473 558,-467 564,-461 570,-461 570,-461 678,-461 678,-461 684,-461 690,-467 690,-473 690,-473 690,-532 690,-532 690,-538 684,-544 678,-544\"/>\n",
       "<text text-anchor=\"start\" x=\"566\" y=\"-528.8\" font-family=\"Helvetica,sans-Serif\" font-size=\"14.00\" fill=\"#000000\">Embarked_S ≤ 2.5</text>\n",
       "<text text-anchor=\"start\" x=\"591.5\" y=\"-513.8\" font-family=\"Helvetica,sans-Serif\" font-size=\"14.00\" fill=\"#000000\">gini = 0.42</text>\n",
       "<text text-anchor=\"start\" x=\"570\" y=\"-498.8\" font-family=\"Helvetica,sans-Serif\" font-size=\"14.00\" fill=\"#000000\">samples = 40.5%</text>\n",
       "<text text-anchor=\"start\" x=\"572\" y=\"-483.8\" font-family=\"Helvetica,sans-Serif\" font-size=\"14.00\" fill=\"#000000\">value = [0.3, 0.7]</text>\n",
       "<text text-anchor=\"start\" x=\"572.5\" y=\"-468.8\" font-family=\"Helvetica,sans-Serif\" font-size=\"14.00\" fill=\"#000000\">class = Survived</text>\n",
       "</g>\n",
       "<!-- 0&#45;&gt;1 -->\n",
       "<g id=\"edge1\" class=\"edge\">\n",
       "<title>0&#45;&gt;1</title>\n",
       "<path fill=\"none\" stroke=\"#000000\" d=\"M781.8861,-585.6347C755.7298,-571.8622 725.7423,-556.0723 698.9765,-541.9788\"/>\n",
       "<polygon fill=\"#000000\" stroke=\"#000000\" points=\"700.5122,-538.8319 690.0331,-537.2697 697.2508,-545.0257 700.5122,-538.8319\"/>\n",
       "<text text-anchor=\"middle\" x=\"697.4388\" y=\"-557.4476\" font-family=\"Helvetica,sans-Serif\" font-size=\"14.00\" fill=\"#000000\">True</text>\n",
       "</g>\n",
       "<!-- 20 -->\n",
       "<g id=\"node21\" class=\"node\">\n",
       "<title>20</title>\n",
       "<path fill=\"#e9965a\" stroke=\"#000000\" d=\"M1063,-544C1063,-544 951,-544 951,-544 945,-544 939,-538 939,-532 939,-532 939,-473 939,-473 939,-467 945,-461 951,-461 951,-461 1063,-461 1063,-461 1069,-461 1075,-467 1075,-473 1075,-473 1075,-532 1075,-532 1075,-538 1069,-544 1063,-544\"/>\n",
       "<text text-anchor=\"start\" x=\"958\" y=\"-528.8\" font-family=\"Helvetica,sans-Serif\" font-size=\"14.00\" fill=\"#000000\">Sex_male ≤ 0.5</text>\n",
       "<text text-anchor=\"start\" x=\"974.5\" y=\"-513.8\" font-family=\"Helvetica,sans-Serif\" font-size=\"14.00\" fill=\"#000000\">gini = 0.25</text>\n",
       "<text text-anchor=\"start\" x=\"953\" y=\"-498.8\" font-family=\"Helvetica,sans-Serif\" font-size=\"14.00\" fill=\"#000000\">samples = 59.5%</text>\n",
       "<text text-anchor=\"start\" x=\"947\" y=\"-483.8\" font-family=\"Helvetica,sans-Serif\" font-size=\"14.00\" fill=\"#000000\">value = [0.86, 0.14]</text>\n",
       "<text text-anchor=\"start\" x=\"968.5\" y=\"-468.8\" font-family=\"Helvetica,sans-Serif\" font-size=\"14.00\" fill=\"#000000\">class = Died</text>\n",
       "</g>\n",
       "<!-- 0&#45;&gt;20 -->\n",
       "<g id=\"edge20\" class=\"edge\">\n",
       "<title>0&#45;&gt;20</title>\n",
       "<path fill=\"none\" stroke=\"#000000\" d=\"M904.911,-579.8796C917.5794,-570.2774 931.1515,-559.9903 944.1295,-550.1534\"/>\n",
       "<polygon fill=\"#000000\" stroke=\"#000000\" points=\"946.2648,-552.9268 952.12,-544.0969 942.0364,-547.3482 946.2648,-552.9268\"/>\n",
       "<text text-anchor=\"middle\" x=\"948.7102\" y=\"-565.1633\" font-family=\"Helvetica,sans-Serif\" font-size=\"14.00\" fill=\"#000000\">False</text>\n",
       "</g>\n",
       "<!-- 2 -->\n",
       "<g id=\"node3\" class=\"node\">\n",
       "<title>2</title>\n",
       "<path fill=\"#74baed\" stroke=\"#000000\" d=\"M461,-425C461,-425 349,-425 349,-425 343,-425 337,-419 337,-413 337,-413 337,-354 337,-354 337,-348 343,-342 349,-342 349,-342 461,-342 461,-342 467,-342 473,-348 473,-354 473,-354 473,-413 473,-413 473,-419 467,-425 461,-425\"/>\n",
       "<text text-anchor=\"start\" x=\"356\" y=\"-409.8\" font-family=\"Helvetica,sans-Serif\" font-size=\"14.00\" fill=\"#000000\">Sex_male ≤ 3.5</text>\n",
       "<text text-anchor=\"start\" x=\"372.5\" y=\"-394.8\" font-family=\"Helvetica,sans-Serif\" font-size=\"14.00\" fill=\"#000000\">gini = 0.35</text>\n",
       "<text text-anchor=\"start\" x=\"351\" y=\"-379.8\" font-family=\"Helvetica,sans-Serif\" font-size=\"14.00\" fill=\"#000000\">samples = 35.7%</text>\n",
       "<text text-anchor=\"start\" x=\"345\" y=\"-364.8\" font-family=\"Helvetica,sans-Serif\" font-size=\"14.00\" fill=\"#000000\">value = [0.23, 0.77]</text>\n",
       "<text text-anchor=\"start\" x=\"353.5\" y=\"-349.8\" font-family=\"Helvetica,sans-Serif\" font-size=\"14.00\" fill=\"#000000\">class = Survived</text>\n",
       "</g>\n",
       "<!-- 1&#45;&gt;2 -->\n",
       "<g id=\"edge2\" class=\"edge\">\n",
       "<title>1&#45;&gt;2</title>\n",
       "<path fill=\"none\" stroke=\"#000000\" d=\"M557.9958,-466.6347C534.104,-453.6524 506.9133,-438.8775 482.1482,-425.4207\"/>\n",
       "<polygon fill=\"#000000\" stroke=\"#000000\" points=\"483.6023,-422.2275 473.1446,-420.5283 480.2601,-428.3782 483.6023,-422.2275\"/>\n",
       "</g>\n",
       "<!-- 13 -->\n",
       "<g id=\"node14\" class=\"node\">\n",
       "<title>13</title>\n",
       "<path fill=\"#eca06a\" stroke=\"#000000\" d=\"M672,-425C672,-425 576,-425 576,-425 570,-425 564,-419 564,-413 564,-413 564,-354 564,-354 564,-348 570,-342 576,-342 576,-342 672,-342 672,-342 678,-342 684,-348 684,-354 684,-354 684,-413 684,-413 684,-419 678,-425 672,-425\"/>\n",
       "<text text-anchor=\"start\" x=\"575\" y=\"-409.8\" font-family=\"Helvetica,sans-Serif\" font-size=\"14.00\" fill=\"#000000\">Sex_male ≤ 0.5</text>\n",
       "<text text-anchor=\"start\" x=\"591.5\" y=\"-394.8\" font-family=\"Helvetica,sans-Serif\" font-size=\"14.00\" fill=\"#000000\">gini = 0.32</text>\n",
       "<text text-anchor=\"start\" x=\"574\" y=\"-379.8\" font-family=\"Helvetica,sans-Serif\" font-size=\"14.00\" fill=\"#000000\">samples = 4.8%</text>\n",
       "<text text-anchor=\"start\" x=\"572\" y=\"-364.8\" font-family=\"Helvetica,sans-Serif\" font-size=\"14.00\" fill=\"#000000\">value = [0.8, 0.2]</text>\n",
       "<text text-anchor=\"start\" x=\"585.5\" y=\"-349.8\" font-family=\"Helvetica,sans-Serif\" font-size=\"14.00\" fill=\"#000000\">class = Died</text>\n",
       "</g>\n",
       "<!-- 1&#45;&gt;13 -->\n",
       "<g id=\"edge13\" class=\"edge\">\n",
       "<title>1&#45;&gt;13</title>\n",
       "<path fill=\"none\" stroke=\"#000000\" d=\"M624,-460.8796C624,-452.6838 624,-443.9891 624,-435.5013\"/>\n",
       "<polygon fill=\"#000000\" stroke=\"#000000\" points=\"627.5001,-435.298 624,-425.2981 620.5001,-435.2981 627.5001,-435.298\"/>\n",
       "</g>\n",
       "<!-- 3 -->\n",
       "<g id=\"node4\" class=\"node\">\n",
       "<title>3</title>\n",
       "<path fill=\"#6fb8ec\" stroke=\"#000000\" d=\"M285,-306C285,-306 173,-306 173,-306 167,-306 161,-300 161,-294 161,-294 161,-235 161,-235 161,-229 167,-223 173,-223 173,-223 285,-223 285,-223 291,-223 297,-229 297,-235 297,-235 297,-294 297,-294 297,-300 291,-306 285,-306\"/>\n",
       "<text text-anchor=\"start\" x=\"183\" y=\"-290.8\" font-family=\"Helvetica,sans-Serif\" font-size=\"14.00\" fill=\"#000000\">Pclass_3 ≤ 0.5</text>\n",
       "<text text-anchor=\"start\" x=\"196.5\" y=\"-275.8\" font-family=\"Helvetica,sans-Serif\" font-size=\"14.00\" fill=\"#000000\">gini = 0.34</text>\n",
       "<text text-anchor=\"start\" x=\"175\" y=\"-260.8\" font-family=\"Helvetica,sans-Serif\" font-size=\"14.00\" fill=\"#000000\">samples = 34.7%</text>\n",
       "<text text-anchor=\"start\" x=\"169\" y=\"-245.8\" font-family=\"Helvetica,sans-Serif\" font-size=\"14.00\" fill=\"#000000\">value = [0.21, 0.79]</text>\n",
       "<text text-anchor=\"start\" x=\"177.5\" y=\"-230.8\" font-family=\"Helvetica,sans-Serif\" font-size=\"14.00\" fill=\"#000000\">class = Survived</text>\n",
       "</g>\n",
       "<!-- 2&#45;&gt;3 -->\n",
       "<g id=\"edge3\" class=\"edge\">\n",
       "<title>2&#45;&gt;3</title>\n",
       "<path fill=\"none\" stroke=\"#000000\" d=\"M343.4437,-341.8796C329.1082,-332.1868 313.7405,-321.7961 299.0675,-311.8752\"/>\n",
       "<polygon fill=\"#000000\" stroke=\"#000000\" points=\"300.7661,-308.7987 290.5215,-306.0969 296.8452,-314.5976 300.7661,-308.7987\"/>\n",
       "</g>\n",
       "<!-- 8 -->\n",
       "<g id=\"node9\" class=\"node\">\n",
       "<title>8</title>\n",
       "<path fill=\"#ea9a61\" stroke=\"#000000\" d=\"M461,-306C461,-306 349,-306 349,-306 343,-306 337,-300 337,-294 337,-294 337,-235 337,-235 337,-229 343,-223 349,-223 349,-223 461,-223 461,-223 467,-223 473,-229 473,-235 473,-235 473,-294 473,-294 473,-300 467,-306 461,-306\"/>\n",
       "<text text-anchor=\"start\" x=\"347\" y=\"-290.8\" font-family=\"Helvetica,sans-Serif\" font-size=\"14.00\" fill=\"#000000\">Embarked_S ≤ 0.5</text>\n",
       "<text text-anchor=\"start\" x=\"372.5\" y=\"-275.8\" font-family=\"Helvetica,sans-Serif\" font-size=\"14.00\" fill=\"#000000\">gini = 0.28</text>\n",
       "<text text-anchor=\"start\" x=\"355\" y=\"-260.8\" font-family=\"Helvetica,sans-Serif\" font-size=\"14.00\" fill=\"#000000\">samples = 1.0%</text>\n",
       "<text text-anchor=\"start\" x=\"345\" y=\"-245.8\" font-family=\"Helvetica,sans-Serif\" font-size=\"14.00\" fill=\"#000000\">value = [0.83, 0.17]</text>\n",
       "<text text-anchor=\"start\" x=\"366.5\" y=\"-230.8\" font-family=\"Helvetica,sans-Serif\" font-size=\"14.00\" fill=\"#000000\">class = Died</text>\n",
       "</g>\n",
       "<!-- 2&#45;&gt;8 -->\n",
       "<g id=\"edge8\" class=\"edge\">\n",
       "<title>2&#45;&gt;8</title>\n",
       "<path fill=\"none\" stroke=\"#000000\" d=\"M405,-341.8796C405,-333.6838 405,-324.9891 405,-316.5013\"/>\n",
       "<polygon fill=\"#000000\" stroke=\"#000000\" points=\"408.5001,-316.298 405,-306.2981 401.5001,-316.2981 408.5001,-316.298\"/>\n",
       "</g>\n",
       "<!-- 4 -->\n",
       "<g id=\"node5\" class=\"node\">\n",
       "<title>4</title>\n",
       "<path fill=\"#74baed\" stroke=\"#000000\" d=\"M139,-187C139,-187 27,-187 27,-187 21,-187 15,-181 15,-175 15,-175 15,-116 15,-116 15,-110 21,-104 27,-104 27,-104 139,-104 139,-104 145,-104 151,-110 151,-116 151,-116 151,-175 151,-175 151,-181 145,-187 139,-187\"/>\n",
       "<text text-anchor=\"start\" x=\"37\" y=\"-171.8\" font-family=\"Helvetica,sans-Serif\" font-size=\"14.00\" fill=\"#000000\">Pclass_2 ≤ 0.5</text>\n",
       "<text text-anchor=\"start\" x=\"50.5\" y=\"-156.8\" font-family=\"Helvetica,sans-Serif\" font-size=\"14.00\" fill=\"#000000\">gini = 0.35</text>\n",
       "<text text-anchor=\"start\" x=\"29\" y=\"-141.8\" font-family=\"Helvetica,sans-Serif\" font-size=\"14.00\" fill=\"#000000\">samples = 32.3%</text>\n",
       "<text text-anchor=\"start\" x=\"23\" y=\"-126.8\" font-family=\"Helvetica,sans-Serif\" font-size=\"14.00\" fill=\"#000000\">value = [0.23, 0.77]</text>\n",
       "<text text-anchor=\"start\" x=\"31.5\" y=\"-111.8\" font-family=\"Helvetica,sans-Serif\" font-size=\"14.00\" fill=\"#000000\">class = Survived</text>\n",
       "</g>\n",
       "<!-- 3&#45;&gt;4 -->\n",
       "<g id=\"edge4\" class=\"edge\">\n",
       "<title>3&#45;&gt;4</title>\n",
       "<path fill=\"none\" stroke=\"#000000\" d=\"M177.9363,-222.8796C166.4445,-213.513 154.1532,-203.4948 142.355,-193.8784\"/>\n",
       "<polygon fill=\"#000000\" stroke=\"#000000\" points=\"144.2444,-190.903 134.2817,-187.2981 139.8218,-196.329 144.2444,-190.903\"/>\n",
       "</g>\n",
       "<!-- 7 -->\n",
       "<g id=\"node8\" class=\"node\">\n",
       "<title>7</title>\n",
       "<path fill=\"#399de5\" stroke=\"#000000\" d=\"M277,-179.5C277,-179.5 181,-179.5 181,-179.5 175,-179.5 169,-173.5 169,-167.5 169,-167.5 169,-123.5 169,-123.5 169,-117.5 175,-111.5 181,-111.5 181,-111.5 277,-111.5 277,-111.5 283,-111.5 289,-117.5 289,-123.5 289,-123.5 289,-167.5 289,-167.5 289,-173.5 283,-179.5 277,-179.5\"/>\n",
       "<text text-anchor=\"start\" x=\"200\" y=\"-164.3\" font-family=\"Helvetica,sans-Serif\" font-size=\"14.00\" fill=\"#000000\">gini = 0.0</text>\n",
       "<text text-anchor=\"start\" x=\"179\" y=\"-149.3\" font-family=\"Helvetica,sans-Serif\" font-size=\"14.00\" fill=\"#000000\">samples = 2.4%</text>\n",
       "<text text-anchor=\"start\" x=\"177\" y=\"-134.3\" font-family=\"Helvetica,sans-Serif\" font-size=\"14.00\" fill=\"#000000\">value = [0.0, 1.0]</text>\n",
       "<text text-anchor=\"start\" x=\"177.5\" y=\"-119.3\" font-family=\"Helvetica,sans-Serif\" font-size=\"14.00\" fill=\"#000000\">class = Survived</text>\n",
       "</g>\n",
       "<!-- 3&#45;&gt;7 -->\n",
       "<g id=\"edge7\" class=\"edge\">\n",
       "<title>3&#45;&gt;7</title>\n",
       "<path fill=\"none\" stroke=\"#000000\" d=\"M229,-222.8796C229,-212.2134 229,-200.7021 229,-189.9015\"/>\n",
       "<polygon fill=\"#000000\" stroke=\"#000000\" points=\"232.5001,-189.8149 229,-179.8149 225.5001,-189.815 232.5001,-189.8149\"/>\n",
       "</g>\n",
       "<!-- 5 -->\n",
       "<g id=\"node6\" class=\"node\">\n",
       "<title>5</title>\n",
       "<path fill=\"#6ab6ec\" stroke=\"#000000\" d=\"M112,-68C112,-68 12,-68 12,-68 6,-68 0,-62 0,-56 0,-56 0,-12 0,-12 0,-6 6,0 12,0 12,0 112,0 112,0 118,0 124,-6 124,-12 124,-12 124,-56 124,-56 124,-62 118,-68 112,-68\"/>\n",
       "<text text-anchor=\"start\" x=\"29.5\" y=\"-52.8\" font-family=\"Helvetica,sans-Serif\" font-size=\"14.00\" fill=\"#000000\">gini = 0.32</text>\n",
       "<text text-anchor=\"start\" x=\"8\" y=\"-37.8\" font-family=\"Helvetica,sans-Serif\" font-size=\"14.00\" fill=\"#000000\">samples = 30.5%</text>\n",
       "<text text-anchor=\"start\" x=\"10\" y=\"-22.8\" font-family=\"Helvetica,sans-Serif\" font-size=\"14.00\" fill=\"#000000\">value = [0.2, 0.8]</text>\n",
       "<text text-anchor=\"start\" x=\"10.5\" y=\"-7.8\" font-family=\"Helvetica,sans-Serif\" font-size=\"14.00\" fill=\"#000000\">class = Survived</text>\n",
       "</g>\n",
       "<!-- 4&#45;&gt;5 -->\n",
       "<g id=\"edge5\" class=\"edge\">\n",
       "<title>4&#45;&gt;5</title>\n",
       "<path fill=\"none\" stroke=\"#000000\" d=\"M75.1804,-103.9815C73.6052,-95.618 71.9437,-86.7965 70.3512,-78.3409\"/>\n",
       "<polygon fill=\"#000000\" stroke=\"#000000\" points=\"73.7437,-77.4431 68.4532,-68.2637 66.8647,-78.7387 73.7437,-77.4431\"/>\n",
       "</g>\n",
       "<!-- 6 -->\n",
       "<g id=\"node7\" class=\"node\">\n",
       "<title>6</title>\n",
       "<path fill=\"#efb083\" stroke=\"#000000\" d=\"M266,-68C266,-68 154,-68 154,-68 148,-68 142,-62 142,-56 142,-56 142,-12 142,-12 142,-6 148,0 154,0 154,0 266,0 266,0 272,0 278,-6 278,-12 278,-12 278,-56 278,-56 278,-62 272,-68 266,-68\"/>\n",
       "<text text-anchor=\"start\" x=\"181\" y=\"-52.8\" font-family=\"Helvetica,sans-Serif\" font-size=\"14.00\" fill=\"#000000\">gini = 0.4</text>\n",
       "<text text-anchor=\"start\" x=\"160\" y=\"-37.8\" font-family=\"Helvetica,sans-Serif\" font-size=\"14.00\" fill=\"#000000\">samples = 1.8%</text>\n",
       "<text text-anchor=\"start\" x=\"150\" y=\"-22.8\" font-family=\"Helvetica,sans-Serif\" font-size=\"14.00\" fill=\"#000000\">value = [0.73, 0.27]</text>\n",
       "<text text-anchor=\"start\" x=\"171.5\" y=\"-7.8\" font-family=\"Helvetica,sans-Serif\" font-size=\"14.00\" fill=\"#000000\">class = Died</text>\n",
       "</g>\n",
       "<!-- 4&#45;&gt;6 -->\n",
       "<g id=\"edge6\" class=\"edge\">\n",
       "<title>4&#45;&gt;6</title>\n",
       "<path fill=\"none\" stroke=\"#000000\" d=\"M130.2901,-103.9815C141.0725,-94.5151 152.523,-84.462 163.2813,-75.0168\"/>\n",
       "<polygon fill=\"#000000\" stroke=\"#000000\" points=\"165.7676,-77.4915 170.9732,-68.2637 161.1493,-72.2311 165.7676,-77.4915\"/>\n",
       "</g>\n",
       "<!-- 9 -->\n",
       "<g id=\"node10\" class=\"node\">\n",
       "<title>9</title>\n",
       "<path fill=\"#e58139\" stroke=\"#000000\" d=\"M415,-179.5C415,-179.5 319,-179.5 319,-179.5 313,-179.5 307,-173.5 307,-167.5 307,-167.5 307,-123.5 307,-123.5 307,-117.5 313,-111.5 319,-111.5 319,-111.5 415,-111.5 415,-111.5 421,-111.5 427,-117.5 427,-123.5 427,-123.5 427,-167.5 427,-167.5 427,-173.5 421,-179.5 415,-179.5\"/>\n",
       "<text text-anchor=\"start\" x=\"338\" y=\"-164.3\" font-family=\"Helvetica,sans-Serif\" font-size=\"14.00\" fill=\"#000000\">gini = 0.0</text>\n",
       "<text text-anchor=\"start\" x=\"317\" y=\"-149.3\" font-family=\"Helvetica,sans-Serif\" font-size=\"14.00\" fill=\"#000000\">samples = 0.3%</text>\n",
       "<text text-anchor=\"start\" x=\"315\" y=\"-134.3\" font-family=\"Helvetica,sans-Serif\" font-size=\"14.00\" fill=\"#000000\">value = [1.0, 0.0]</text>\n",
       "<text text-anchor=\"start\" x=\"328.5\" y=\"-119.3\" font-family=\"Helvetica,sans-Serif\" font-size=\"14.00\" fill=\"#000000\">class = Died</text>\n",
       "</g>\n",
       "<!-- 8&#45;&gt;9 -->\n",
       "<g id=\"edge9\" class=\"edge\">\n",
       "<title>8&#45;&gt;9</title>\n",
       "<path fill=\"none\" stroke=\"#000000\" d=\"M391.7094,-222.8796C388.2683,-212.1034 384.5517,-200.4647 381.0721,-189.5677\"/>\n",
       "<polygon fill=\"#000000\" stroke=\"#000000\" points=\"384.3339,-188.2763 377.9577,-179.8149 377.6656,-190.4057 384.3339,-188.2763\"/>\n",
       "</g>\n",
       "<!-- 10 -->\n",
       "<g id=\"node11\" class=\"node\">\n",
       "<title>10</title>\n",
       "<path fill=\"#eeab7b\" stroke=\"#000000\" d=\"M569,-187C569,-187 457,-187 457,-187 451,-187 445,-181 445,-175 445,-175 445,-116 445,-116 445,-110 451,-104 457,-104 457,-104 569,-104 569,-104 575,-104 581,-110 581,-116 581,-116 581,-175 581,-175 581,-181 575,-187 569,-187\"/>\n",
       "<text text-anchor=\"start\" x=\"464\" y=\"-171.8\" font-family=\"Helvetica,sans-Serif\" font-size=\"14.00\" fill=\"#000000\">Sex_male ≤ 4.5</text>\n",
       "<text text-anchor=\"start\" x=\"480.5\" y=\"-156.8\" font-family=\"Helvetica,sans-Serif\" font-size=\"14.00\" fill=\"#000000\">gini = 0.38</text>\n",
       "<text text-anchor=\"start\" x=\"463\" y=\"-141.8\" font-family=\"Helvetica,sans-Serif\" font-size=\"14.00\" fill=\"#000000\">samples = 0.6%</text>\n",
       "<text text-anchor=\"start\" x=\"453\" y=\"-126.8\" font-family=\"Helvetica,sans-Serif\" font-size=\"14.00\" fill=\"#000000\">value = [0.75, 0.25]</text>\n",
       "<text text-anchor=\"start\" x=\"474.5\" y=\"-111.8\" font-family=\"Helvetica,sans-Serif\" font-size=\"14.00\" fill=\"#000000\">class = Died</text>\n",
       "</g>\n",
       "<!-- 8&#45;&gt;10 -->\n",
       "<g id=\"edge10\" class=\"edge\">\n",
       "<title>8&#45;&gt;10</title>\n",
       "<path fill=\"none\" stroke=\"#000000\" d=\"M442.7732,-222.8796C451.0287,-213.7832 459.842,-204.0722 468.3374,-194.7116\"/>\n",
       "<polygon fill=\"#000000\" stroke=\"#000000\" points=\"470.9368,-197.0553 475.0656,-187.2981 465.7533,-192.3509 470.9368,-197.0553\"/>\n",
       "</g>\n",
       "<!-- 11 -->\n",
       "<g id=\"node12\" class=\"node\">\n",
       "<title>11</title>\n",
       "<path fill=\"#e58139\" stroke=\"#000000\" d=\"M436,-68C436,-68 340,-68 340,-68 334,-68 328,-62 328,-56 328,-56 328,-12 328,-12 328,-6 334,0 340,0 340,0 436,0 436,0 442,0 448,-6 448,-12 448,-12 448,-56 448,-56 448,-62 442,-68 436,-68\"/>\n",
       "<text text-anchor=\"start\" x=\"359\" y=\"-52.8\" font-family=\"Helvetica,sans-Serif\" font-size=\"14.00\" fill=\"#000000\">gini = 0.0</text>\n",
       "<text text-anchor=\"start\" x=\"338\" y=\"-37.8\" font-family=\"Helvetica,sans-Serif\" font-size=\"14.00\" fill=\"#000000\">samples = 0.2%</text>\n",
       "<text text-anchor=\"start\" x=\"336\" y=\"-22.8\" font-family=\"Helvetica,sans-Serif\" font-size=\"14.00\" fill=\"#000000\">value = [1.0, 0.0]</text>\n",
       "<text text-anchor=\"start\" x=\"349.5\" y=\"-7.8\" font-family=\"Helvetica,sans-Serif\" font-size=\"14.00\" fill=\"#000000\">class = Died</text>\n",
       "</g>\n",
       "<!-- 10&#45;&gt;11 -->\n",
       "<g id=\"edge11\" class=\"edge\">\n",
       "<title>10&#45;&gt;11</title>\n",
       "<path fill=\"none\" stroke=\"#000000\" d=\"M466.4546,-103.9815C455.8421,-94.5151 444.5718,-84.462 433.9829,-75.0168\"/>\n",
       "<polygon fill=\"#000000\" stroke=\"#000000\" points=\"436.2046,-72.3084 426.4122,-68.2637 431.5449,-77.5322 436.2046,-72.3084\"/>\n",
       "</g>\n",
       "<!-- 12 -->\n",
       "<g id=\"node13\" class=\"node\">\n",
       "<title>12</title>\n",
       "<path fill=\"#f2c09c\" stroke=\"#000000\" d=\"M590,-68C590,-68 478,-68 478,-68 472,-68 466,-62 466,-56 466,-56 466,-12 466,-12 466,-6 472,0 478,0 478,0 590,0 590,0 596,0 602,-6 602,-12 602,-12 602,-56 602,-56 602,-62 596,-68 590,-68\"/>\n",
       "<text text-anchor=\"start\" x=\"501.5\" y=\"-52.8\" font-family=\"Helvetica,sans-Serif\" font-size=\"14.00\" fill=\"#000000\">gini = 0.44</text>\n",
       "<text text-anchor=\"start\" x=\"484\" y=\"-37.8\" font-family=\"Helvetica,sans-Serif\" font-size=\"14.00\" fill=\"#000000\">samples = 0.5%</text>\n",
       "<text text-anchor=\"start\" x=\"474\" y=\"-22.8\" font-family=\"Helvetica,sans-Serif\" font-size=\"14.00\" fill=\"#000000\">value = [0.67, 0.33]</text>\n",
       "<text text-anchor=\"start\" x=\"495.5\" y=\"-7.8\" font-family=\"Helvetica,sans-Serif\" font-size=\"14.00\" fill=\"#000000\">class = Died</text>\n",
       "</g>\n",
       "<!-- 10&#45;&gt;12 -->\n",
       "<g id=\"edge12\" class=\"edge\">\n",
       "<title>10&#45;&gt;12</title>\n",
       "<path fill=\"none\" stroke=\"#000000\" d=\"M520.8196,-103.9815C522.3948,-95.618 524.0563,-86.7965 525.6488,-78.3409\"/>\n",
       "<polygon fill=\"#000000\" stroke=\"#000000\" points=\"529.1353,-78.7387 527.5468,-68.2637 522.2563,-77.4431 529.1353,-78.7387\"/>\n",
       "</g>\n",
       "<!-- 14 -->\n",
       "<g id=\"node15\" class=\"node\">\n",
       "<title>14</title>\n",
       "<path fill=\"#399de5\" stroke=\"#000000\" d=\"M635,-298.5C635,-298.5 539,-298.5 539,-298.5 533,-298.5 527,-292.5 527,-286.5 527,-286.5 527,-242.5 527,-242.5 527,-236.5 533,-230.5 539,-230.5 539,-230.5 635,-230.5 635,-230.5 641,-230.5 647,-236.5 647,-242.5 647,-242.5 647,-286.5 647,-286.5 647,-292.5 641,-298.5 635,-298.5\"/>\n",
       "<text text-anchor=\"start\" x=\"558\" y=\"-283.3\" font-family=\"Helvetica,sans-Serif\" font-size=\"14.00\" fill=\"#000000\">gini = 0.0</text>\n",
       "<text text-anchor=\"start\" x=\"537\" y=\"-268.3\" font-family=\"Helvetica,sans-Serif\" font-size=\"14.00\" fill=\"#000000\">samples = 0.2%</text>\n",
       "<text text-anchor=\"start\" x=\"535\" y=\"-253.3\" font-family=\"Helvetica,sans-Serif\" font-size=\"14.00\" fill=\"#000000\">value = [0.0, 1.0]</text>\n",
       "<text text-anchor=\"start\" x=\"535.5\" y=\"-238.3\" font-family=\"Helvetica,sans-Serif\" font-size=\"14.00\" fill=\"#000000\">class = Survived</text>\n",
       "</g>\n",
       "<!-- 13&#45;&gt;14 -->\n",
       "<g id=\"edge14\" class=\"edge\">\n",
       "<title>13&#45;&gt;14</title>\n",
       "<path fill=\"none\" stroke=\"#000000\" d=\"M611.0592,-341.8796C607.7086,-331.1034 604.0899,-319.4647 600.7017,-308.5677\"/>\n",
       "<polygon fill=\"#000000\" stroke=\"#000000\" points=\"603.9806,-307.3248 597.6693,-298.8149 597.2963,-309.4032 603.9806,-307.3248\"/>\n",
       "</g>\n",
       "<!-- 15 -->\n",
       "<g id=\"node16\" class=\"node\">\n",
       "<title>15</title>\n",
       "<path fill=\"#ea9b62\" stroke=\"#000000\" d=\"M789,-306C789,-306 677,-306 677,-306 671,-306 665,-300 665,-294 665,-294 665,-235 665,-235 665,-229 671,-223 677,-223 677,-223 789,-223 789,-223 795,-223 801,-229 801,-235 801,-235 801,-294 801,-294 801,-300 795,-306 789,-306\"/>\n",
       "<text text-anchor=\"start\" x=\"684\" y=\"-290.8\" font-family=\"Helvetica,sans-Serif\" font-size=\"14.00\" fill=\"#000000\">Sex_male ≤ 1.5</text>\n",
       "<text text-anchor=\"start\" x=\"700.5\" y=\"-275.8\" font-family=\"Helvetica,sans-Serif\" font-size=\"14.00\" fill=\"#000000\">gini = 0.29</text>\n",
       "<text text-anchor=\"start\" x=\"683\" y=\"-260.8\" font-family=\"Helvetica,sans-Serif\" font-size=\"14.00\" fill=\"#000000\">samples = 4.7%</text>\n",
       "<text text-anchor=\"start\" x=\"673\" y=\"-245.8\" font-family=\"Helvetica,sans-Serif\" font-size=\"14.00\" fill=\"#000000\">value = [0.83, 0.17]</text>\n",
       "<text text-anchor=\"start\" x=\"694.5\" y=\"-230.8\" font-family=\"Helvetica,sans-Serif\" font-size=\"14.00\" fill=\"#000000\">class = Died</text>\n",
       "</g>\n",
       "<!-- 13&#45;&gt;15 -->\n",
       "<g id=\"edge15\" class=\"edge\">\n",
       "<title>13&#45;&gt;15</title>\n",
       "<path fill=\"none\" stroke=\"#000000\" d=\"M662.1229,-341.8796C670.4549,-332.7832 679.3498,-323.0722 687.9239,-313.7116\"/>\n",
       "<polygon fill=\"#000000\" stroke=\"#000000\" points=\"690.5408,-316.0363 694.7144,-306.2981 685.3789,-311.3081 690.5408,-316.0363\"/>\n",
       "</g>\n",
       "<!-- 16 -->\n",
       "<g id=\"node17\" class=\"node\">\n",
       "<title>16</title>\n",
       "<path fill=\"#e58139\" stroke=\"#000000\" d=\"M707,-179.5C707,-179.5 611,-179.5 611,-179.5 605,-179.5 599,-173.5 599,-167.5 599,-167.5 599,-123.5 599,-123.5 599,-117.5 605,-111.5 611,-111.5 611,-111.5 707,-111.5 707,-111.5 713,-111.5 719,-117.5 719,-123.5 719,-123.5 719,-167.5 719,-167.5 719,-173.5 713,-179.5 707,-179.5\"/>\n",
       "<text text-anchor=\"start\" x=\"630\" y=\"-164.3\" font-family=\"Helvetica,sans-Serif\" font-size=\"14.00\" fill=\"#000000\">gini = 0.0</text>\n",
       "<text text-anchor=\"start\" x=\"609\" y=\"-149.3\" font-family=\"Helvetica,sans-Serif\" font-size=\"14.00\" fill=\"#000000\">samples = 1.8%</text>\n",
       "<text text-anchor=\"start\" x=\"607\" y=\"-134.3\" font-family=\"Helvetica,sans-Serif\" font-size=\"14.00\" fill=\"#000000\">value = [1.0, 0.0]</text>\n",
       "<text text-anchor=\"start\" x=\"620.5\" y=\"-119.3\" font-family=\"Helvetica,sans-Serif\" font-size=\"14.00\" fill=\"#000000\">class = Died</text>\n",
       "</g>\n",
       "<!-- 15&#45;&gt;16 -->\n",
       "<g id=\"edge16\" class=\"edge\">\n",
       "<title>15&#45;&gt;16</title>\n",
       "<path fill=\"none\" stroke=\"#000000\" d=\"M707.1184,-222.8796C700.2121,-211.7735 692.7361,-199.7513 685.7825,-188.5691\"/>\n",
       "<polygon fill=\"#000000\" stroke=\"#000000\" points=\"688.5917,-186.4587 680.3387,-179.8149 682.6473,-190.1552 688.5917,-186.4587\"/>\n",
       "</g>\n",
       "<!-- 17 -->\n",
       "<g id=\"node18\" class=\"node\">\n",
       "<title>17</title>\n",
       "<path fill=\"#efb185\" stroke=\"#000000\" d=\"M861,-187C861,-187 749,-187 749,-187 743,-187 737,-181 737,-175 737,-175 737,-116 737,-116 737,-110 743,-104 749,-104 749,-104 861,-104 861,-104 867,-104 873,-110 873,-116 873,-116 873,-175 873,-175 873,-181 867,-187 861,-187\"/>\n",
       "<text text-anchor=\"start\" x=\"747\" y=\"-171.8\" font-family=\"Helvetica,sans-Serif\" font-size=\"14.00\" fill=\"#000000\">Embarked_S ≤ 4.5</text>\n",
       "<text text-anchor=\"start\" x=\"776\" y=\"-156.8\" font-family=\"Helvetica,sans-Serif\" font-size=\"14.00\" fill=\"#000000\">gini = 0.4</text>\n",
       "<text text-anchor=\"start\" x=\"755\" y=\"-141.8\" font-family=\"Helvetica,sans-Serif\" font-size=\"14.00\" fill=\"#000000\">samples = 2.9%</text>\n",
       "<text text-anchor=\"start\" x=\"745\" y=\"-126.8\" font-family=\"Helvetica,sans-Serif\" font-size=\"14.00\" fill=\"#000000\">value = [0.72, 0.28]</text>\n",
       "<text text-anchor=\"start\" x=\"766.5\" y=\"-111.8\" font-family=\"Helvetica,sans-Serif\" font-size=\"14.00\" fill=\"#000000\">class = Died</text>\n",
       "</g>\n",
       "<!-- 15&#45;&gt;17 -->\n",
       "<g id=\"edge17\" class=\"edge\">\n",
       "<title>15&#45;&gt;17</title>\n",
       "<path fill=\"none\" stroke=\"#000000\" d=\"M758.1821,-222.8796C763.4133,-214.2335 768.9805,-205.0322 774.3823,-196.1042\"/>\n",
       "<polygon fill=\"#000000\" stroke=\"#000000\" points=\"777.5283,-197.6658 779.7104,-187.2981 771.5392,-194.0421 777.5283,-197.6658\"/>\n",
       "</g>\n",
       "<!-- 18 -->\n",
       "<g id=\"node19\" class=\"node\">\n",
       "<title>18</title>\n",
       "<path fill=\"#fbeade\" stroke=\"#000000\" d=\"M808,-68C808,-68 696,-68 696,-68 690,-68 684,-62 684,-56 684,-56 684,-12 684,-12 684,-6 690,0 696,0 696,0 808,0 808,0 814,0 820,-6 820,-12 820,-12 820,-56 820,-56 820,-62 814,-68 808,-68\"/>\n",
       "<text text-anchor=\"start\" x=\"723\" y=\"-52.8\" font-family=\"Helvetica,sans-Serif\" font-size=\"14.00\" fill=\"#000000\">gini = 0.5</text>\n",
       "<text text-anchor=\"start\" x=\"702\" y=\"-37.8\" font-family=\"Helvetica,sans-Serif\" font-size=\"14.00\" fill=\"#000000\">samples = 1.8%</text>\n",
       "<text text-anchor=\"start\" x=\"692\" y=\"-22.8\" font-family=\"Helvetica,sans-Serif\" font-size=\"14.00\" fill=\"#000000\">value = [0.55, 0.45]</text>\n",
       "<text text-anchor=\"start\" x=\"713.5\" y=\"-7.8\" font-family=\"Helvetica,sans-Serif\" font-size=\"14.00\" fill=\"#000000\">class = Died</text>\n",
       "</g>\n",
       "<!-- 17&#45;&gt;18 -->\n",
       "<g id=\"edge18\" class=\"edge\">\n",
       "<title>17&#45;&gt;18</title>\n",
       "<path fill=\"none\" stroke=\"#000000\" d=\"M785.2648,-103.9815C781.1582,-95.3423 776.8194,-86.2144 772.6799,-77.5059\"/>\n",
       "<polygon fill=\"#000000\" stroke=\"#000000\" points=\"775.7409,-75.7927 768.2868,-68.2637 769.4188,-78.7979 775.7409,-75.7927\"/>\n",
       "</g>\n",
       "<!-- 19 -->\n",
       "<g id=\"node20\" class=\"node\">\n",
       "<title>19</title>\n",
       "<path fill=\"#e58139\" stroke=\"#000000\" d=\"M946,-68C946,-68 850,-68 850,-68 844,-68 838,-62 838,-56 838,-56 838,-12 838,-12 838,-6 844,0 850,0 850,0 946,0 946,0 952,0 958,-6 958,-12 958,-12 958,-56 958,-56 958,-62 952,-68 946,-68\"/>\n",
       "<text text-anchor=\"start\" x=\"869\" y=\"-52.8\" font-family=\"Helvetica,sans-Serif\" font-size=\"14.00\" fill=\"#000000\">gini = 0.0</text>\n",
       "<text text-anchor=\"start\" x=\"848\" y=\"-37.8\" font-family=\"Helvetica,sans-Serif\" font-size=\"14.00\" fill=\"#000000\">samples = 1.1%</text>\n",
       "<text text-anchor=\"start\" x=\"846\" y=\"-22.8\" font-family=\"Helvetica,sans-Serif\" font-size=\"14.00\" fill=\"#000000\">value = [1.0, 0.0]</text>\n",
       "<text text-anchor=\"start\" x=\"859.5\" y=\"-7.8\" font-family=\"Helvetica,sans-Serif\" font-size=\"14.00\" fill=\"#000000\">class = Died</text>\n",
       "</g>\n",
       "<!-- 17&#45;&gt;19 -->\n",
       "<g id=\"edge19\" class=\"edge\">\n",
       "<title>17&#45;&gt;19</title>\n",
       "<path fill=\"none\" stroke=\"#000000\" d=\"M839.6298,-103.9815C847.2189,-94.8828 855.26,-85.242 862.8686,-76.1199\"/>\n",
       "<polygon fill=\"#000000\" stroke=\"#000000\" points=\"865.7039,-78.1849 869.4213,-68.2637 860.3283,-73.7012 865.7039,-78.1849\"/>\n",
       "</g>\n",
       "<!-- 21 -->\n",
       "<g id=\"node22\" class=\"node\">\n",
       "<title>21</title>\n",
       "<path fill=\"#ea975b\" stroke=\"#000000\" d=\"M1063,-425C1063,-425 951,-425 951,-425 945,-425 939,-419 939,-413 939,-413 939,-354 939,-354 939,-348 945,-342 951,-342 951,-342 1063,-342 1063,-342 1069,-342 1075,-348 1075,-354 1075,-354 1075,-413 1075,-413 1075,-419 1069,-425 1063,-425\"/>\n",
       "<text text-anchor=\"start\" x=\"949\" y=\"-409.8\" font-family=\"Helvetica,sans-Serif\" font-size=\"14.00\" fill=\"#000000\">Embarked_S ≤ 0.5</text>\n",
       "<text text-anchor=\"start\" x=\"974.5\" y=\"-394.8\" font-family=\"Helvetica,sans-Serif\" font-size=\"14.00\" fill=\"#000000\">gini = 0.25</text>\n",
       "<text text-anchor=\"start\" x=\"953\" y=\"-379.8\" font-family=\"Helvetica,sans-Serif\" font-size=\"14.00\" fill=\"#000000\">samples = 54.3%</text>\n",
       "<text text-anchor=\"start\" x=\"947\" y=\"-364.8\" font-family=\"Helvetica,sans-Serif\" font-size=\"14.00\" fill=\"#000000\">value = [0.85, 0.15]</text>\n",
       "<text text-anchor=\"start\" x=\"968.5\" y=\"-349.8\" font-family=\"Helvetica,sans-Serif\" font-size=\"14.00\" fill=\"#000000\">class = Died</text>\n",
       "</g>\n",
       "<!-- 20&#45;&gt;21 -->\n",
       "<g id=\"edge21\" class=\"edge\">\n",
       "<title>20&#45;&gt;21</title>\n",
       "<path fill=\"none\" stroke=\"#000000\" d=\"M1007,-460.8796C1007,-452.6838 1007,-443.9891 1007,-435.5013\"/>\n",
       "<polygon fill=\"#000000\" stroke=\"#000000\" points=\"1010.5001,-435.298 1007,-425.2981 1003.5001,-435.2981 1010.5001,-435.298\"/>\n",
       "</g>\n",
       "<!-- 26 -->\n",
       "<g id=\"node27\" class=\"node\">\n",
       "<title>26</title>\n",
       "<path fill=\"#e88e4d\" stroke=\"#000000\" d=\"M1384,-425C1384,-425 1272,-425 1272,-425 1266,-425 1260,-419 1260,-413 1260,-413 1260,-354 1260,-354 1260,-348 1266,-342 1272,-342 1272,-342 1384,-342 1384,-342 1390,-342 1396,-348 1396,-354 1396,-354 1396,-413 1396,-413 1396,-419 1390,-425 1384,-425\"/>\n",
       "<text text-anchor=\"start\" x=\"1270\" y=\"-409.8\" font-family=\"Helvetica,sans-Serif\" font-size=\"14.00\" fill=\"#000000\">Embarked_S ≤ 0.5</text>\n",
       "<text text-anchor=\"start\" x=\"1295.5\" y=\"-394.8\" font-family=\"Helvetica,sans-Serif\" font-size=\"14.00\" fill=\"#000000\">gini = 0.17</text>\n",
       "<text text-anchor=\"start\" x=\"1278\" y=\"-379.8\" font-family=\"Helvetica,sans-Serif\" font-size=\"14.00\" fill=\"#000000\">samples = 5.1%</text>\n",
       "<text text-anchor=\"start\" x=\"1268\" y=\"-364.8\" font-family=\"Helvetica,sans-Serif\" font-size=\"14.00\" fill=\"#000000\">value = [0.91, 0.09]</text>\n",
       "<text text-anchor=\"start\" x=\"1289.5\" y=\"-349.8\" font-family=\"Helvetica,sans-Serif\" font-size=\"14.00\" fill=\"#000000\">class = Died</text>\n",
       "</g>\n",
       "<!-- 20&#45;&gt;26 -->\n",
       "<g id=\"edge26\" class=\"edge\">\n",
       "<title>20&#45;&gt;26</title>\n",
       "<path fill=\"none\" stroke=\"#000000\" d=\"M1075.0758,-477.2632C1126.3783,-458.2445 1196.7922,-432.1409 1250.299,-412.3051\"/>\n",
       "<polygon fill=\"#000000\" stroke=\"#000000\" points=\"1251.5864,-415.5606 1259.7462,-408.8028 1249.1531,-408.9971 1251.5864,-415.5606\"/>\n",
       "</g>\n",
       "<!-- 22 -->\n",
       "<g id=\"node23\" class=\"node\">\n",
       "<title>22</title>\n",
       "<path fill=\"#e99559\" stroke=\"#000000\" d=\"M987,-298.5C987,-298.5 875,-298.5 875,-298.5 869,-298.5 863,-292.5 863,-286.5 863,-286.5 863,-242.5 863,-242.5 863,-236.5 869,-230.5 875,-230.5 875,-230.5 987,-230.5 987,-230.5 993,-230.5 999,-236.5 999,-242.5 999,-242.5 999,-286.5 999,-286.5 999,-292.5 993,-298.5 987,-298.5\"/>\n",
       "<text text-anchor=\"start\" x=\"898.5\" y=\"-283.3\" font-family=\"Helvetica,sans-Serif\" font-size=\"14.00\" fill=\"#000000\">gini = 0.24</text>\n",
       "<text text-anchor=\"start\" x=\"877\" y=\"-268.3\" font-family=\"Helvetica,sans-Serif\" font-size=\"14.00\" fill=\"#000000\">samples = 47.3%</text>\n",
       "<text text-anchor=\"start\" x=\"871\" y=\"-253.3\" font-family=\"Helvetica,sans-Serif\" font-size=\"14.00\" fill=\"#000000\">value = [0.86, 0.14]</text>\n",
       "<text text-anchor=\"start\" x=\"892.5\" y=\"-238.3\" font-family=\"Helvetica,sans-Serif\" font-size=\"14.00\" fill=\"#000000\">class = Died</text>\n",
       "</g>\n",
       "<!-- 21&#45;&gt;22 -->\n",
       "<g id=\"edge22\" class=\"edge\">\n",
       "<title>21&#45;&gt;22</title>\n",
       "<path fill=\"none\" stroke=\"#000000\" d=\"M980.4189,-341.8796C973.326,-330.7735 965.6479,-318.7513 958.5063,-307.5691\"/>\n",
       "<polygon fill=\"#000000\" stroke=\"#000000\" points=\"961.2477,-305.3589 952.9154,-298.8149 955.3482,-309.1267 961.2477,-305.3589\"/>\n",
       "</g>\n",
       "<!-- 23 -->\n",
       "<g id=\"node24\" class=\"node\">\n",
       "<title>23</title>\n",
       "<path fill=\"#eca16c\" stroke=\"#000000\" d=\"M1137,-306C1137,-306 1029,-306 1029,-306 1023,-306 1017,-300 1017,-294 1017,-294 1017,-235 1017,-235 1017,-229 1023,-223 1029,-223 1029,-223 1137,-223 1137,-223 1143,-223 1149,-229 1149,-235 1149,-235 1149,-294 1149,-294 1149,-300 1143,-306 1137,-306\"/>\n",
       "<text text-anchor=\"start\" x=\"1025\" y=\"-290.8\" font-family=\"Helvetica,sans-Serif\" font-size=\"14.00\" fill=\"#000000\">Embarked_S ≤ 1.5</text>\n",
       "<text text-anchor=\"start\" x=\"1050.5\" y=\"-275.8\" font-family=\"Helvetica,sans-Serif\" font-size=\"14.00\" fill=\"#000000\">gini = 0.33</text>\n",
       "<text text-anchor=\"start\" x=\"1033\" y=\"-260.8\" font-family=\"Helvetica,sans-Serif\" font-size=\"14.00\" fill=\"#000000\">samples = 7.1%</text>\n",
       "<text text-anchor=\"start\" x=\"1031\" y=\"-245.8\" font-family=\"Helvetica,sans-Serif\" font-size=\"14.00\" fill=\"#000000\">value = [0.8, 0.2]</text>\n",
       "<text text-anchor=\"start\" x=\"1044.5\" y=\"-230.8\" font-family=\"Helvetica,sans-Serif\" font-size=\"14.00\" fill=\"#000000\">class = Died</text>\n",
       "</g>\n",
       "<!-- 21&#45;&gt;23 -->\n",
       "<g id=\"edge23\" class=\"edge\">\n",
       "<title>21&#45;&gt;23</title>\n",
       "<path fill=\"none\" stroke=\"#000000\" d=\"M1033.5811,-341.8796C1039.1605,-333.1434 1045.1019,-323.8404 1050.8595,-314.8253\"/>\n",
       "<polygon fill=\"#000000\" stroke=\"#000000\" points=\"1053.8726,-316.6098 1056.3054,-306.2981 1047.9731,-312.8421 1053.8726,-316.6098\"/>\n",
       "</g>\n",
       "<!-- 24 -->\n",
       "<g id=\"node25\" class=\"node\">\n",
       "<title>24</title>\n",
       "<path fill=\"#eca26c\" stroke=\"#000000\" d=\"M1015,-179.5C1015,-179.5 903,-179.5 903,-179.5 897,-179.5 891,-173.5 891,-167.5 891,-167.5 891,-123.5 891,-123.5 891,-117.5 897,-111.5 903,-111.5 903,-111.5 1015,-111.5 1015,-111.5 1021,-111.5 1027,-117.5 1027,-123.5 1027,-123.5 1027,-167.5 1027,-167.5 1027,-173.5 1021,-179.5 1015,-179.5\"/>\n",
       "<text text-anchor=\"start\" x=\"926.5\" y=\"-164.3\" font-family=\"Helvetica,sans-Serif\" font-size=\"14.00\" fill=\"#000000\">gini = 0.33</text>\n",
       "<text text-anchor=\"start\" x=\"909\" y=\"-149.3\" font-family=\"Helvetica,sans-Serif\" font-size=\"14.00\" fill=\"#000000\">samples = 6.3%</text>\n",
       "<text text-anchor=\"start\" x=\"899\" y=\"-134.3\" font-family=\"Helvetica,sans-Serif\" font-size=\"14.00\" fill=\"#000000\">value = [0.79, 0.21]</text>\n",
       "<text text-anchor=\"start\" x=\"920.5\" y=\"-119.3\" font-family=\"Helvetica,sans-Serif\" font-size=\"14.00\" fill=\"#000000\">class = Died</text>\n",
       "</g>\n",
       "<!-- 23&#45;&gt;24 -->\n",
       "<g id=\"edge24\" class=\"edge\">\n",
       "<title>23&#45;&gt;24</title>\n",
       "<path fill=\"none\" stroke=\"#000000\" d=\"M1039.6308,-222.8796C1027.4852,-211.2237 1014.2881,-198.5587 1002.1549,-186.9148\"/>\n",
       "<polygon fill=\"#000000\" stroke=\"#000000\" points=\"1004.3953,-184.2138 994.7567,-179.8149 999.5484,-189.2643 1004.3953,-184.2138\"/>\n",
       "</g>\n",
       "<!-- 25 -->\n",
       "<g id=\"node26\" class=\"node\">\n",
       "<title>25</title>\n",
       "<path fill=\"#eca06a\" stroke=\"#000000\" d=\"M1153,-179.5C1153,-179.5 1057,-179.5 1057,-179.5 1051,-179.5 1045,-173.5 1045,-167.5 1045,-167.5 1045,-123.5 1045,-123.5 1045,-117.5 1051,-111.5 1057,-111.5 1057,-111.5 1153,-111.5 1153,-111.5 1159,-111.5 1165,-117.5 1165,-123.5 1165,-123.5 1165,-167.5 1165,-167.5 1165,-173.5 1159,-179.5 1153,-179.5\"/>\n",
       "<text text-anchor=\"start\" x=\"1072.5\" y=\"-164.3\" font-family=\"Helvetica,sans-Serif\" font-size=\"14.00\" fill=\"#000000\">gini = 0.32</text>\n",
       "<text text-anchor=\"start\" x=\"1055\" y=\"-149.3\" font-family=\"Helvetica,sans-Serif\" font-size=\"14.00\" fill=\"#000000\">samples = 0.8%</text>\n",
       "<text text-anchor=\"start\" x=\"1053\" y=\"-134.3\" font-family=\"Helvetica,sans-Serif\" font-size=\"14.00\" fill=\"#000000\">value = [0.8, 0.2]</text>\n",
       "<text text-anchor=\"start\" x=\"1066.5\" y=\"-119.3\" font-family=\"Helvetica,sans-Serif\" font-size=\"14.00\" fill=\"#000000\">class = Died</text>\n",
       "</g>\n",
       "<!-- 23&#45;&gt;25 -->\n",
       "<g id=\"edge25\" class=\"edge\">\n",
       "<title>23&#45;&gt;25</title>\n",
       "<path fill=\"none\" stroke=\"#000000\" d=\"M1090.6945,-222.8796C1092.6664,-212.2134 1094.7946,-200.7021 1096.7913,-189.9015\"/>\n",
       "<polygon fill=\"#000000\" stroke=\"#000000\" points=\"1100.2797,-190.2846 1098.6561,-179.8149 1093.3964,-189.012 1100.2797,-190.2846\"/>\n",
       "</g>\n",
       "<!-- 27 -->\n",
       "<g id=\"node28\" class=\"node\">\n",
       "<title>27</title>\n",
       "<path fill=\"#eeab7b\" stroke=\"#000000\" d=\"M1384,-306C1384,-306 1272,-306 1272,-306 1266,-306 1260,-300 1260,-294 1260,-294 1260,-235 1260,-235 1260,-229 1266,-223 1272,-223 1272,-223 1384,-223 1384,-223 1390,-223 1396,-229 1396,-235 1396,-235 1396,-294 1396,-294 1396,-300 1390,-306 1384,-306\"/>\n",
       "<text text-anchor=\"start\" x=\"1279\" y=\"-290.8\" font-family=\"Helvetica,sans-Serif\" font-size=\"14.00\" fill=\"#000000\">Sex_male ≤ 1.5</text>\n",
       "<text text-anchor=\"start\" x=\"1295.5\" y=\"-275.8\" font-family=\"Helvetica,sans-Serif\" font-size=\"14.00\" fill=\"#000000\">gini = 0.38</text>\n",
       "<text text-anchor=\"start\" x=\"1278\" y=\"-260.8\" font-family=\"Helvetica,sans-Serif\" font-size=\"14.00\" fill=\"#000000\">samples = 1.3%</text>\n",
       "<text text-anchor=\"start\" x=\"1268\" y=\"-245.8\" font-family=\"Helvetica,sans-Serif\" font-size=\"14.00\" fill=\"#000000\">value = [0.75, 0.25]</text>\n",
       "<text text-anchor=\"start\" x=\"1289.5\" y=\"-230.8\" font-family=\"Helvetica,sans-Serif\" font-size=\"14.00\" fill=\"#000000\">class = Died</text>\n",
       "</g>\n",
       "<!-- 26&#45;&gt;27 -->\n",
       "<g id=\"edge27\" class=\"edge\">\n",
       "<title>26&#45;&gt;27</title>\n",
       "<path fill=\"none\" stroke=\"#000000\" d=\"M1328,-341.8796C1328,-333.6838 1328,-324.9891 1328,-316.5013\"/>\n",
       "<polygon fill=\"#000000\" stroke=\"#000000\" points=\"1331.5001,-316.298 1328,-306.2981 1324.5001,-316.2981 1331.5001,-316.298\"/>\n",
       "</g>\n",
       "<!-- 30 -->\n",
       "<g id=\"node31\" class=\"node\">\n",
       "<title>30</title>\n",
       "<path fill=\"#e68642\" stroke=\"#000000\" d=\"M1615,-306C1615,-306 1503,-306 1503,-306 1497,-306 1491,-300 1491,-294 1491,-294 1491,-235 1491,-235 1491,-229 1497,-223 1503,-223 1503,-223 1615,-223 1615,-223 1621,-223 1627,-229 1627,-235 1627,-235 1627,-294 1627,-294 1627,-300 1621,-306 1615,-306\"/>\n",
       "<text text-anchor=\"start\" x=\"1510\" y=\"-290.8\" font-family=\"Helvetica,sans-Serif\" font-size=\"14.00\" fill=\"#000000\">Sex_male ≤ 1.5</text>\n",
       "<text text-anchor=\"start\" x=\"1526.5\" y=\"-275.8\" font-family=\"Helvetica,sans-Serif\" font-size=\"14.00\" fill=\"#000000\">gini = 0.08</text>\n",
       "<text text-anchor=\"start\" x=\"1509\" y=\"-260.8\" font-family=\"Helvetica,sans-Serif\" font-size=\"14.00\" fill=\"#000000\">samples = 3.9%</text>\n",
       "<text text-anchor=\"start\" x=\"1499\" y=\"-245.8\" font-family=\"Helvetica,sans-Serif\" font-size=\"14.00\" fill=\"#000000\">value = [0.96, 0.04]</text>\n",
       "<text text-anchor=\"start\" x=\"1520.5\" y=\"-230.8\" font-family=\"Helvetica,sans-Serif\" font-size=\"14.00\" fill=\"#000000\">class = Died</text>\n",
       "</g>\n",
       "<!-- 26&#45;&gt;30 -->\n",
       "<g id=\"edge30\" class=\"edge\">\n",
       "<title>26&#45;&gt;30</title>\n",
       "<path fill=\"none\" stroke=\"#000000\" d=\"M1396.0582,-348.4397C1422.8415,-334.6423 1453.7442,-318.7227 1481.39,-304.4809\"/>\n",
       "<polygon fill=\"#000000\" stroke=\"#000000\" points=\"1483.3431,-307.412 1490.63,-299.7209 1480.1374,-301.1891 1483.3431,-307.412\"/>\n",
       "</g>\n",
       "<!-- 28 -->\n",
       "<g id=\"node29\" class=\"node\">\n",
       "<title>28</title>\n",
       "<path fill=\"#eeab7b\" stroke=\"#000000\" d=\"M1307,-179.5C1307,-179.5 1195,-179.5 1195,-179.5 1189,-179.5 1183,-173.5 1183,-167.5 1183,-167.5 1183,-123.5 1183,-123.5 1183,-117.5 1189,-111.5 1195,-111.5 1195,-111.5 1307,-111.5 1307,-111.5 1313,-111.5 1319,-117.5 1319,-123.5 1319,-123.5 1319,-167.5 1319,-167.5 1319,-173.5 1313,-179.5 1307,-179.5\"/>\n",
       "<text text-anchor=\"start\" x=\"1218.5\" y=\"-164.3\" font-family=\"Helvetica,sans-Serif\" font-size=\"14.00\" fill=\"#000000\">gini = 0.38</text>\n",
       "<text text-anchor=\"start\" x=\"1201\" y=\"-149.3\" font-family=\"Helvetica,sans-Serif\" font-size=\"14.00\" fill=\"#000000\">samples = 0.6%</text>\n",
       "<text text-anchor=\"start\" x=\"1191\" y=\"-134.3\" font-family=\"Helvetica,sans-Serif\" font-size=\"14.00\" fill=\"#000000\">value = [0.75, 0.25]</text>\n",
       "<text text-anchor=\"start\" x=\"1212.5\" y=\"-119.3\" font-family=\"Helvetica,sans-Serif\" font-size=\"14.00\" fill=\"#000000\">class = Died</text>\n",
       "</g>\n",
       "<!-- 27&#45;&gt;28 -->\n",
       "<g id=\"edge28\" class=\"edge\">\n",
       "<title>27&#45;&gt;28</title>\n",
       "<path fill=\"none\" stroke=\"#000000\" d=\"M1301.0691,-222.8796C1293.8117,-211.6636 1285.9497,-199.5131 1278.6535,-188.2372\"/>\n",
       "<polygon fill=\"#000000\" stroke=\"#000000\" points=\"1281.5748,-186.3093 1273.2038,-179.8149 1275.6978,-190.112 1281.5748,-186.3093\"/>\n",
       "</g>\n",
       "<!-- 29 -->\n",
       "<g id=\"node30\" class=\"node\">\n",
       "<title>29</title>\n",
       "<path fill=\"#eeab7b\" stroke=\"#000000\" d=\"M1461,-179.5C1461,-179.5 1349,-179.5 1349,-179.5 1343,-179.5 1337,-173.5 1337,-167.5 1337,-167.5 1337,-123.5 1337,-123.5 1337,-117.5 1343,-111.5 1349,-111.5 1349,-111.5 1461,-111.5 1461,-111.5 1467,-111.5 1473,-117.5 1473,-123.5 1473,-123.5 1473,-167.5 1473,-167.5 1473,-173.5 1467,-179.5 1461,-179.5\"/>\n",
       "<text text-anchor=\"start\" x=\"1372.5\" y=\"-164.3\" font-family=\"Helvetica,sans-Serif\" font-size=\"14.00\" fill=\"#000000\">gini = 0.38</text>\n",
       "<text text-anchor=\"start\" x=\"1355\" y=\"-149.3\" font-family=\"Helvetica,sans-Serif\" font-size=\"14.00\" fill=\"#000000\">samples = 0.6%</text>\n",
       "<text text-anchor=\"start\" x=\"1345\" y=\"-134.3\" font-family=\"Helvetica,sans-Serif\" font-size=\"14.00\" fill=\"#000000\">value = [0.75, 0.25]</text>\n",
       "<text text-anchor=\"start\" x=\"1366.5\" y=\"-119.3\" font-family=\"Helvetica,sans-Serif\" font-size=\"14.00\" fill=\"#000000\">class = Died</text>\n",
       "</g>\n",
       "<!-- 27&#45;&gt;29 -->\n",
       "<g id=\"edge29\" class=\"edge\">\n",
       "<title>27&#45;&gt;29</title>\n",
       "<path fill=\"none\" stroke=\"#000000\" d=\"M1354.9309,-222.8796C1362.1883,-211.6636 1370.0503,-199.5131 1377.3465,-188.2372\"/>\n",
       "<polygon fill=\"#000000\" stroke=\"#000000\" points=\"1380.3022,-190.112 1382.7962,-179.8149 1374.4252,-186.3093 1380.3022,-190.112\"/>\n",
       "</g>\n",
       "<!-- 31 -->\n",
       "<g id=\"node32\" class=\"node\">\n",
       "<title>31</title>\n",
       "<path fill=\"#e78946\" stroke=\"#000000\" d=\"M1615,-187C1615,-187 1503,-187 1503,-187 1497,-187 1491,-181 1491,-175 1491,-175 1491,-116 1491,-116 1491,-110 1497,-104 1503,-104 1503,-104 1615,-104 1615,-104 1621,-104 1627,-110 1627,-116 1627,-116 1627,-175 1627,-175 1627,-181 1621,-187 1615,-187\"/>\n",
       "<text text-anchor=\"start\" x=\"1501\" y=\"-171.8\" font-family=\"Helvetica,sans-Serif\" font-size=\"14.00\" fill=\"#000000\">Embarked_S ≤ 1.5</text>\n",
       "<text text-anchor=\"start\" x=\"1526.5\" y=\"-156.8\" font-family=\"Helvetica,sans-Serif\" font-size=\"14.00\" fill=\"#000000\">gini = 0.12</text>\n",
       "<text text-anchor=\"start\" x=\"1509\" y=\"-141.8\" font-family=\"Helvetica,sans-Serif\" font-size=\"14.00\" fill=\"#000000\">samples = 2.6%</text>\n",
       "<text text-anchor=\"start\" x=\"1499\" y=\"-126.8\" font-family=\"Helvetica,sans-Serif\" font-size=\"14.00\" fill=\"#000000\">value = [0.94, 0.06]</text>\n",
       "<text text-anchor=\"start\" x=\"1520.5\" y=\"-111.8\" font-family=\"Helvetica,sans-Serif\" font-size=\"14.00\" fill=\"#000000\">class = Died</text>\n",
       "</g>\n",
       "<!-- 30&#45;&gt;31 -->\n",
       "<g id=\"edge31\" class=\"edge\">\n",
       "<title>30&#45;&gt;31</title>\n",
       "<path fill=\"none\" stroke=\"#000000\" d=\"M1559,-222.8796C1559,-214.6838 1559,-205.9891 1559,-197.5013\"/>\n",
       "<polygon fill=\"#000000\" stroke=\"#000000\" points=\"1562.5001,-197.298 1559,-187.2981 1555.5001,-197.2981 1562.5001,-197.298\"/>\n",
       "</g>\n",
       "<!-- 34 -->\n",
       "<g id=\"node35\" class=\"node\">\n",
       "<title>34</title>\n",
       "<path fill=\"#e58139\" stroke=\"#000000\" d=\"M1753,-179.5C1753,-179.5 1657,-179.5 1657,-179.5 1651,-179.5 1645,-173.5 1645,-167.5 1645,-167.5 1645,-123.5 1645,-123.5 1645,-117.5 1651,-111.5 1657,-111.5 1657,-111.5 1753,-111.5 1753,-111.5 1759,-111.5 1765,-117.5 1765,-123.5 1765,-123.5 1765,-167.5 1765,-167.5 1765,-173.5 1759,-179.5 1753,-179.5\"/>\n",
       "<text text-anchor=\"start\" x=\"1676\" y=\"-164.3\" font-family=\"Helvetica,sans-Serif\" font-size=\"14.00\" fill=\"#000000\">gini = 0.0</text>\n",
       "<text text-anchor=\"start\" x=\"1655\" y=\"-149.3\" font-family=\"Helvetica,sans-Serif\" font-size=\"14.00\" fill=\"#000000\">samples = 1.3%</text>\n",
       "<text text-anchor=\"start\" x=\"1653\" y=\"-134.3\" font-family=\"Helvetica,sans-Serif\" font-size=\"14.00\" fill=\"#000000\">value = [1.0, 0.0]</text>\n",
       "<text text-anchor=\"start\" x=\"1666.5\" y=\"-119.3\" font-family=\"Helvetica,sans-Serif\" font-size=\"14.00\" fill=\"#000000\">class = Died</text>\n",
       "</g>\n",
       "<!-- 30&#45;&gt;34 -->\n",
       "<g id=\"edge34\" class=\"edge\">\n",
       "<title>30&#45;&gt;34</title>\n",
       "<path fill=\"none\" stroke=\"#000000\" d=\"M1610.0637,-222.8796C1624.634,-211.0038 1640.4896,-198.0804 1654.9958,-186.2568\"/>\n",
       "<polygon fill=\"#000000\" stroke=\"#000000\" points=\"1657.3592,-188.8459 1662.8993,-179.8149 1652.9366,-183.4199 1657.3592,-188.8459\"/>\n",
       "</g>\n",
       "<!-- 32 -->\n",
       "<g id=\"node33\" class=\"node\">\n",
       "<title>32</title>\n",
       "<path fill=\"#e78c49\" stroke=\"#000000\" d=\"M1542,-68C1542,-68 1430,-68 1430,-68 1424,-68 1418,-62 1418,-56 1418,-56 1418,-12 1418,-12 1418,-6 1424,0 1430,0 1430,0 1542,0 1542,0 1548,0 1554,-6 1554,-12 1554,-12 1554,-56 1554,-56 1554,-62 1548,-68 1542,-68\"/>\n",
       "<text text-anchor=\"start\" x=\"1453.5\" y=\"-52.8\" font-family=\"Helvetica,sans-Serif\" font-size=\"14.00\" fill=\"#000000\">gini = 0.14</text>\n",
       "<text text-anchor=\"start\" x=\"1436\" y=\"-37.8\" font-family=\"Helvetica,sans-Serif\" font-size=\"14.00\" fill=\"#000000\">samples = 2.1%</text>\n",
       "<text text-anchor=\"start\" x=\"1426\" y=\"-22.8\" font-family=\"Helvetica,sans-Serif\" font-size=\"14.00\" fill=\"#000000\">value = [0.92, 0.08]</text>\n",
       "<text text-anchor=\"start\" x=\"1447.5\" y=\"-7.8\" font-family=\"Helvetica,sans-Serif\" font-size=\"14.00\" fill=\"#000000\">class = Died</text>\n",
       "</g>\n",
       "<!-- 31&#45;&gt;32 -->\n",
       "<g id=\"edge32\" class=\"edge\">\n",
       "<title>31&#45;&gt;32</title>\n",
       "<path fill=\"none\" stroke=\"#000000\" d=\"M1531.8175,-103.9815C1525.9808,-95.0666 1519.8034,-85.6313 1513.9386,-76.6734\"/>\n",
       "<polygon fill=\"#000000\" stroke=\"#000000\" points=\"1516.8386,-74.7129 1508.4327,-68.2637 1510.9821,-78.5472 1516.8386,-74.7129\"/>\n",
       "</g>\n",
       "<!-- 33 -->\n",
       "<g id=\"node34\" class=\"node\">\n",
       "<title>33</title>\n",
       "<path fill=\"#e58139\" stroke=\"#000000\" d=\"M1680,-68C1680,-68 1584,-68 1584,-68 1578,-68 1572,-62 1572,-56 1572,-56 1572,-12 1572,-12 1572,-6 1578,0 1584,0 1584,0 1680,0 1680,0 1686,0 1692,-6 1692,-12 1692,-12 1692,-56 1692,-56 1692,-62 1686,-68 1680,-68\"/>\n",
       "<text text-anchor=\"start\" x=\"1603\" y=\"-52.8\" font-family=\"Helvetica,sans-Serif\" font-size=\"14.00\" fill=\"#000000\">gini = 0.0</text>\n",
       "<text text-anchor=\"start\" x=\"1582\" y=\"-37.8\" font-family=\"Helvetica,sans-Serif\" font-size=\"14.00\" fill=\"#000000\">samples = 0.5%</text>\n",
       "<text text-anchor=\"start\" x=\"1580\" y=\"-22.8\" font-family=\"Helvetica,sans-Serif\" font-size=\"14.00\" fill=\"#000000\">value = [1.0, 0.0]</text>\n",
       "<text text-anchor=\"start\" x=\"1593.5\" y=\"-7.8\" font-family=\"Helvetica,sans-Serif\" font-size=\"14.00\" fill=\"#000000\">class = Died</text>\n",
       "</g>\n",
       "<!-- 31&#45;&gt;33 -->\n",
       "<g id=\"edge33\" class=\"edge\">\n",
       "<title>31&#45;&gt;33</title>\n",
       "<path fill=\"none\" stroke=\"#000000\" d=\"M1586.1825,-103.9815C1592.0192,-95.0666 1598.1966,-85.6313 1604.0614,-76.6734\"/>\n",
       "<polygon fill=\"#000000\" stroke=\"#000000\" points=\"1607.0179,-78.5472 1609.5673,-68.2637 1601.1614,-74.7129 1607.0179,-78.5472\"/>\n",
       "</g>\n",
       "</g>\n",
       "</svg>\n"
      ],
      "text/plain": [
       "<graphviz.files.Source at 0x1a205ca5c0>"
      ]
     },
     "execution_count": 23,
     "metadata": {},
     "output_type": "execute_result"
    }
   ],
   "source": [
    "target_names = ['Died', 'Survived']\n",
    "dot_data = export_graphviz(clf3, precision=2,\n",
    "feature_names=df1.columns,\n",
    "proportion=True,\n",
    "class_names=target_names,\n",
    "filled=True, rounded=True,\n",
    "special_characters=True)\n",
    "# plot it\n",
    "graph = graphviz.Source(dot_data)\n",
    "graph"
   ]
  },
  {
   "cell_type": "markdown",
   "metadata": {},
   "source": [
    "#### Accuracy"
   ]
  },
  {
   "cell_type": "code",
   "execution_count": 24,
   "metadata": {},
   "outputs": [
    {
     "name": "stdout",
     "output_type": "stream",
     "text": [
      "Baseline accuracy: 0.63\n",
      "Accuracy after training: 0.81\n"
     ]
    }
   ],
   "source": [
    "print(\"Baseline accuracy: {:.2f}\".format(base_acc(y_train)))\n",
    "predictions = clf3.predict(X_test)\n",
    "\n",
    "print(\"Accuracy after training: {:.2f}\".format(clf3.score(X_test, y_test)))"
   ]
  },
  {
   "cell_type": "markdown",
   "metadata": {},
   "source": [
    "With the *optimal* features from the forward feature selection algorithm we can see a great improvement in accuracy of the model. The selected features from the algorithm definitely works good on the test data."
   ]
  },
  {
   "cell_type": "code",
   "execution_count": 25,
   "metadata": {},
   "outputs": [
    {
     "name": "stdout",
     "output_type": "stream",
     "text": [
      "           predicted    \n",
      "actual      DiedSurvived\n",
      "Died         135      22\n",
      "Survived      30      80\n"
     ]
    }
   ],
   "source": [
    "print_conf_mtx(y_test, predictions, [\"Died\", \"Survived\"])"
   ]
  },
  {
   "cell_type": "markdown",
   "metadata": {},
   "source": [
    "From the confusion matrix above, let's calculate precision and recall."
   ]
  },
  {
   "cell_type": "code",
   "execution_count": 26,
   "metadata": {},
   "outputs": [
    {
     "name": "stdout",
     "output_type": "stream",
     "text": [
      "Precision: 0.78 Recall: 0.73\n"
     ]
    }
   ],
   "source": [
    "print(\"Precision: {:.2f} Recall: {:.2f}\"\n",
    "      .format(precisionAndRecall(y_test, predictions)[0], precisionAndRecall(y_test, predictions)[1]))"
   ]
  },
  {
   "cell_type": "markdown",
   "metadata": {},
   "source": [
    "Compared to the previous model the precision has gone down 10 percent points and recall up by 18 percent points. This indicates that the predictions on survival is less accurate and the percentage of total relevant results correctly classified by your algorithm has gone up."
   ]
  },
  {
   "cell_type": "markdown",
   "metadata": {},
   "source": [
    "#### Learning Curve"
   ]
  },
  {
   "cell_type": "code",
   "execution_count": 27,
   "metadata": {},
   "outputs": [
    {
     "data": {
      "image/png": "[encoded data removed]",
      "text/plain": [
       "<Figure size 432x288 with 1 Axes>"
      ]
     },
     "metadata": {
      "needs_background": "light"
     },
     "output_type": "display_data"
    }
   ],
   "source": [
    "print_learningCurve(clf3, X_train, X_test, y_train, y_test)"
   ]
  },
  {
   "cell_type": "markdown",
   "metadata": {},
   "source": [
    "From this learning curve on the test data we can see a great learning improvment from the steep blue curve at the beginning. It seems to flatten out from 250+ rows of data.\n",
    "\n",
    "For the training data it is a steep learning curve for the 150 first instances and then we can see a decline in the learning curve for the next 100 instances of data. When the data increases more we can see both a new decline and improvement. Again as for the previous model, it would be interesting to see a continueation of this plot given we had more data.\n",
    "\n",
    "These two graphs can represent somewhat a high variance situation."
   ]
  },
  {
   "cell_type": "markdown",
   "metadata": {},
   "source": [
    "### Feature importance"
   ]
  },
  {
   "cell_type": "markdown",
   "metadata": {},
   "source": [
    "This plot shows based on all the data what features have most impact on survival prediction."
   ]
  },
  {
   "cell_type": "code",
   "execution_count": 28,
   "metadata": {},
   "outputs": [
    {
     "data": {
      "image/png": "[encoded data removed]",
      "text/plain": [
       "<Figure size 432x288 with 1 Axes>"
      ]
     },
     "metadata": {
      "needs_background": "light"
     },
     "output_type": "display_data"
    }
   ],
   "source": [
    "#plt.figure(figsize=(15,7))\n",
    "ax = sns.barplot(x=df2.columns, y=clf2.feature_importances_)\n",
    "plt.title(\"Feature Importance\")\n",
    "plt.xticks(rotation=-90)\n",
    "plt.xlabel(\"Features\")\n",
    "plt.ylabel(\"Level of importance\")\n",
    "plt.show()"
   ]
  },
  {
   "cell_type": "markdown",
   "metadata": {},
   "source": [
    "## Conclusions"
   ]
  },
  {
   "cell_type": "markdown",
   "metadata": {},
   "source": [
    "---"
   ]
  },
  {
   "cell_type": "markdown",
   "metadata": {},
   "source": [
    "#### Model 1\n",
    "Used following predictors: Embarked, Pclass, Sex\n",
    "Baseline accuracy: 0.63\n",
    "Accuracy after training: 0.78\n",
    "\n",
    "For the first model we looked at the features that were intuitive and that presented themselves from the data exploration we did initially in this report. When using these predictors we got an accuracy of 0.78 compared to the baseline value of the model at 0.63. This is not a huge increase, but our model still improved a fair bit compared to the baseline value. When looking at the learning curve for this model, it seems like a lot of training data was needed to make to model make efficient predictions on the test data. \n",
    "\n",
    "---\n",
    "#### Model 2\n",
    "Used following predictors: Title_Mr., SibSp, Parch, Sex_male, Title_Master.\n",
    "Baseline accuracy: 0.63\n",
    "Accuracy after training: 0.81\n",
    "\n",
    "\n",
    "For the second model we used forward feature selection to choose our features. when training and making predictions on the test data with this model, the accuracy increased a bit compared to the first model. The baseline accuracy for this model was also 0.63, and our final accuracy when making predictions was 0.81. This is a reasonably good classifier. Looking at the learning curve for this model, it seemed like there could be a high variance issue, just like with the first model we trained. The precision value for this model went down a bit, but it was more balanced between precision and recall. \n",
    "\n",
    "---\n",
    "When making a feature importance plot on all the features, using the model used for forward feature selection we could see that some distinct features were more important to classification than others. Maybe a new model based on these features would be favorable."
   ]
  }
 ],
 "metadata": {
  "kernelspec": {
   "display_name": "Python 3",
   "language": "python",
   "name": "python3"
  },
  "language_info": {
   "codemirror_mode": {
    "name": "ipython",
    "version": 3
   },
   "file_extension": ".py",
   "mimetype": "text/x-python",
   "name": "python",
   "nbconvert_exporter": "python",
   "pygments_lexer": "ipython3",
   "version": "3.7.3"
  }
 },
 "nbformat": 4,
 "nbformat_minor": 2
}
