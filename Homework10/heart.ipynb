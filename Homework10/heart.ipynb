{
 "cells": [
  {
   "cell_type": "markdown",
   "metadata": {},
   "source": [
    "# Homework10 - Heart disease\n",
    "\n",
    "By: Mathias Lund Ahrn\n",
    "\n",
    "\n",
    "This project will be using logistic regression to classify if a patient has heart disease. \n"
   ]
  },
  {
   "cell_type": "code",
   "execution_count": 50,
   "metadata": {},
   "outputs": [],
   "source": [
    "import numpy as np\n",
    "import pandas as pd\n",
    "import matplotlib.pyplot as plt\n",
    "from scipy.stats import zscore\n",
    "from matplotlib import rcParams\n",
    "import seaborn as sns\n",
    "sns.set()\n",
    "rcParams['figure.figsize'] = 8,6\n",
    "sns.set_context('talk')\n",
    "from scipy.stats import zscore\n",
    "from sklearn.linear_model import LogisticRegression\n",
    "from sklearn.preprocessing import PolynomialFeatures\n",
    "from sklearn.metrics import mean_squared_error, r2_score\n",
    "from sklearn.model_selection import train_test_split, cross_val_score\n",
    "from sklearn.metrics import confusion_matrix, roc_curve, roc_auc_score\n",
    "from sklearn.metrics import precision_recall_curve\n",
    "from inspect import signature\n",
    "\n",
    "# import warnings filter\n",
    "from warnings import simplefilter\n",
    "# ignore all future warnings\n",
    "simplefilter(action='ignore', category=FutureWarning)"
   ]
  },
  {
   "cell_type": "code",
   "execution_count": 2,
   "metadata": {},
   "outputs": [],
   "source": [
    "df = pd.read_csv(\"https://raw.githubusercontent.com/grbruns/cst383/master/heart.csv\")\n",
    "df['output'] = df['output'] - 1"
   ]
  },
  {
   "cell_type": "markdown",
   "metadata": {},
   "source": [
    "### About the dataset\n",
    "\n",
    "**Name**: Statlog (Heart) Data Set derived from Heart Disease Data Set\n",
    "\n",
    "**Date donated**: July 1st 1988\n",
    "\n",
    "**Donor**: David W. Aha (aha '@' ics.uci.edu) (714) 856-8779\n",
    "\n",
    "This is a heart disease database from Cleveland, Hungary, Switzerland and the VA Long Beach.\n",
    "\n",
    "\n",
    "Data hosted on [GitHub](https://raw.githubusercontent.com/grbruns/cst383/master/heart.csv) by [Dr. Glenn Bruns](https://github.com/grbruns/cst383/blob/master/heart.csv)."
   ]
  },
  {
   "cell_type": "markdown",
   "metadata": {},
   "source": [
    "# Initial Exploration"
   ]
  },
  {
   "cell_type": "code",
   "execution_count": 51,
   "metadata": {},
   "outputs": [
    {
     "name": "stdout",
     "output_type": "stream",
     "text": [
      "The dataset consists of 270 rows and 17 columns.\n"
     ]
    }
   ],
   "source": [
    "print(\"The dataset consists of {:} rows and {:} columns.\".format(df.shape[0], df.shape[1]))"
   ]
  },
  {
   "cell_type": "markdown",
   "metadata": {},
   "source": [
    "The target attribute is the *output* column where 0 means no heart disease and 1 means heart disease is present.\n",
    "\n",
    "### Attribute types\n",
    "There are four categories of attribute types. This section will go through each and explain those which are not *real* data.\n",
    "\n",
    "##### Real data\n",
    "- *Age*\n",
    "- *Resting blood pressure (rbp)*\n",
    "- *Serum cholestoral in mg/dl (chol)*\n",
    "- *Maximum heart rate achieved (maxhr)* \n",
    "- *Oldpeak = ST depression induced by exercise relative to rest (dep)*\n",
    "- *Number of major vessels (0-3) colored by flourosopy (fluor)*\n",
    "\n",
    "\n",
    "##### Ordered data\n",
    "- The slope of the peak exercise ST segment\n",
    "    - Value 1: upsloping\n",
    "    - Value 2: flat\n",
    "    - Value 3: downsloping\n",
    "\n",
    "\n",
    "##### Binary data\n",
    "- Sex, female = 0 & male = 1\n",
    "- Fasting blood sugar > 120 mg/dl (sugar), 0 = false & 1 = true\n",
    "- Exercise induced angina (angina), 0 = no & 1 = yes\n",
    "\n",
    "##### Nominal data\n",
    "- Chest pain type (4 values) (chestpain)\n",
    "    - Value 1: typical angina\n",
    "    - Value 2: atypical angina\n",
    "    - Value 3: non-anginal pain\n",
    "    - Value 4: asymptomatic\n",
    "- Resting electrocardiographic results (ecg)\n",
    "    - Value 0: normal\n",
    "    - Value 1: having ST-T wave abnormality (T wave inversions and/or ST elevation or depression of > 0.05 mV)\n",
    "    - Value 2: showing probable or definite left ventricular hypertrophy by Estes' criteria\n",
    "-  thal\n",
    "    - 3 = normal\n",
    "    - 6 = fixed defect\n",
    "    - 7 = reversable defect"
   ]
  },
  {
   "cell_type": "code",
   "execution_count": 4,
   "metadata": {},
   "outputs": [
    {
     "name": "stdout",
     "output_type": "stream",
     "text": [
      "<class 'pandas.core.frame.DataFrame'>\n",
      "RangeIndex: 270 entries, 0 to 269\n",
      "Data columns (total 14 columns):\n",
      "age          270 non-null int64\n",
      "sex          270 non-null int64\n",
      "chestpain    270 non-null int64\n",
      "restbp       270 non-null int64\n",
      "chol         270 non-null int64\n",
      "sugar        270 non-null int64\n",
      "ecg          270 non-null int64\n",
      "maxhr        270 non-null int64\n",
      "angina       270 non-null int64\n",
      "dep          270 non-null float64\n",
      "exercise     270 non-null int64\n",
      "fluor        270 non-null int64\n",
      "thal         270 non-null int64\n",
      "output       270 non-null int64\n",
      "dtypes: float64(1), int64(13)\n",
      "memory usage: 29.6 KB\n"
     ]
    }
   ],
   "source": [
    "df.info()"
   ]
  },
  {
   "cell_type": "markdown",
   "metadata": {},
   "source": [
    "It seems that the dataset has no missing values (NA's)."
   ]
  },
  {
   "cell_type": "code",
   "execution_count": 44,
   "metadata": {},
   "outputs": [
    {
     "data": {
      "text/html": [
       "<div>\n",
       "<style scoped>\n",
       "    .dataframe tbody tr th:only-of-type {\n",
       "        vertical-align: middle;\n",
       "    }\n",
       "\n",
       "    .dataframe tbody tr th {\n",
       "        vertical-align: top;\n",
       "    }\n",
       "\n",
       "    .dataframe thead th {\n",
       "        text-align: right;\n",
       "    }\n",
       "</style>\n",
       "<table border=\"1\" class=\"dataframe\">\n",
       "  <thead>\n",
       "    <tr style=\"text-align: right;\">\n",
       "      <th></th>\n",
       "      <th>age</th>\n",
       "      <th>sex</th>\n",
       "      <th>restbp</th>\n",
       "      <th>chol</th>\n",
       "      <th>sugar</th>\n",
       "      <th>maxhr</th>\n",
       "      <th>angina</th>\n",
       "      <th>dep</th>\n",
       "      <th>exercise</th>\n",
       "      <th>fluor</th>\n",
       "      <th>chestpain_2</th>\n",
       "      <th>chestpain_3</th>\n",
       "      <th>chestpain_4</th>\n",
       "      <th>ecg_1</th>\n",
       "      <th>ecg_2</th>\n",
       "      <th>thal_6</th>\n",
       "      <th>thal_7</th>\n",
       "    </tr>\n",
       "  </thead>\n",
       "  <tbody>\n",
       "    <tr>\n",
       "      <th>count</th>\n",
       "      <td>270.000000</td>\n",
       "      <td>270.000000</td>\n",
       "      <td>270.000000</td>\n",
       "      <td>270.000000</td>\n",
       "      <td>270.000000</td>\n",
       "      <td>270.000000</td>\n",
       "      <td>270.000000</td>\n",
       "      <td>270.00000</td>\n",
       "      <td>270.000000</td>\n",
       "      <td>270.000000</td>\n",
       "      <td>270.000000</td>\n",
       "      <td>270.000000</td>\n",
       "      <td>270.000000</td>\n",
       "      <td>270.000000</td>\n",
       "      <td>270.000000</td>\n",
       "      <td>270.000000</td>\n",
       "      <td>270.000000</td>\n",
       "    </tr>\n",
       "    <tr>\n",
       "      <th>mean</th>\n",
       "      <td>54.433333</td>\n",
       "      <td>0.677778</td>\n",
       "      <td>131.344444</td>\n",
       "      <td>249.659259</td>\n",
       "      <td>0.148148</td>\n",
       "      <td>149.677778</td>\n",
       "      <td>0.329630</td>\n",
       "      <td>1.05000</td>\n",
       "      <td>1.585185</td>\n",
       "      <td>0.670370</td>\n",
       "      <td>0.155556</td>\n",
       "      <td>0.292593</td>\n",
       "      <td>0.477778</td>\n",
       "      <td>0.007407</td>\n",
       "      <td>0.507407</td>\n",
       "      <td>0.051852</td>\n",
       "      <td>0.385185</td>\n",
       "    </tr>\n",
       "    <tr>\n",
       "      <th>std</th>\n",
       "      <td>9.109067</td>\n",
       "      <td>0.468195</td>\n",
       "      <td>17.861608</td>\n",
       "      <td>51.686237</td>\n",
       "      <td>0.355906</td>\n",
       "      <td>23.165717</td>\n",
       "      <td>0.470952</td>\n",
       "      <td>1.14521</td>\n",
       "      <td>0.614390</td>\n",
       "      <td>0.943896</td>\n",
       "      <td>0.363107</td>\n",
       "      <td>0.455798</td>\n",
       "      <td>0.500434</td>\n",
       "      <td>0.085906</td>\n",
       "      <td>0.500874</td>\n",
       "      <td>0.222140</td>\n",
       "      <td>0.487543</td>\n",
       "    </tr>\n",
       "    <tr>\n",
       "      <th>min</th>\n",
       "      <td>29.000000</td>\n",
       "      <td>0.000000</td>\n",
       "      <td>94.000000</td>\n",
       "      <td>126.000000</td>\n",
       "      <td>0.000000</td>\n",
       "      <td>71.000000</td>\n",
       "      <td>0.000000</td>\n",
       "      <td>0.00000</td>\n",
       "      <td>1.000000</td>\n",
       "      <td>0.000000</td>\n",
       "      <td>0.000000</td>\n",
       "      <td>0.000000</td>\n",
       "      <td>0.000000</td>\n",
       "      <td>0.000000</td>\n",
       "      <td>0.000000</td>\n",
       "      <td>0.000000</td>\n",
       "      <td>0.000000</td>\n",
       "    </tr>\n",
       "    <tr>\n",
       "      <th>25%</th>\n",
       "      <td>48.000000</td>\n",
       "      <td>0.000000</td>\n",
       "      <td>120.000000</td>\n",
       "      <td>213.000000</td>\n",
       "      <td>0.000000</td>\n",
       "      <td>133.000000</td>\n",
       "      <td>0.000000</td>\n",
       "      <td>0.00000</td>\n",
       "      <td>1.000000</td>\n",
       "      <td>0.000000</td>\n",
       "      <td>0.000000</td>\n",
       "      <td>0.000000</td>\n",
       "      <td>0.000000</td>\n",
       "      <td>0.000000</td>\n",
       "      <td>0.000000</td>\n",
       "      <td>0.000000</td>\n",
       "      <td>0.000000</td>\n",
       "    </tr>\n",
       "    <tr>\n",
       "      <th>50%</th>\n",
       "      <td>55.000000</td>\n",
       "      <td>1.000000</td>\n",
       "      <td>130.000000</td>\n",
       "      <td>245.000000</td>\n",
       "      <td>0.000000</td>\n",
       "      <td>153.500000</td>\n",
       "      <td>0.000000</td>\n",
       "      <td>0.80000</td>\n",
       "      <td>2.000000</td>\n",
       "      <td>0.000000</td>\n",
       "      <td>0.000000</td>\n",
       "      <td>0.000000</td>\n",
       "      <td>0.000000</td>\n",
       "      <td>0.000000</td>\n",
       "      <td>1.000000</td>\n",
       "      <td>0.000000</td>\n",
       "      <td>0.000000</td>\n",
       "    </tr>\n",
       "    <tr>\n",
       "      <th>75%</th>\n",
       "      <td>61.000000</td>\n",
       "      <td>1.000000</td>\n",
       "      <td>140.000000</td>\n",
       "      <td>280.000000</td>\n",
       "      <td>0.000000</td>\n",
       "      <td>166.000000</td>\n",
       "      <td>1.000000</td>\n",
       "      <td>1.60000</td>\n",
       "      <td>2.000000</td>\n",
       "      <td>1.000000</td>\n",
       "      <td>0.000000</td>\n",
       "      <td>1.000000</td>\n",
       "      <td>1.000000</td>\n",
       "      <td>0.000000</td>\n",
       "      <td>1.000000</td>\n",
       "      <td>0.000000</td>\n",
       "      <td>1.000000</td>\n",
       "    </tr>\n",
       "    <tr>\n",
       "      <th>max</th>\n",
       "      <td>77.000000</td>\n",
       "      <td>1.000000</td>\n",
       "      <td>200.000000</td>\n",
       "      <td>564.000000</td>\n",
       "      <td>1.000000</td>\n",
       "      <td>202.000000</td>\n",
       "      <td>1.000000</td>\n",
       "      <td>6.20000</td>\n",
       "      <td>3.000000</td>\n",
       "      <td>3.000000</td>\n",
       "      <td>1.000000</td>\n",
       "      <td>1.000000</td>\n",
       "      <td>1.000000</td>\n",
       "      <td>1.000000</td>\n",
       "      <td>1.000000</td>\n",
       "      <td>1.000000</td>\n",
       "      <td>1.000000</td>\n",
       "    </tr>\n",
       "  </tbody>\n",
       "</table>\n",
       "</div>"
      ],
      "text/plain": [
       "              age         sex      restbp        chol       sugar       maxhr  \\\n",
       "count  270.000000  270.000000  270.000000  270.000000  270.000000  270.000000   \n",
       "mean    54.433333    0.677778  131.344444  249.659259    0.148148  149.677778   \n",
       "std      9.109067    0.468195   17.861608   51.686237    0.355906   23.165717   \n",
       "min     29.000000    0.000000   94.000000  126.000000    0.000000   71.000000   \n",
       "25%     48.000000    0.000000  120.000000  213.000000    0.000000  133.000000   \n",
       "50%     55.000000    1.000000  130.000000  245.000000    0.000000  153.500000   \n",
       "75%     61.000000    1.000000  140.000000  280.000000    0.000000  166.000000   \n",
       "max     77.000000    1.000000  200.000000  564.000000    1.000000  202.000000   \n",
       "\n",
       "           angina        dep    exercise       fluor  chestpain_2  \\\n",
       "count  270.000000  270.00000  270.000000  270.000000   270.000000   \n",
       "mean     0.329630    1.05000    1.585185    0.670370     0.155556   \n",
       "std      0.470952    1.14521    0.614390    0.943896     0.363107   \n",
       "min      0.000000    0.00000    1.000000    0.000000     0.000000   \n",
       "25%      0.000000    0.00000    1.000000    0.000000     0.000000   \n",
       "50%      0.000000    0.80000    2.000000    0.000000     0.000000   \n",
       "75%      1.000000    1.60000    2.000000    1.000000     0.000000   \n",
       "max      1.000000    6.20000    3.000000    3.000000     1.000000   \n",
       "\n",
       "       chestpain_3  chestpain_4       ecg_1       ecg_2      thal_6  \\\n",
       "count   270.000000   270.000000  270.000000  270.000000  270.000000   \n",
       "mean      0.292593     0.477778    0.007407    0.507407    0.051852   \n",
       "std       0.455798     0.500434    0.085906    0.500874    0.222140   \n",
       "min       0.000000     0.000000    0.000000    0.000000    0.000000   \n",
       "25%       0.000000     0.000000    0.000000    0.000000    0.000000   \n",
       "50%       0.000000     0.000000    0.000000    1.000000    0.000000   \n",
       "75%       1.000000     1.000000    0.000000    1.000000    0.000000   \n",
       "max       1.000000     1.000000    1.000000    1.000000    1.000000   \n",
       "\n",
       "           thal_7  \n",
       "count  270.000000  \n",
       "mean     0.385185  \n",
       "std      0.487543  \n",
       "min      0.000000  \n",
       "25%      0.000000  \n",
       "50%      0.000000  \n",
       "75%      1.000000  \n",
       "max      1.000000  "
      ]
     },
     "execution_count": 44,
     "metadata": {},
     "output_type": "execute_result"
    }
   ],
   "source": [
    "df.describe()"
   ]
  },
  {
   "cell_type": "markdown",
   "metadata": {},
   "source": [
    "Looking at this we can see there are slightly more men in this dataset and there are people as young as 29 years old up to 77 years old with heart disease."
   ]
  },
  {
   "cell_type": "code",
   "execution_count": 47,
   "metadata": {},
   "outputs": [
    {
     "data": {
      "image/png": "[encoded data removed]",
      "text/plain": [
       "<Figure size 432x288 with 1 Axes>"
      ]
     },
     "metadata": {
      "needs_background": "light"
     },
     "output_type": "display_data"
    }
   ],
   "source": [
    "ages = sns.distplot(df[\"age\"]);\n",
    "plt.title(\"Density of ages\")\n",
    "plt.xlabel(\"Age\")\n",
    "plt.ylabel(\"Density\")\n",
    "plt.show(ages);\n"
   ]
  },
  {
   "cell_type": "markdown",
   "metadata": {},
   "source": [
    "# Initial Preprocessing"
   ]
  },
  {
   "cell_type": "markdown",
   "metadata": {},
   "source": [
    "Have to convert the categorical data (chestpain, ecg and thal) into dummy data."
   ]
  },
  {
   "cell_type": "code",
   "execution_count": 5,
   "metadata": {},
   "outputs": [],
   "source": [
    "df = pd.get_dummies(df, columns=[\"chestpain\", \"ecg\", \"thal\"], drop_first=True)"
   ]
  },
  {
   "cell_type": "markdown",
   "metadata": {},
   "source": [
    "Now the dataset have been updated."
   ]
  },
  {
   "cell_type": "code",
   "execution_count": 6,
   "metadata": {},
   "outputs": [
    {
     "name": "stdout",
     "output_type": "stream",
     "text": [
      "<class 'pandas.core.frame.DataFrame'>\n",
      "RangeIndex: 270 entries, 0 to 269\n",
      "Data columns (total 18 columns):\n",
      "age            270 non-null int64\n",
      "sex            270 non-null int64\n",
      "restbp         270 non-null int64\n",
      "chol           270 non-null int64\n",
      "sugar          270 non-null int64\n",
      "maxhr          270 non-null int64\n",
      "angina         270 non-null int64\n",
      "dep            270 non-null float64\n",
      "exercise       270 non-null int64\n",
      "fluor          270 non-null int64\n",
      "output         270 non-null int64\n",
      "chestpain_2    270 non-null uint8\n",
      "chestpain_3    270 non-null uint8\n",
      "chestpain_4    270 non-null uint8\n",
      "ecg_1          270 non-null uint8\n",
      "ecg_2          270 non-null uint8\n",
      "thal_6         270 non-null uint8\n",
      "thal_7         270 non-null uint8\n",
      "dtypes: float64(1), int64(10), uint8(7)\n",
      "memory usage: 25.1 KB\n"
     ]
    }
   ],
   "source": [
    "df.info()"
   ]
  },
  {
   "cell_type": "markdown",
   "metadata": {},
   "source": [
    "Assigning all data except output columns to a variable X and the target column (output) to y."
   ]
  },
  {
   "cell_type": "code",
   "execution_count": 7,
   "metadata": {},
   "outputs": [],
   "source": [
    "y = df[\"output\"].values\n",
    "df = df.drop(columns=[\"output\"])\n",
    "X = df.values"
   ]
  },
  {
   "cell_type": "markdown",
   "metadata": {},
   "source": [
    "# Machine Learning"
   ]
  },
  {
   "cell_type": "code",
   "execution_count": 8,
   "metadata": {},
   "outputs": [],
   "source": [
    "\"\"\" This section is for helper functions \"\"\"\n",
    "def print_conf_mtx(y_true, y_pred, classes=None):\n",
    "    \"\"\" Print a confusion matrix (two classes only). \"\"\"\n",
    "    \n",
    "    if not classes:\n",
    "        classes = ['neg', 'pos']\n",
    "   \t \n",
    "    # formatting\n",
    "    max_class_len = max([len(s) for s in classes])\n",
    "    m = max(max_class_len, len('predicted')//2 + 1)\n",
    "    n = max(len('actual')+1, max_class_len)\n",
    "    left   \t= '{:<10s}'.replace('10',str(n))\n",
    "    right  \t= '{:>10s}'.replace('10',str(m))\n",
    "    big_center = '{:^20s}'.replace('20',str(m*2))\n",
    "    \n",
    "    cm = confusion_matrix(y_true, y_pred)\n",
    "    print((left+big_center).format('', 'predicted'))\n",
    "    print((left+right+right).format('actual', classes[0], classes[1]))\n",
    "    print((left+right+right).format(classes[0], str(cm[0,0]), str(cm[0,1])))\n",
    "    print((left+right+right).format(classes[1], str(cm[1,0]), str(cm[1,1])))\n",
    "    \n",
    "\n",
    "# Function that calculates precision and recall and returns a panda series with its corresponding\n",
    "# name and value\n",
    "def precisionAndRecall(true, predicted):\n",
    "    cm = confusion_matrix(true, predicted)\n",
    "    precision = cm[1,1]/(cm[0,1]+cm[1,1])\n",
    "    recall = cm[1,1]/(cm[1,0]+cm[1,1])\n",
    "    result = pd.Series({\"precision\":precision, \"recall\":recall})\n",
    "    return result\n",
    "\n",
    "\n",
    "def plot_roc_curve(fpr, tpr):\n",
    "    plt.plot(fpr, tpr, color='orange', label='ROC')\n",
    "    plt.plot([0, 1], [0, 1], color='darkblue', linestyle='--')\n",
    "    plt.xlabel('False Positive Rate')\n",
    "    plt.ylabel('True Positive Rate')\n",
    "    plt.title('Receiver Operating Characteristic (ROC) Curve')\n",
    "    plt.legend()\n",
    "    plt.show()\n",
    "\n",
    "\n",
    "def getBestFeaturesCV(X_trainz, y_trainz):\n",
    "    remaining = list(range(X_trainz.shape[1]))\n",
    "    selected = []\n",
    "    n = 10\n",
    "    while len(selected) < n:\n",
    "        # find the single features that works best in conjunction\n",
    "        # with the already selected features\n",
    "        accuracy_max = -1e7\n",
    "        for i in remaining:\n",
    "            selected.append(i)\n",
    "            scores = cross_val_score(LogisticRegression(), X_trainz[:,selected], y_trainz, scoring='accuracy', cv=5)\n",
    "            accuracy = scores.mean()\n",
    "            selected.pop()\n",
    "            if(accuracy > accuracy_max):\n",
    "                accuracy_max = accuracy\n",
    "                i_max = i\n",
    "\n",
    "        remaining.remove(i_max)\n",
    "        selected.append(i_max)\n",
    "        print('num features: {}; accuracy: {:.2f}'.format(len(selected), accuracy_max))\n",
    "    return selected\n",
    "\n",
    "def getBestFeatures(X_trainz, y_trainz, X_testz, y_testz):\n",
    "    remaining = list(range(X_trainz.shape[1]))\n",
    "    selected = []\n",
    "    n = 10\n",
    "    while len(selected) < n:\n",
    "        # find the single features that works best in conjunction\n",
    "        # with the already selected features\n",
    "        accuracy_max = -1e7\n",
    "        for i in remaining:\n",
    "            selected.append(i)\n",
    "            log = LogisticRegression()\n",
    "            log.fit(X_trainz[:,selected], y_trainz)\n",
    "            predicts = log.predict(X_testz[:,selected])\n",
    "            accuracy = (predicts == y_testz).mean()\n",
    "            selected.pop()\n",
    "            if(accuracy > accuracy_max):\n",
    "                accuracy_max = accuracy\n",
    "                i_max = i\n",
    "\n",
    "        remaining.remove(i_max)\n",
    "        selected.append(i_max)\n",
    "        print('num features: {}; accuracy: {:.2f}'.format(len(selected), accuracy_max))\n",
    "    return selected\n",
    "\n",
    "\n",
    "def precisionRecallCurve(y_testz, prob_predictsz):\n",
    "    precision, recall, thresholds = precision_recall_curve(y_testz, prob_predictsz)\n",
    "\n",
    "    step_kwargs = ({'step': 'post'}\n",
    "                   if 'step' in signature(plt.fill_between).parameters\n",
    "                   else {})\n",
    "    plt.step(recall, precision, color='b', alpha=0.2,\n",
    "             where='post')\n",
    "    plt.fill_between(recall, precision, alpha=0.2, color='b', **step_kwargs)\n",
    "\n",
    "    plt.xlabel('Recall')\n",
    "    plt.ylabel('Precision')\n",
    "    plt.ylim([0.0, 1.05])\n",
    "    plt.xlim([0.0, 1.0])\n",
    "    plt.title('Precision-Recall curve')\n",
    "    plt.show()"
   ]
  },
  {
   "cell_type": "markdown",
   "metadata": {},
   "source": [
    "The first thing to do is, create training and test data."
   ]
  },
  {
   "cell_type": "code",
   "execution_count": 9,
   "metadata": {},
   "outputs": [],
   "source": [
    "X_train, X_test, y_train, y_test = train_test_split(X, y, test_size=0.25, random_state=0)"
   ]
  },
  {
   "cell_type": "markdown",
   "metadata": {},
   "source": [
    "Find the coefficients for the model."
   ]
  },
  {
   "cell_type": "code",
   "execution_count": 10,
   "metadata": {},
   "outputs": [
    {
     "name": "stdout",
     "output_type": "stream",
     "text": [
      "Intercept: -0.51\n",
      "Coefficients:\n",
      "  age: -0.04\n",
      "  sex: 1.11\n",
      "  restbp: 0.02\n",
      "  chol: 0.01\n",
      "  sugar: -0.19\n",
      "  maxhr: -0.03\n",
      "  angina: 0.53\n",
      "  dep: 0.40\n",
      "  exercise: 0.25\n",
      "  fluor: 1.04\n",
      "  chestpain_2: 0.22\n",
      "  chestpain_3: -0.26\n",
      "  chestpain_4: 1.26\n",
      "  ecg_1: 0.07\n",
      "  ecg_2: 0.48\n",
      "  thal_6: 0.02\n",
      "  thal_7: 1.35\n"
     ]
    }
   ],
   "source": [
    "log = LogisticRegression()\n",
    "log.fit(X, y)\n",
    "\n",
    "print(\"Intercept: {:.2f}\".format(log.intercept_[0]))\n",
    "print(\"Coefficients:\")\n",
    "name = 0\n",
    "for i in log.coef_[0]:\n",
    "    print(\" \",df.columns[name]+\":\", \"{:.2f}\".format(i))\n",
    "    name += 1"
   ]
  },
  {
   "cell_type": "markdown",
   "metadata": {},
   "source": [
    "Based on the output from the model above we can read that restbp, chol and ecg_1 will not have any effect on predictions. \n",
    "\n",
    "Features that have a big impact on predictions are:\n",
    "- sex\n",
    "- fluor\n",
    "- chestpain_4 (asymptomatic)\n",
    "- thal_7 (reversable defect)\n",
    "\n",
    "With this information, those will be the selected features for the first part of predictions."
   ]
  },
  {
   "cell_type": "markdown",
   "metadata": {},
   "source": [
    "### Predicting with sex, fluor, chestpain_4 and thal_7"
   ]
  },
  {
   "cell_type": "code",
   "execution_count": 11,
   "metadata": {},
   "outputs": [],
   "source": [
    "X = df[[\"sex\",\"fluor\",\"chestpain_4\",\"thal_7\"]].values"
   ]
  },
  {
   "cell_type": "markdown",
   "metadata": {},
   "source": [
    "Creating test and training data."
   ]
  },
  {
   "cell_type": "code",
   "execution_count": 12,
   "metadata": {},
   "outputs": [],
   "source": [
    "X_train, X_test, y_train, y_test = train_test_split(X, y, test_size=0.25, random_state=0)"
   ]
  },
  {
   "cell_type": "code",
   "execution_count": 13,
   "metadata": {},
   "outputs": [
    {
     "name": "stdout",
     "output_type": "stream",
     "text": [
      "Accuracy with sex, fluor, chestpain_4 and thal_7: 0.81.\n"
     ]
    }
   ],
   "source": [
    "log = LogisticRegression()\n",
    "log.fit(X_train, y_train)\n",
    "\n",
    "predicts = log.predict(X_test)\n",
    "\n",
    "print(\"Accuracy with sex, fluor, chestpain_4 and thal_7: {:.2f}.\".format(log.score(X_test, y_test)))"
   ]
  },
  {
   "cell_type": "code",
   "execution_count": 14,
   "metadata": {},
   "outputs": [
    {
     "name": "stdout",
     "output_type": "stream",
     "text": [
      "Average accuracy with sex, fluor, chestpain_4 and thal_7 using cross validation with 5 folds: 0.87\n"
     ]
    }
   ],
   "source": [
    "scores = cross_val_score(LogisticRegression(), X_train, y_train, scoring='accuracy', cv=5)\n",
    "print(\"Average accuracy with sex, fluor, chestpain_4 and thal_7 using cross validation with 5 folds: {:.2f}\".format(scores.mean()))"
   ]
  },
  {
   "cell_type": "markdown",
   "metadata": {},
   "source": [
    "The accuracy shown with these four features seems to work good. With cross validation the accuracy goes up by 5 percentage points."
   ]
  },
  {
   "cell_type": "markdown",
   "metadata": {},
   "source": [
    "###### Confusion matrix"
   ]
  },
  {
   "cell_type": "code",
   "execution_count": 15,
   "metadata": {},
   "outputs": [
    {
     "name": "stdout",
     "output_type": "stream",
     "text": [
      "       predicted \n",
      "actual   neg  pos\n",
      "neg       34    6\n",
      "pos        7   21\n"
     ]
    }
   ],
   "source": [
    "print_conf_mtx(y_test, predicts)"
   ]
  },
  {
   "cell_type": "markdown",
   "metadata": {},
   "source": [
    "###### Precision and recall"
   ]
  },
  {
   "cell_type": "code",
   "execution_count": 16,
   "metadata": {},
   "outputs": [
    {
     "name": "stdout",
     "output_type": "stream",
     "text": [
      "Precision: 0.78 Recall: 0.75\n"
     ]
    }
   ],
   "source": [
    "print(\"Precision: {:.2f} Recall: {:.2f}\"\n",
    "      .format(precisionAndRecall(y_test, predicts)[0], precisionAndRecall(y_test, predicts)[1]))"
   ]
  },
  {
   "cell_type": "markdown",
   "metadata": {},
   "source": [
    "Confusion matrix, precision and recall with probability predictions"
   ]
  },
  {
   "cell_type": "code",
   "execution_count": 17,
   "metadata": {},
   "outputs": [
    {
     "name": "stdout",
     "output_type": "stream",
     "text": [
      "       predicted \n",
      "actual   neg  pos\n",
      "neg       34    6\n",
      "pos        7   21\n"
     ]
    }
   ],
   "source": [
    "threshold = 0.5\n",
    "prob_heart_disease = log.predict_proba(X_test)[:,1]\n",
    "prob_predicts = (prob_heart_disease > threshold).astype(int)\n",
    "\n",
    "print_conf_mtx(y_test, prob_predicts)"
   ]
  },
  {
   "cell_type": "code",
   "execution_count": 18,
   "metadata": {},
   "outputs": [
    {
     "name": "stdout",
     "output_type": "stream",
     "text": [
      "Precision: 0.78 Recall: 0.75\n"
     ]
    }
   ],
   "source": [
    "print(\"Precision: {:.2f} Recall: {:.2f}\"\n",
    "      .format(precisionAndRecall(y_test, prob_predicts)[0], precisionAndRecall(y_test, prob_predicts)[1]))"
   ]
  },
  {
   "cell_type": "code",
   "execution_count": 19,
   "metadata": {},
   "outputs": [
    {
     "data": {
      "image/png": "[encoded data removed]",
      "text/plain": [
       "<Figure size 432x288 with 1 Axes>"
      ]
     },
     "metadata": {
      "needs_background": "light"
     },
     "output_type": "display_data"
    }
   ],
   "source": [
    "precisionRecallCurve(y_test, prob_predicts)"
   ]
  },
  {
   "cell_type": "markdown",
   "metadata": {},
   "source": [
    "#### ROC / AUC"
   ]
  },
  {
   "cell_type": "code",
   "execution_count": 20,
   "metadata": {},
   "outputs": [
    {
     "data": {
      "image/png": "[encoded data removed]",
      "text/plain": [
       "<Figure size 432x288 with 1 Axes>"
      ]
     },
     "metadata": {
      "needs_background": "light"
     },
     "output_type": "display_data"
    }
   ],
   "source": [
    "probs = log.predict_proba(X_test)\n",
    "probs = probs[:, 1]\n",
    "\n",
    "fpr, tpr, thresholds = roc_curve(y_test, probs)\n",
    "plot_roc_curve(fpr, tpr)"
   ]
  },
  {
   "cell_type": "code",
   "execution_count": 21,
   "metadata": {},
   "outputs": [
    {
     "name": "stdout",
     "output_type": "stream",
     "text": [
      "AUC: 0.85\n"
     ]
    }
   ],
   "source": [
    "auc = roc_auc_score(y_test, probs)\n",
    "print('AUC: %.2f' % auc)"
   ]
  },
  {
   "cell_type": "markdown",
   "metadata": {},
   "source": [
    "The result for this ROC gives an AUC at 0.85. This can be considered as a good result."
   ]
  },
  {
   "cell_type": "markdown",
   "metadata": {},
   "source": [
    "### Finding the *best* set of feature(s) with forward feature selection"
   ]
  },
  {
   "cell_type": "markdown",
   "metadata": {},
   "source": [
    "After selecting the features by looking at the coefficients, we can look at how to find a better set of features using the well known forward feature selection algorithm. This [Article](https://www.analyticsvidhya.com/blog/2016/12/introduction-to-feature-selection-methods-with-an-example-or-how-to-select-the-right-variables/) is a great resource for how this algorithm works."
   ]
  },
  {
   "cell_type": "markdown",
   "metadata": {},
   "source": [
    "Updating data set to include all features."
   ]
  },
  {
   "cell_type": "code",
   "execution_count": 22,
   "metadata": {},
   "outputs": [],
   "source": [
    "X = df.values\n",
    "X_train, X_test, y_train, y_test = train_test_split(X, y, test_size=0.25, random_state=0)"
   ]
  },
  {
   "cell_type": "markdown",
   "metadata": {},
   "source": [
    "### Best features with cross validation"
   ]
  },
  {
   "cell_type": "markdown",
   "metadata": {},
   "source": [
    "For the result of the below calculations we can see that for the highest accuracy with cross validation we need the following features:\n",
    "- chestpain_4, dep, fluor, thal_7, sex, maxhr\n",
    "\n",
    "Without cross validation the following features is needed to get highest accuracy:\n",
    "- thal_7, maxhr, chestpain_3, restbp"
   ]
  },
  {
   "cell_type": "code",
   "execution_count": 23,
   "metadata": {},
   "outputs": [
    {
     "name": "stdout",
     "output_type": "stream",
     "text": [
      "num features: 1; accuracy: 0.78\n",
      "num features: 2; accuracy: 0.79\n",
      "num features: 3; accuracy: 0.85\n",
      "num features: 4; accuracy: 0.85\n",
      "num features: 5; accuracy: 0.87\n",
      "num features: 6; accuracy: 0.88\n",
      "num features: 7; accuracy: 0.88\n",
      "num features: 8; accuracy: 0.88\n",
      "num features: 9; accuracy: 0.88\n",
      "num features: 10; accuracy: 0.87\n",
      "['chestpain_4' 'dep' 'fluor' 'thal_7' 'sex' 'maxhr' 'sugar' 'ecg_1'\n",
      " 'thal_6' 'restbp']\n"
     ]
    }
   ],
   "source": [
    "best_index = getBestFeaturesCV(X_train, y_train)\n",
    "print(df.columns[best_index].values)"
   ]
  },
  {
   "cell_type": "code",
   "execution_count": 24,
   "metadata": {},
   "outputs": [],
   "source": [
    "X = df[[\"chestpain_4\", \"dep\", \"fluor\", \"thal_7\"]].values\n",
    "X_train, X_test, y_train, y_test = train_test_split(X, y, test_size=0.25, random_state=0)\n",
    "\n",
    "log = LogisticRegression()\n",
    "log.fit(X_train, y_train)\n",
    "\n",
    "predicts = log.predict(X_test)"
   ]
  },
  {
   "cell_type": "markdown",
   "metadata": {},
   "source": [
    "###### Confusion Matrix"
   ]
  },
  {
   "cell_type": "code",
   "execution_count": 25,
   "metadata": {},
   "outputs": [
    {
     "name": "stdout",
     "output_type": "stream",
     "text": [
      "       predicted \n",
      "actual   neg  pos\n",
      "neg       31    9\n",
      "pos        6   22\n"
     ]
    }
   ],
   "source": [
    "print_conf_mtx(y_test, predicts)"
   ]
  },
  {
   "cell_type": "markdown",
   "metadata": {},
   "source": [
    "###### Precision/Recall"
   ]
  },
  {
   "cell_type": "code",
   "execution_count": 26,
   "metadata": {},
   "outputs": [
    {
     "name": "stdout",
     "output_type": "stream",
     "text": [
      "Precision: 0.71 Recall: 0.79\n"
     ]
    }
   ],
   "source": [
    "print(\"Precision: {:.2f} Recall: {:.2f}\"\n",
    "      .format(precisionAndRecall(y_test, predicts)[0], precisionAndRecall(y_test, predicts)[1]))"
   ]
  },
  {
   "cell_type": "markdown",
   "metadata": {},
   "source": [
    "Confusion matrix, precision and recall with probability predictions"
   ]
  },
  {
   "cell_type": "code",
   "execution_count": 27,
   "metadata": {},
   "outputs": [
    {
     "name": "stdout",
     "output_type": "stream",
     "text": [
      "       predicted \n",
      "actual   neg  pos\n",
      "neg       31    9\n",
      "pos        6   22\n"
     ]
    }
   ],
   "source": [
    "threshold = 0.5\n",
    "prob_heart_disease = log.predict_proba(X_test)[:,1]\n",
    "prob_predicts = (prob_heart_disease > threshold).astype(int)\n",
    "\n",
    "print_conf_mtx(y_test, prob_predicts)"
   ]
  },
  {
   "cell_type": "code",
   "execution_count": 28,
   "metadata": {},
   "outputs": [
    {
     "name": "stdout",
     "output_type": "stream",
     "text": [
      "Precision: 0.71 Recall: 0.79\n"
     ]
    }
   ],
   "source": [
    "print(\"Precision: {:.2f} Recall: {:.2f}\"\n",
    "      .format(precisionAndRecall(y_test, prob_predicts)[0], precisionAndRecall(y_test, prob_predicts)[1]))"
   ]
  },
  {
   "cell_type": "code",
   "execution_count": 29,
   "metadata": {},
   "outputs": [
    {
     "data": {
      "image/png": "[encoded data removed]",
      "text/plain": [
       "<Figure size 432x288 with 1 Axes>"
      ]
     },
     "metadata": {
      "needs_background": "light"
     },
     "output_type": "display_data"
    }
   ],
   "source": [
    "precisionRecallCurve(y_test, prob_predicts)"
   ]
  },
  {
   "cell_type": "markdown",
   "metadata": {},
   "source": [
    "###### ROC/AUC"
   ]
  },
  {
   "cell_type": "code",
   "execution_count": 30,
   "metadata": {},
   "outputs": [
    {
     "data": {
      "image/png": "[encoded data removed]",
      "text/plain": [
       "<Figure size 432x288 with 1 Axes>"
      ]
     },
     "metadata": {
      "needs_background": "light"
     },
     "output_type": "display_data"
    }
   ],
   "source": [
    "probs = log.predict_proba(X_test)\n",
    "probs = probs[:, 1]\n",
    "\n",
    "fpr, tpr, thresholds = roc_curve(y_test, probs)\n",
    "plot_roc_curve(fpr, tpr)"
   ]
  },
  {
   "cell_type": "code",
   "execution_count": 31,
   "metadata": {},
   "outputs": [
    {
     "name": "stdout",
     "output_type": "stream",
     "text": [
      "AUC: 0.85\n"
     ]
    }
   ],
   "source": [
    "auc = roc_auc_score(y_test, probs)\n",
    "print('AUC: %.2f' % auc)"
   ]
  },
  {
   "cell_type": "markdown",
   "metadata": {},
   "source": [
    "The result for this ROC gives an AUC at 0.85. This can be considered as a good result."
   ]
  },
  {
   "cell_type": "markdown",
   "metadata": {},
   "source": [
    "### Best features without cross validation"
   ]
  },
  {
   "cell_type": "code",
   "execution_count": 32,
   "metadata": {},
   "outputs": [],
   "source": [
    "X = df.values\n",
    "X_train, X_test, y_train, y_test = train_test_split(X, y, test_size=0.25, random_state=0)"
   ]
  },
  {
   "cell_type": "code",
   "execution_count": 33,
   "metadata": {},
   "outputs": [
    {
     "name": "stdout",
     "output_type": "stream",
     "text": [
      "num features: 1; accuracy: 0.79\n",
      "num features: 2; accuracy: 0.81\n",
      "num features: 3; accuracy: 0.84\n",
      "num features: 4; accuracy: 0.87\n",
      "num features: 5; accuracy: 0.87\n",
      "num features: 6; accuracy: 0.87\n",
      "num features: 7; accuracy: 0.87\n",
      "num features: 8; accuracy: 0.87\n",
      "num features: 9; accuracy: 0.87\n",
      "num features: 10; accuracy: 0.85\n",
      "['thal_7' 'maxhr' 'chestpain_3' 'restbp' 'chol' 'sex' 'sugar' 'ecg_1'\n",
      " 'thal_6' 'age']\n"
     ]
    }
   ],
   "source": [
    "best_index = getBestFeatures(X_train, y_train, X_test, y_test)\n",
    "print(df.columns[best_index].values)"
   ]
  },
  {
   "cell_type": "code",
   "execution_count": 34,
   "metadata": {},
   "outputs": [],
   "source": [
    "X = df[[\"chestpain_4\", \"dep\", \"fluor\", \"thal_7\"]].values\n",
    "X_train, X_test, y_train, y_test = train_test_split(X, y, test_size=0.25, random_state=0)\n",
    "\n",
    "log3 = LogisticRegression()\n",
    "log3.fit(X_train, y_train)\n",
    "\n",
    "predicts = log3.predict(X_test)"
   ]
  },
  {
   "cell_type": "markdown",
   "metadata": {},
   "source": [
    "###### Confusion Matrix"
   ]
  },
  {
   "cell_type": "code",
   "execution_count": 35,
   "metadata": {},
   "outputs": [
    {
     "name": "stdout",
     "output_type": "stream",
     "text": [
      "       predicted \n",
      "actual   neg  pos\n",
      "neg       31    9\n",
      "pos        6   22\n"
     ]
    }
   ],
   "source": [
    "print_conf_mtx(y_test, predicts)"
   ]
  },
  {
   "cell_type": "markdown",
   "metadata": {},
   "source": [
    "###### Precision/Recall"
   ]
  },
  {
   "cell_type": "code",
   "execution_count": 36,
   "metadata": {},
   "outputs": [
    {
     "name": "stdout",
     "output_type": "stream",
     "text": [
      "Precision: 0.71 Recall: 0.79\n"
     ]
    }
   ],
   "source": [
    "print(\"Precision: {:.2f} Recall: {:.2f}\"\n",
    "      .format(precisionAndRecall(y_test, predicts)[0], precisionAndRecall(y_test, predicts)[1]))"
   ]
  },
  {
   "cell_type": "markdown",
   "metadata": {},
   "source": [
    "Confusion matrix, precision and recall with probability predictions"
   ]
  },
  {
   "cell_type": "code",
   "execution_count": 37,
   "metadata": {},
   "outputs": [
    {
     "name": "stdout",
     "output_type": "stream",
     "text": [
      "       predicted \n",
      "actual   neg  pos\n",
      "neg       31    9\n",
      "pos        6   22\n"
     ]
    }
   ],
   "source": [
    "threshold = 0.5\n",
    "prob_heart_disease = log.predict_proba(X_test)[:,1]\n",
    "prob_predicts = (prob_heart_disease > threshold).astype(int)\n",
    "\n",
    "print_conf_mtx(y_test, prob_predicts)"
   ]
  },
  {
   "cell_type": "code",
   "execution_count": 38,
   "metadata": {},
   "outputs": [
    {
     "name": "stdout",
     "output_type": "stream",
     "text": [
      "Precision: 0.71 Recall: 0.79\n"
     ]
    }
   ],
   "source": [
    "print(\"Precision: {:.2f} Recall: {:.2f}\"\n",
    "      .format(precisionAndRecall(y_test, prob_predicts)[0], precisionAndRecall(y_test, prob_predicts)[1]))"
   ]
  },
  {
   "cell_type": "code",
   "execution_count": 39,
   "metadata": {},
   "outputs": [
    {
     "data": {
      "image/png": "[encoded data removed]",
      "text/plain": [
       "<Figure size 432x288 with 1 Axes>"
      ]
     },
     "metadata": {
      "needs_background": "light"
     },
     "output_type": "display_data"
    }
   ],
   "source": [
    "precisionRecallCurve(y_test, prob_predicts)"
   ]
  },
  {
   "cell_type": "markdown",
   "metadata": {},
   "source": [
    "###### ROC/AUC"
   ]
  },
  {
   "cell_type": "code",
   "execution_count": 40,
   "metadata": {},
   "outputs": [
    {
     "data": {
      "image/png": "[encoded data removed]",
      "text/plain": [
       "<Figure size 432x288 with 1 Axes>"
      ]
     },
     "metadata": {
      "needs_background": "light"
     },
     "output_type": "display_data"
    }
   ],
   "source": [
    "probs = log.predict_proba(X_test)\n",
    "probs = probs[:, 1]\n",
    "\n",
    "fpr, tpr, thresholds = roc_curve(y_test, probs)\n",
    "plot_roc_curve(fpr, tpr)"
   ]
  },
  {
   "cell_type": "code",
   "execution_count": 41,
   "metadata": {},
   "outputs": [
    {
     "name": "stdout",
     "output_type": "stream",
     "text": [
      "AUC: 0.85\n"
     ]
    }
   ],
   "source": [
    "auc = roc_auc_score(y_test, probs)\n",
    "print('AUC: %.2f' % auc)"
   ]
  },
  {
   "cell_type": "markdown",
   "metadata": {},
   "source": [
    "The result for this ROC gives an AUC at 0.85. This can be considered as a good result."
   ]
  },
  {
   "cell_type": "markdown",
   "metadata": {},
   "source": [
    "### Conclusion"
   ]
  },
  {
   "cell_type": "markdown",
   "metadata": {},
   "source": [
    "To determine if a patient has heart disease or not, we can see that knowing sex, fluor, chestpain_4 (asymptomatic), thal_7 (reversable defect) gives pretty good accuracy. Comparing these results with forward feature selection we can see a great improvement of the accuracy. The best accuracy for this dataset is by using chestpain_4, dep, fluor, thal_7, sex, maxhr at 88 percent.\n",
    "\n",
    "For ROC/AUC and precision/recall it seems to have a bug in the code somewhere, because the reusults are the same."
   ]
  },
  {
   "cell_type": "code",
   "execution_count": null,
   "metadata": {},
   "outputs": [],
   "source": []
  }
 ],
 "metadata": {
  "kernelspec": {
   "display_name": "Python 3",
   "language": "python",
   "name": "python3"
  },
  "language_info": {
   "codemirror_mode": {
    "name": "ipython",
    "version": 3
   },
   "file_extension": ".py",
   "mimetype": "text/x-python",
   "name": "python",
   "nbconvert_exporter": "python",
   "pygments_lexer": "ipython3",
   "version": "3.7.3"
  }
 },
 "nbformat": 4,
 "nbformat_minor": 2
}
